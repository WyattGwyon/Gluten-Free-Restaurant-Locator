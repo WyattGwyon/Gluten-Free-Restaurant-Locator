{
 "cells": [
  {
   "cell_type": "code",
   "execution_count": 2,
   "metadata": {},
   "outputs": [],
   "source": [
    "from pymongo import MongoClient\n",
    "from dotenv import load_dotenv\n",
    "import os\n",
    "import requests\n",
    "import json\n",
    "from urllib.parse import urlencode, urlparse, parse_qsl\n",
    "import pickle"
   ]
  },
  {
   "cell_type": "markdown",
   "metadata": {},
   "source": [
    "# Explore Google API, let's see what we find"
   ]
  },
  {
   "cell_type": "code",
   "execution_count": 9,
   "metadata": {},
   "outputs": [
    {
     "data": {
      "text/plain": [
       "Database(MongoClient(host=['localhost:27017'], document_class=dict, tz_aware=False, connect=True), 'celiacdb')"
      ]
     },
     "execution_count": 9,
     "metadata": {},
     "output_type": "execute_result"
    }
   ],
   "source": [
    "db"
   ]
  },
  {
   "cell_type": "code",
   "execution_count": 70,
   "metadata": {},
   "outputs": [
    {
     "data": {
      "text/plain": [
       "True"
      ]
     },
     "execution_count": 70,
     "metadata": {},
     "output_type": "execute_result"
    }
   ],
   "source": [
    "# We are importing our API key\n",
    "load_dotenv()"
   ]
  },
  {
   "cell_type": "code",
   "execution_count": 71,
   "metadata": {},
   "outputs": [],
   "source": [
    "g_key = os.getenv(\"GOOGLE_KEY2\")"
   ]
  },
  {
   "cell_type": "code",
   "execution_count": 36,
   "metadata": {},
   "outputs": [],
   "source": [
    "# Our first dive into Google API looking for gluten free\n",
    "data_type = \"json\"\n",
    "endpoint = f\"https://maps.googleapis.com/maps/api/place/findplacefromtext/{data_type}\"\n",
    "params = {\n",
    "    \n",
    "    \"input\":\"gluten-free\",\n",
    "    \"inputtype\":\"textquery\",\n",
    "    \"fields\":\"formatted_address,name,geometry\",\n",
    "    \"locationbias\":\"point:lat,lng\",\n",
    "    \"key\": f\"{g_key}\"\n",
    "}\n",
    "\n",
    "url_params = urlencode(params)\n",
    "url = f\"{endpoint}?{url_params}\""
   ]
  },
  {
   "cell_type": "code",
   "execution_count": 37,
   "metadata": {},
   "outputs": [],
   "source": [
    "data = requests.get(url)"
   ]
  },
  {
   "cell_type": "code",
   "execution_count": 38,
   "metadata": {},
   "outputs": [
    {
     "data": {
      "text/plain": [
       "<Response [200]>"
      ]
     },
     "execution_count": 38,
     "metadata": {},
     "output_type": "execute_result"
    }
   ],
   "source": [
    "# We have a postive response\n",
    "data"
   ]
  },
  {
   "cell_type": "code",
   "execution_count": 39,
   "metadata": {},
   "outputs": [
    {
     "data": {
      "text/plain": [
       "requests.models.Response"
      ]
     },
     "execution_count": 39,
     "metadata": {},
     "output_type": "execute_result"
    }
   ],
   "source": [
    "type(data)"
   ]
  },
  {
   "cell_type": "code",
   "execution_count": 40,
   "metadata": {},
   "outputs": [],
   "source": [
    "data = data.json()"
   ]
  },
  {
   "cell_type": "code",
   "execution_count": 41,
   "metadata": {},
   "outputs": [
    {
     "data": {
      "text/plain": [
       "dict"
      ]
     },
     "execution_count": 41,
     "metadata": {},
     "output_type": "execute_result"
    }
   ],
   "source": [
    "type(data)"
   ]
  },
  {
   "cell_type": "code",
   "execution_count": 42,
   "metadata": {},
   "outputs": [
    {
     "name": "stdout",
     "output_type": "stream",
     "text": [
      "{'candidates': [{'formatted_address': 'Calle de Hortaleza, 3, 28004 Madrid, España', 'geometry': {'location': {'lat': 40.420441, 'lng': -3.701066}, 'viewport': {'northeast': {'lat': 40.42177422989272, 'lng': -3.699668270107278}, 'southwest': {'lat': 40.41907457010728, 'lng': -3.702367929892722}}}, 'name': 'Celicioso'}], 'status': 'OK'}\n"
     ]
    }
   ],
   "source": [
    "# I suppose that because we weren't really specific we didn't get much of a results\n",
    "# but at least we know it works\n",
    "print(data)"
   ]
  },
  {
   "cell_type": "code",
   "execution_count": 51,
   "metadata": {},
   "outputs": [],
   "source": [
    "# Let's get serious here and create a funtcion that we can reuse\n",
    "def nearby_search(lat, long, radius_in_meters, keyword):\n",
    "    endpoint = \"https://maps.googleapis.com/maps/api/place/nearbysearch/json\"\n",
    "    params = {\n",
    "\n",
    "        \"location\":f\"{lat},{long}\",\n",
    "        \"radius\":f\"{radius_in_meters}\",\n",
    "        #\"rankby\" : \"<distance - must include keyword,name,or type\",\n",
    "        \"keyword\":f\"{keyword}\",\n",
    "        \"inputtype\":\"textquery\",\n",
    "        \"fields\":\"formatted_address,name,geometry\",\n",
    "        \"key\": f\"{g_key}\"\n",
    "    }\n",
    "\n",
    "    \n",
    "    url_params = urlencode(params)\n",
    "    url = f\"{endpoint}?{url_params}\"\n",
    "    data = requests.get(url)\n",
    "    return data.json()"
   ]
  },
  {
   "cell_type": "code",
   "execution_count": 61,
   "metadata": {},
   "outputs": [],
   "source": [
    "gluten_free = nearby_search(40.420011, -3.701842, 10_000, \"gluten-free\")"
   ]
  },
  {
   "cell_type": "code",
   "execution_count": 65,
   "metadata": {},
   "outputs": [],
   "source": [
    "goog_gf = gluten_free[\"results\"]"
   ]
  },
  {
   "cell_type": "code",
   "execution_count": 66,
   "metadata": {},
   "outputs": [
    {
     "data": {
      "text/plain": [
       "20"
      ]
     },
     "execution_count": 66,
     "metadata": {},
     "output_type": "execute_result"
    }
   ],
   "source": [
    "# Oh....it's like getting Christmas presents!!! \n",
    "len(goog_gf)"
   ]
  },
  {
   "cell_type": "code",
   "execution_count": 69,
   "metadata": {},
   "outputs": [
    {
     "data": {
      "text/plain": [
       "{'business_status': 'CLOSED_TEMPORARILY',\n",
       " 'geometry': {'location': {'lat': 40.4340759, 'lng': -3.7085295},\n",
       "  'viewport': {'northeast': {'lat': 40.43542857989272,\n",
       "    'lng': -3.707249820107279},\n",
       "   'southwest': {'lat': 40.43272892010728, 'lng': -3.709949479892722}}},\n",
       " 'icon': 'https://maps.gstatic.com/mapfiles/place_api/icons/v1/png_71/restaurant-71.png',\n",
       " 'name': 'Kint',\n",
       " 'permanently_closed': True,\n",
       " 'photos': [{'height': 4608,\n",
       "   'html_attributions': ['<a href=\"https://maps.google.com/maps/contrib/108913216153539893740\">Laura Garmo</a>'],\n",
       "   'photo_reference': 'ATtYBwIsfqa-oYr2g4DOfQ8vz8feUq0t5pZZ6JmgeQov7iuoQ27VrTnjmmzn3nS1IGd87wjWnxtaBlfFuLFQSfmYefgRUzrs9M5uc70E-6jht2Aj1sjRvcJ5ZfOVRlzCccxMBJdr5UQZ8ca0o8_IRV5jIeEkvJurRnHiPhHLODdgXCFrxFk4',\n",
       "   'width': 3456}],\n",
       " 'place_id': 'ChIJS1Nr5l0oQg0RuXCYXOa0yFc',\n",
       " 'plus_code': {'compound_code': 'C7MR+JH Madrid',\n",
       "  'global_code': '8CGRC7MR+JH'},\n",
       " 'rating': 4.2,\n",
       " 'reference': 'ChIJS1Nr5l0oQg0RuXCYXOa0yFc',\n",
       " 'scope': 'GOOGLE',\n",
       " 'types': ['restaurant', 'food', 'point_of_interest', 'establishment'],\n",
       " 'user_ratings_total': 112,\n",
       " 'vicinity': 'Calle de Vallehermoso, 36, Madrid'}"
      ]
     },
     "execution_count": 69,
     "metadata": {},
     "output_type": "execute_result"
    }
   ],
   "source": [
    "# Let's open them and see what we got!\n",
    "goog_gf[0]"
   ]
  },
  {
   "cell_type": "code",
   "execution_count": 3,
   "metadata": {},
   "outputs": [
    {
     "ename": "NameError",
     "evalue": "name 'goog_gf' is not defined",
     "output_type": "error",
     "traceback": [
      "\u001b[0;31m---------------------------------------------------------------------------\u001b[0m",
      "\u001b[0;31mNameError\u001b[0m                                 Traceback (most recent call last)",
      "\u001b[0;32m<ipython-input-3-6819ce761725>\u001b[0m in \u001b[0;36m<module>\u001b[0;34m\u001b[0m\n\u001b[1;32m      1\u001b[0m \u001b[0mpickle_out\u001b[0m \u001b[0;34m=\u001b[0m \u001b[0mopen\u001b[0m\u001b[0;34m(\u001b[0m\u001b[0;34m\"/Users/claytonlouden/projects/final_project/pickled/goog_gf.pickle\"\u001b[0m\u001b[0;34m,\u001b[0m\u001b[0;34m\"wb\"\u001b[0m\u001b[0;34m)\u001b[0m\u001b[0;34m\u001b[0m\u001b[0;34m\u001b[0m\u001b[0m\n\u001b[0;32m----> 2\u001b[0;31m \u001b[0mpickle\u001b[0m\u001b[0;34m.\u001b[0m\u001b[0mdump\u001b[0m\u001b[0;34m(\u001b[0m\u001b[0mgoog_gf\u001b[0m\u001b[0;34m,\u001b[0m \u001b[0mpickle_out\u001b[0m\u001b[0;34m)\u001b[0m\u001b[0;34m\u001b[0m\u001b[0;34m\u001b[0m\u001b[0m\n\u001b[0m\u001b[1;32m      3\u001b[0m \u001b[0mpickle_out\u001b[0m\u001b[0;34m.\u001b[0m\u001b[0mclose\u001b[0m\u001b[0;34m(\u001b[0m\u001b[0;34m)\u001b[0m\u001b[0;34m\u001b[0m\u001b[0;34m\u001b[0m\u001b[0m\n",
      "\u001b[0;31mNameError\u001b[0m: name 'goog_gf' is not defined"
     ]
    }
   ],
   "source": [
    "pickle_out = open(\"/Users/claytonlouden/projects/final_project/pickled/goog_gf.pickle\",\"wb\")\n",
    "pickle.dump(goog_gf, pickle_out)\n",
    "pickle_out.close()"
   ]
  },
  {
   "cell_type": "code",
   "execution_count": null,
   "metadata": {},
   "outputs": [],
   "source": []
  }
 ],
 "metadata": {
  "kernelspec": {
   "display_name": "Python 3",
   "language": "python",
   "name": "python3"
  },
  "language_info": {
   "codemirror_mode": {
    "name": "ipython",
    "version": 3
   },
   "file_extension": ".py",
   "mimetype": "text/x-python",
   "name": "python",
   "nbconvert_exporter": "python",
   "pygments_lexer": "ipython3",
   "version": "3.8.5"
  }
 },
 "nbformat": 4,
 "nbformat_minor": 4
}
