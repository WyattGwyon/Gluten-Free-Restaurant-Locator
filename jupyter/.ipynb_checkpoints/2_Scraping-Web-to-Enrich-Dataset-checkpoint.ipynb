{
 "cells": [
  {
   "cell_type": "code",
   "execution_count": 549,
   "metadata": {},
   "outputs": [],
   "source": [
    "import requests\n",
    "from bs4 import BeautifulSoup\n",
    "import pandas as pd\n",
    "import re\n",
    "import pickle"
   ]
  },
  {
   "cell_type": "markdown",
   "metadata": {},
   "source": [
    "# First we are going to scrape `findmeglutenfree.com` as `gf`"
   ]
  },
  {
   "cell_type": "code",
   "execution_count": 329,
   "metadata": {},
   "outputs": [],
   "source": [
    "# This is the way we connect to the webpage we are going to scrape\n",
    "data_gf = requests.get(\"https://www.findmeglutenfree.com/es/madrid\")"
   ]
  },
  {
   "cell_type": "code",
   "execution_count": 330,
   "metadata": {},
   "outputs": [
    {
     "data": {
      "text/plain": [
       "200"
      ]
     },
     "execution_count": 330,
     "metadata": {},
     "output_type": "execute_result"
    }
   ],
   "source": [
    "# Response code of 200 is good\n",
    "data_gf.status_code"
   ]
  },
  {
   "cell_type": "code",
   "execution_count": 331,
   "metadata": {},
   "outputs": [],
   "source": [
    "# We are now putting the website throught the BS parser\n",
    "soup = BeautifulSoup(data_gf.text)"
   ]
  },
  {
   "cell_type": "code",
   "execution_count": 332,
   "metadata": {},
   "outputs": [
    {
     "data": {
      "text/plain": [
       "bs4.element.ResultSet"
      ]
     },
     "execution_count": 332,
     "metadata": {},
     "output_type": "execute_result"
    }
   ],
   "source": [
    "# Here we grabbed all the \"div\" tags to explore what we get\n",
    "div = soup.select(\"div\")\n",
    "type(div)"
   ]
  },
  {
   "cell_type": "code",
   "execution_count": 333,
   "metadata": {},
   "outputs": [
    {
     "data": {
      "text/plain": [
       "153"
      ]
     },
     "execution_count": 333,
     "metadata": {},
     "output_type": "execute_result"
    }
   ],
   "source": [
    "# the 5th Index of this list contains what we are looking for\n",
    "len(div)"
   ]
  },
  {
   "cell_type": "code",
   "execution_count": 334,
   "metadata": {},
   "outputs": [],
   "source": [
    "# This is a little more precise but we still don't have exactly what we want\n",
    "ul = soup.select(\"ul.list-unstyled.mt-4.mb-4\")"
   ]
  },
  {
   "cell_type": "code",
   "execution_count": 335,
   "metadata": {},
   "outputs": [],
   "source": [
    "# Here is the precise location of the names of our restaruants saved to a variable \"name\"\n",
    "name = soup.select(\"a.align-middle\")"
   ]
  },
  {
   "cell_type": "code",
   "execution_count": 336,
   "metadata": {},
   "outputs": [
    {
     "data": {
      "text/plain": [
       "30"
      ]
     },
     "execution_count": 336,
     "metadata": {},
     "output_type": "execute_result"
    }
   ],
   "source": [
    "# We have to extract the contents contained in these tags and save them\n",
    "# This is our list of restaurant names\n",
    "grest = [n.contents for n in name]\n",
    "len(grest)"
   ]
  },
  {
   "cell_type": "code",
   "execution_count": 413,
   "metadata": {},
   "outputs": [
    {
     "data": {
      "text/plain": [
       "['Taberna La Concha',\n",
       " 'El Arrozal',\n",
       " 'Da Nicola Gran Vía',\n",
       " 'Rosa Negra Madrid',\n",
       " 'Sana Locura Gluten Free Bakery']"
      ]
     },
     "execution_count": 413,
     "metadata": {},
     "output_type": "execute_result"
    }
   ],
   "source": [
    "# This converts our list of lists to a list of items\n",
    "gf_rest = [name[0] for name in grest]\n",
    "gf_rest[:5]   "
   ]
  },
  {
   "cell_type": "code",
   "execution_count": 343,
   "metadata": {},
   "outputs": [],
   "source": [
    "# Here we have the addresses of out restaurants\n",
    "address = soup.select(\"span.sl-addr.mt-2\")"
   ]
  },
  {
   "cell_type": "code",
   "execution_count": 344,
   "metadata": {},
   "outputs": [
    {
     "data": {
      "text/plain": [
       "30"
      ]
     },
     "execution_count": 344,
     "metadata": {},
     "output_type": "execute_result"
    }
   ],
   "source": [
    "# Now they have been extracted we will need to combine the names and the addresses in the database\n",
    "gaddr = [a.contents for a in address]\n",
    "len(gaddr)"
   ]
  },
  {
   "cell_type": "code",
   "execution_count": 414,
   "metadata": {},
   "outputs": [
    {
     "data": {
      "text/plain": [
       "['Calle Cava Baja, 7, 28005 Madrid, Spain',\n",
       " 'Calle Segovia, 13, 28005 Madrid, Spain',\n",
       " 'Plaza de los Mostenses, 11, 28015 Madrid, Community of Madrid, Spain',\n",
       " 'Calle del León, 16, 28014 Madrid, Madrid, Spain',\n",
       " 'Calle del Gral Oraá, 49, 28006 Madrid, Spain']"
      ]
     },
     "execution_count": 414,
     "metadata": {},
     "output_type": "execute_result"
    }
   ],
   "source": [
    "# This converts our list of lists to a list of items\n",
    "gf_addr = [name[0] for name in gaddr]\n",
    "gf_addr[:5]"
   ]
  },
  {
   "cell_type": "markdown",
   "metadata": {},
   "source": [
    "# Next we are going to scrape `happyceliac.com` as `hc`\n",
    "**First the name**"
   ]
  },
  {
   "cell_type": "code",
   "execution_count": 234,
   "metadata": {},
   "outputs": [],
   "source": [
    "# We start the process over again for happyceliac.com\n",
    "data_hc = requests.get(\"https://www.happyceliac.com/gluten-free-madrid/\")"
   ]
  },
  {
   "cell_type": "code",
   "execution_count": 235,
   "metadata": {},
   "outputs": [
    {
     "data": {
      "text/plain": [
       "<Response [200]>"
      ]
     },
     "execution_count": 235,
     "metadata": {},
     "output_type": "execute_result"
    }
   ],
   "source": [
    "data_hc"
   ]
  },
  {
   "cell_type": "code",
   "execution_count": 436,
   "metadata": {},
   "outputs": [],
   "source": [
    "soup = BeautifulSoup(data_hc.text)"
   ]
  },
  {
   "cell_type": "code",
   "execution_count": null,
   "metadata": {},
   "outputs": [],
   "source": [
    "name = soup.select(\"h3\")"
   ]
  },
  {
   "cell_type": "code",
   "execution_count": 301,
   "metadata": {},
   "outputs": [
    {
     "data": {
      "text/plain": [
       "[['Asador Maribel']]"
      ]
     },
     "execution_count": 301,
     "metadata": {},
     "output_type": "execute_result"
    }
   ],
   "source": [
    "# We had one name at the end of the list that was still nesting bewteen tags \n",
    "# We are extracting it from the tags here\n",
    "rest = [n.contents for n in name]\n",
    "rest = rest[:-9]\n",
    "r = [n.contents for n in rest[-1]]"
   ]
  },
  {
   "cell_type": "code",
   "execution_count": 419,
   "metadata": {},
   "outputs": [
    {
     "data": {
      "text/plain": [
       "[['La Oriental Sin Gluten ★'],\n",
       " ['Celikatessen ★'],\n",
       " ['Sana Local ★'],\n",
       " ['Bico de Xeado\\xa0'],\n",
       " ['Asador Maribel']]"
      ]
     },
     "execution_count": 419,
     "metadata": {},
     "output_type": "execute_result"
    }
   ],
   "source": [
    "# We are replacing that extracted item back into the list where is was\n",
    "rest[-1]=r[0]\n",
    "rest[-5:]"
   ]
  },
  {
   "cell_type": "code",
   "execution_count": null,
   "metadata": {},
   "outputs": [],
   "source": [
    "# We create a list of items\n",
    "hc_rest = []\n",
    "for n in rest:\n",
    "    line = re.sub(r\"^\\s|\\s$|\\s[★]\", \"\", n[0])\n",
    "    hc_rest.append(line)\n",
    "hc_rest"
   ]
  },
  {
   "cell_type": "markdown",
   "metadata": {},
   "source": [
    "**Now the Address**"
   ]
  },
  {
   "cell_type": "code",
   "execution_count": null,
   "metadata": {},
   "outputs": [],
   "source": [
    "address = soup.select(\"em\")\n",
    "address"
   ]
  },
  {
   "cell_type": "code",
   "execution_count": null,
   "metadata": {},
   "outputs": [],
   "source": [
    "# There were some unwanted items in this list so we selected the index of the desired lines\n",
    "addr = [a.contents for a in address[1:-9]]\n",
    "addr"
   ]
  },
  {
   "cell_type": "code",
   "execution_count": 442,
   "metadata": {},
   "outputs": [
    {
     "data": {
      "text/plain": [
       "['Calle de Ventura de la Vega, 4, 28014 Madrid, Spain | ',\n",
       " 'Calle de Echegaray, 5, 28014 Madrid, Spain | ',\n",
       " 'Calle de Castilla, 62, 28039 Madrid, Spain | ',\n",
       " 'Plaza Mostenses, 11, 28015 Madrid, Spain | ',\n",
       " 'Calle de Segovia, 13, 28005 Madrid, Spain | ']"
      ]
     },
     "execution_count": 442,
     "metadata": {},
     "output_type": "execute_result"
    }
   ],
   "source": [
    "# and we selected the first index of each list-type item because that contained the address\n",
    "new = [line[0] for line in addr]\n",
    "new[:5]"
   ]
  },
  {
   "cell_type": "code",
   "execution_count": null,
   "metadata": {},
   "outputs": [],
   "source": [
    "# Here we cleaned the addresses and they look good\n",
    "hc_addr = []\n",
    "for l in new:\n",
    "    line = re.sub(r\"\\s[|]\\s.*\", \"\", l)\n",
    "    hc_addr.append(line)"
   ]
  },
  {
   "cell_type": "code",
   "execution_count": 443,
   "metadata": {},
   "outputs": [
    {
     "name": "stdout",
     "output_type": "stream",
     "text": [
      "['Calle de Ventura de la Vega, 4, 28014 Madrid, Spain', 'Calle de Echegaray, 5, 28014 Madrid, Spain', 'Calle de Castilla, 62, 28039 Madrid, Spain', 'Plaza Mostenses, 11, 28015 Madrid, Spain', 'Calle de Segovia, 13, 28005 Madrid, Spain']\n"
     ]
    },
    {
     "data": {
      "text/plain": [
       "18"
      ]
     },
     "execution_count": 443,
     "metadata": {},
     "output_type": "execute_result"
    }
   ],
   "source": [
    "print(hc_addr[:5])\n",
    "len(hc_addr)"
   ]
  },
  {
   "cell_type": "markdown",
   "metadata": {},
   "source": [
    "# We are going to scrape the `viajarsingluten` as `vsg`"
   ]
  },
  {
   "cell_type": "code",
   "execution_count": 484,
   "metadata": {},
   "outputs": [],
   "source": [
    "vsg_rest_tot = []\n",
    "vsg_addr_tot = []\n",
    "\n",
    "# These are all the next page links\n",
    "url_list = [\"https://www.viajarsingluten.com/restaurantes-sin-gluten-madrid-1_6047/\",\n",
    "            \"https://www.viajarsingluten.com/restaurantes-sin-gluten-madrid-1_6047/2/\",\n",
    "            \"https://www.viajarsingluten.com/restaurantes-sin-gluten-madrid-1_6047/3/\",\n",
    "            \"https://www.viajarsingluten.com/restaurantes-sin-gluten-madrid-1_6047/4/\"]\n",
    "\n",
    "\n",
    "# This loops through each url and grabs what we need and converts it to a list\n",
    "for url in url_list:\n",
    "    # Empty nested lists \n",
    "    vsg_rest = []\n",
    "    vsg_addr = []\n",
    "\n",
    "    # Get url\n",
    "    print(url)\n",
    "    data_vsg = requests.get(url)\n",
    "    soup = BeautifulSoup(data_vsg.text)\n",
    "    \n",
    "    # Select specific tags\n",
    "    names = soup.select(\"div.nombre\")\n",
    "    address = soup.select(\"div.dir\")\n",
    "    \n",
    "    # Select \"a\" tags within \"nombre\" tags\n",
    "    name = [n.select(\"a\") for n in names]\n",
    "\n",
    "    # Extract contents from tags\n",
    "    vrest = [n[0].contents for n in name]\n",
    "    vaddr = [a.contents for a in address]\n",
    "\n",
    "    # Create a list of items from list of lists\n",
    "    vsg_rest = [name[0] for name in vrest] \n",
    "    vsg_addr = [name[0] for name in vaddr]\n",
    "    \n",
    "    # Append alll findings to master list\n",
    "    vsg_rest_tot.append(vsg_rest)\n",
    "    vsg_addr_tot.append(vsg_addr)       "
   ]
  },
  {
   "cell_type": "code",
   "execution_count": 516,
   "metadata": {},
   "outputs": [
    {
     "data": {
      "text/plain": [
       "['Vips Méndez Álvaro',\n",
       " 'Ginos Palacio de Hielo',\n",
       " 'Hotel Meliá Castilla',\n",
       " 'Telepizza',\n",
       " 'Telepizza',\n",
       " \"Tommy Mel's \",\n",
       " 'Telepizza',\n",
       " 'Rodilla',\n",
       " 'VIPS Moncloa',\n",
       " 'VIPS Smart Manoteras',\n",
       " 'Hotel Axor Barajas',\n",
       " 'Rodilla',\n",
       " 'Telepizza',\n",
       " 'Distrito Vegano',\n",
       " 'Fridays Vaguada',\n",
       " 'Fit Fat Food',\n",
       " 'Telepizza',\n",
       " 'Ginos Caleruega',\n",
       " ' Viva Burger',\n",
       " 'Mc Donald´s']"
      ]
     },
     "execution_count": 516,
     "metadata": {},
     "output_type": "execute_result"
    }
   ],
   "source": [
    "# That worked! We need to flatten this list of lists.  \n",
    "# Not a very elegant solution but...quick...while no one's looking! \n",
    "vsg_flat_rest = [y for x in vsg_rest_tot for y in x]\n",
    "vsg_flat_rest[20:30]"
   ]
  },
  {
   "cell_type": "code",
   "execution_count": null,
   "metadata": {},
   "outputs": [],
   "source": [
    "# There we have eliminated that space in case it causes us problems when searching in Google's API\n",
    "for index, name in enumerate(vsg_flat_rest): \n",
    "    clean = re.sub(r\"^\\s\", \"\", name)\n",
    "    vsg_flat_rest[index] = clean    "
   ]
  },
  {
   "cell_type": "code",
   "execution_count": 519,
   "metadata": {},
   "outputs": [
    {
     "data": {
      "text/plain": [
       "['Hotel Axor Barajas',\n",
       " 'Rodilla',\n",
       " 'Telepizza',\n",
       " 'Distrito Vegano',\n",
       " 'Fridays Vaguada',\n",
       " 'Fit Fat Food',\n",
       " 'Telepizza',\n",
       " 'Ginos Caleruega',\n",
       " 'Viva Burger',\n",
       " 'Mc Donald´s']"
      ]
     },
     "execution_count": 519,
     "metadata": {},
     "output_type": "execute_result"
    }
   ],
   "source": [
    "vsg_flat_rest[20:30]"
   ]
  },
  {
   "cell_type": "code",
   "execution_count": 523,
   "metadata": {},
   "outputs": [
    {
     "data": {
      "text/plain": [
       "['Princesa 89, Intercambiador Moncloa - 28009 - Madrid (Madrid)',\n",
       " 'C.E. PARQUE NORTE / C/ Serrano Galvache, 56 - 28033 - Madrid (Madrid)',\n",
       " ' Paseo de las Yeserías, 7 dcha - 28005 - Madrid (Madrid)',\n",
       " 'Montera, 47 - 28013 - Madrid (Madrid)',\n",
       " 'Pº de la Castellana, 89 - 28046 - Madrid (Madrid)']"
      ]
     },
     "execution_count": 523,
     "metadata": {},
     "output_type": "execute_result"
    }
   ],
   "source": [
    "# Now do the same with the addresses: flatten and trim that extra white space\n",
    "vsg_flat_addr = [y for x in vsg_addr_tot for y in x]\n",
    "vsg_flat_addr[30:35]"
   ]
  },
  {
   "cell_type": "code",
   "execution_count": 524,
   "metadata": {},
   "outputs": [],
   "source": [
    "for index, addr in enumerate(vsg_flat_addr): \n",
    "    clean = re.sub(r\"^\\s\", \"\", addr)\n",
    "    vsg_flat_addr[index] = clean    "
   ]
  },
  {
   "cell_type": "code",
   "execution_count": 525,
   "metadata": {},
   "outputs": [
    {
     "data": {
      "text/plain": [
       "['Princesa 89, Intercambiador Moncloa - 28009 - Madrid (Madrid)',\n",
       " 'C.E. PARQUE NORTE / C/ Serrano Galvache, 56 - 28033 - Madrid (Madrid)',\n",
       " 'Paseo de las Yeserías, 7 dcha - 28005 - Madrid (Madrid)',\n",
       " 'Montera, 47 - 28013 - Madrid (Madrid)',\n",
       " 'Pº de la Castellana, 89 - 28046 - Madrid (Madrid)']"
      ]
     },
     "execution_count": 525,
     "metadata": {},
     "output_type": "execute_result"
    }
   ],
   "source": [
    "vsg_flat_addr[30:35]"
   ]
  },
  {
   "cell_type": "markdown",
   "metadata": {},
   "source": [
    "# Finally, we need to combine these lists into dictionaries"
   ]
  },
  {
   "cell_type": "code",
   "execution_count": null,
   "metadata": {},
   "outputs": [],
   "source": [
    "# These are lists of items\n",
    "gf_rest\n",
    "gf_addr\n",
    "hc_rest\n",
    "hc_addr\n",
    "\n",
    "# These are much longer lists that we might use\n",
    "vsg_flat_rest\n",
    "vsg_flat_addr"
   ]
  },
  {
   "cell_type": "code",
   "execution_count": 532,
   "metadata": {},
   "outputs": [],
   "source": [
    "# Lets let's make a function to do the work for us.\n",
    "gf_list = []\n",
    "\n",
    "def add_n_a_lists_to_dict(namelist, addresslist, list_dict):\n",
    "    results = set(zip(namelist,addresslist))\n",
    "    for tup in results:\n",
    "        dic = {}\n",
    "        dic[\"name\"] = tup[0]\n",
    "        dic[\"address\"] = tup[1]\n",
    "        list_dict.append(dic)\n",
    "    return list_dict"
   ]
  },
  {
   "cell_type": "code",
   "execution_count": null,
   "metadata": {},
   "outputs": [],
   "source": [
    "add_n_a_lists_to_dict(gf_rest,gf_addr, gf_list)\n",
    "add_n_a_lists_to_dict(hc_rest,hc_addr, gf_list)"
   ]
  },
  {
   "cell_type": "code",
   "execution_count": 539,
   "metadata": {},
   "outputs": [],
   "source": [
    "first_places = gf_list"
   ]
  },
  {
   "cell_type": "code",
   "execution_count": 541,
   "metadata": {},
   "outputs": [
    {
     "data": {
      "text/plain": [
       "48"
      ]
     },
     "execution_count": 541,
     "metadata": {},
     "output_type": "execute_result"
    }
   ],
   "source": [
    "len(first_places)"
   ]
  },
  {
   "cell_type": "code",
   "execution_count": 528,
   "metadata": {},
   "outputs": [
    {
     "data": {
      "text/plain": [
       "{'name': 'New York Burger',\n",
       " 'address': 'Calle del Gral Yagüe, 5, 28020 Madrid, Madrid, Spain'}"
      ]
     },
     "execution_count": 528,
     "metadata": {},
     "output_type": "execute_result"
    }
   ],
   "source": [
    "first_places[0]\n"
   ]
  },
  {
   "cell_type": "code",
   "execution_count": 529,
   "metadata": {},
   "outputs": [
    {
     "data": {
      "text/plain": [
       "[\"Alfredo's Barbacoa Restaurant\",\n",
       " 'Calle de Juan Hurtado de Mendoza, 11, 28036 Madrid, Madrid, Spain']"
      ]
     },
     "execution_count": 529,
     "metadata": {},
     "output_type": "execute_result"
    }
   ],
   "source": [
    "list(first_places[1].values())"
   ]
  },
  {
   "cell_type": "code",
   "execution_count": 454,
   "metadata": {},
   "outputs": [
    {
     "data": {
      "text/plain": [
       "\"Alfredo's Barbacoa Restaurant Calle de Juan Hurtado de Mendoza, 11, 28036 Madrid, Madrid, Spain\""
      ]
     },
     "execution_count": 454,
     "metadata": {},
     "output_type": "execute_result"
    }
   ],
   "source": [
    "\" \".join(list(first_places[1].values()))"
   ]
  },
  {
   "cell_type": "code",
   "execution_count": 542,
   "metadata": {},
   "outputs": [],
   "source": [
    "gf_list = []\n",
    "\n",
    "def add_n_a_lists_to_dict(namelist, addresslist, list_dict):\n",
    "    results = set(zip(namelist,addresslist))\n",
    "    for tup in results:\n",
    "        dic = {}\n",
    "        dic[\"name\"] = tup[0]\n",
    "        dic[\"address\"] = tup[1]\n",
    "        list_dict.append(dic)\n",
    "    return list_dict"
   ]
  },
  {
   "cell_type": "code",
   "execution_count": 543,
   "metadata": {},
   "outputs": [],
   "source": [
    "second_places = add_n_a_lists_to_dict(vsg_flat_rest,vsg_flat_addr, gf_list)"
   ]
  },
  {
   "cell_type": "code",
   "execution_count": 544,
   "metadata": {},
   "outputs": [
    {
     "data": {
      "text/plain": [
       "244"
      ]
     },
     "execution_count": 544,
     "metadata": {},
     "output_type": "execute_result"
    }
   ],
   "source": [
    "len(second_places)"
   ]
  },
  {
   "cell_type": "code",
   "execution_count": null,
   "metadata": {},
   "outputs": [],
   "source": [
    "%store first_places\n",
    "%store second_places\n",
    "# ERROR: maximum recursion depth exceeded while pickling an object"
   ]
  },
  {
   "cell_type": "code",
   "execution_count": 547,
   "metadata": {},
   "outputs": [
    {
     "name": "stdout",
     "output_type": "stream",
     "text": [
      "Stored 'dataset' (Bunch)\n"
     ]
    }
   ],
   "source": [
    "# The %store magic works fine here\n",
    "from sklearn import datasets\n",
    "dataset = datasets.load_iris()\n",
    "%store dataset"
   ]
  },
  {
   "cell_type": "markdown",
   "metadata": {},
   "source": [
    "-------------"
   ]
  },
  {
   "cell_type": "markdown",
   "metadata": {},
   "source": [
    "# For some reason pickling didn't work with `first_places` so we cut and paste... "
   ]
  },
  {
   "cell_type": "code",
   "execution_count": 559,
   "metadata": {},
   "outputs": [
    {
     "ename": "RecursionError",
     "evalue": "maximum recursion depth exceeded while calling a Python object",
     "output_type": "error",
     "traceback": [
      "\u001b[0;31m---------------------------------------------------------------------------\u001b[0m",
      "\u001b[0;31mRecursionError\u001b[0m                            Traceback (most recent call last)",
      "\u001b[0;32m<ipython-input-559-cbf0f97c3120>\u001b[0m in \u001b[0;36m<module>\u001b[0;34m\u001b[0m\n\u001b[1;32m      1\u001b[0m \u001b[0mpickle_out\u001b[0m \u001b[0;34m=\u001b[0m \u001b[0mopen\u001b[0m\u001b[0;34m(\u001b[0m\u001b[0;34m\"pickled/first_places.pickle\"\u001b[0m\u001b[0;34m,\u001b[0m\u001b[0;34m\"wb\"\u001b[0m\u001b[0;34m)\u001b[0m\u001b[0;34m\u001b[0m\u001b[0;34m\u001b[0m\u001b[0m\n\u001b[0;32m----> 2\u001b[0;31m \u001b[0mpickle\u001b[0m\u001b[0;34m.\u001b[0m\u001b[0mdump\u001b[0m\u001b[0;34m(\u001b[0m\u001b[0mfirst_places\u001b[0m\u001b[0;34m,\u001b[0m \u001b[0mpickle_out\u001b[0m\u001b[0;34m)\u001b[0m\u001b[0;34m\u001b[0m\u001b[0;34m\u001b[0m\u001b[0m\n\u001b[0m\u001b[1;32m      3\u001b[0m \u001b[0mpickle_out\u001b[0m\u001b[0;34m.\u001b[0m\u001b[0mclose\u001b[0m\u001b[0;34m(\u001b[0m\u001b[0;34m)\u001b[0m\u001b[0;34m\u001b[0m\u001b[0;34m\u001b[0m\u001b[0m\n\u001b[1;32m      4\u001b[0m \u001b[0;31m# maximum recursion depth exceeded while calling a Python object\u001b[0m\u001b[0;34m\u001b[0m\u001b[0;34m\u001b[0m\u001b[0;34m\u001b[0m\u001b[0m\n",
      "\u001b[0;32m/usr/local/lib/python3.8/site-packages/bs4/element.py\u001b[0m in \u001b[0;36m__getnewargs__\u001b[0;34m(self)\u001b[0m\n\u001b[1;32m    910\u001b[0m \u001b[0;34m\u001b[0m\u001b[0m\n\u001b[1;32m    911\u001b[0m     \u001b[0;32mdef\u001b[0m \u001b[0m__getnewargs__\u001b[0m\u001b[0;34m(\u001b[0m\u001b[0mself\u001b[0m\u001b[0;34m)\u001b[0m\u001b[0;34m:\u001b[0m\u001b[0;34m\u001b[0m\u001b[0;34m\u001b[0m\u001b[0m\n\u001b[0;32m--> 912\u001b[0;31m         \u001b[0;32mreturn\u001b[0m \u001b[0;34m(\u001b[0m\u001b[0mstr\u001b[0m\u001b[0;34m(\u001b[0m\u001b[0mself\u001b[0m\u001b[0;34m)\u001b[0m\u001b[0;34m,\u001b[0m\u001b[0;34m)\u001b[0m\u001b[0;34m\u001b[0m\u001b[0;34m\u001b[0m\u001b[0m\n\u001b[0m\u001b[1;32m    913\u001b[0m \u001b[0;34m\u001b[0m\u001b[0m\n\u001b[1;32m    914\u001b[0m     \u001b[0;32mdef\u001b[0m \u001b[0m__getattr__\u001b[0m\u001b[0;34m(\u001b[0m\u001b[0mself\u001b[0m\u001b[0;34m,\u001b[0m \u001b[0mattr\u001b[0m\u001b[0;34m)\u001b[0m\u001b[0;34m:\u001b[0m\u001b[0;34m\u001b[0m\u001b[0;34m\u001b[0m\u001b[0m\n",
      "\u001b[0;31mRecursionError\u001b[0m: maximum recursion depth exceeded while calling a Python object"
     ]
    }
   ],
   "source": [
    "pickle_out = open(\"/Users/claytonlouden/projects/final_project/pickled/first_places.pickle\",\"wb\")\n",
    "pickle.dump(first_places, pickle_out)\n",
    "pickle_out.close()\n",
    "# maximum recursion depth exceeded while calling a Python object"
   ]
  },
  {
   "cell_type": "markdown",
   "metadata": {},
   "source": [
    "# Save `second_places` "
   ]
  },
  {
   "cell_type": "code",
   "execution_count": 560,
   "metadata": {},
   "outputs": [],
   "source": [
    "pickle_out = open(\"/Users/claytonlouden/projects/final_project/pickled/second_places.pickle\",\"wb\")\n",
    "pickle.dump(second_places, pickle_out)\n",
    "pickle_out.close()"
   ]
  },
  {
   "cell_type": "markdown",
   "metadata": {},
   "source": [
    "-----------"
   ]
  },
  {
   "cell_type": "code",
   "execution_count": null,
   "metadata": {},
   "outputs": [],
   "source": []
  }
 ],
 "metadata": {
  "kernelspec": {
   "display_name": "Python 3",
   "language": "python",
   "name": "python3"
  },
  "language_info": {
   "codemirror_mode": {
    "name": "ipython",
    "version": 3
   },
   "file_extension": ".py",
   "mimetype": "text/x-python",
   "name": "python",
   "nbconvert_exporter": "python",
   "pygments_lexer": "ipython3",
   "version": "3.8.5"
  }
 },
 "nbformat": 4,
 "nbformat_minor": 4
}
