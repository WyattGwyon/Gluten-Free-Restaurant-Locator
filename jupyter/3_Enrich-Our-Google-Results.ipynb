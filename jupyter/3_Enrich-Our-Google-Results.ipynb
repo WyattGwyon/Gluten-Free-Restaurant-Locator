{
 "cells": [
  {
   "cell_type": "code",
   "execution_count": 6,
   "metadata": {},
   "outputs": [],
   "source": [
    "import os\n",
    "from dotenv import load_dotenv\n",
    "import requests\n",
    "import json\n",
    "from urllib.parse import urlencode, urlparse, parse_qsl\n",
    "import pickle"
   ]
  },
  {
   "cell_type": "markdown",
   "metadata": {},
   "source": [
    "# Now we take our Web Scrapings and pass them through Google's API"
   ]
  },
  {
   "cell_type": "code",
   "execution_count": 10,
   "metadata": {},
   "outputs": [
    {
     "data": {
      "text/plain": [
       "True"
      ]
     },
     "execution_count": 10,
     "metadata": {},
     "output_type": "execute_result"
    }
   ],
   "source": [
    "load_dotenv()"
   ]
  },
  {
   "cell_type": "code",
   "execution_count": 11,
   "metadata": {},
   "outputs": [],
   "source": [
    "g_key = os.getenv(\"GOOGLE_KEY2\")"
   ]
  },
  {
   "cell_type": "code",
   "execution_count": null,
   "metadata": {},
   "outputs": [],
   "source": [
    "# This is a test to get an idea of what our parameters should look like and what info is returned\n",
    "endpoint = \"https://maps.googleapis.com/maps/api/place/findplacefromtext/json\"\n",
    "params = {\n",
    "\n",
    "    \"input\":f\"{New York Burger Calle del Gral Yagüe, 5, 28020 Madrid, Madrid, Spain}\",\n",
    "    \"inputtype\":\"textquery\",\n",
    "    \"fields\":\"place_id,name,formatted_address,geometry,business_status,photos,price_level,rating,user_ratings_total,opening_hours,plus_code,types,icon\",\n",
    "    \"key\": f\"{g_key}\"\n",
    "}\n",
    "\n",
    "\n",
    "url_params = urlencode(params)\n",
    "url = f\"{endpoint}?{url_params}\"\n"
   ]
  },
  {
   "cell_type": "code",
   "execution_count": null,
   "metadata": {},
   "outputs": [],
   "source": [
    "data = requests.get(url)"
   ]
  },
  {
   "cell_type": "code",
   "execution_count": 42,
   "metadata": {},
   "outputs": [
    {
     "data": {
      "text/plain": [
       "<Response [200]>"
      ]
     },
     "execution_count": 42,
     "metadata": {},
     "output_type": "execute_result"
    }
   ],
   "source": [
    "data"
   ]
  },
  {
   "cell_type": "code",
   "execution_count": 43,
   "metadata": {},
   "outputs": [
    {
     "data": {
      "text/plain": [
       "requests.models.Response"
      ]
     },
     "execution_count": 43,
     "metadata": {},
     "output_type": "execute_result"
    }
   ],
   "source": [
    "type(data)"
   ]
  },
  {
   "cell_type": "code",
   "execution_count": 44,
   "metadata": {},
   "outputs": [],
   "source": [
    "data = data.json()"
   ]
  },
  {
   "cell_type": "code",
   "execution_count": 45,
   "metadata": {},
   "outputs": [
    {
     "data": {
      "text/plain": [
       "dict"
      ]
     },
     "execution_count": 45,
     "metadata": {},
     "output_type": "execute_result"
    }
   ],
   "source": [
    "type(data)"
   ]
  },
  {
   "cell_type": "code",
   "execution_count": 46,
   "metadata": {
    "scrolled": false
   },
   "outputs": [
    {
     "data": {
      "text/plain": [
       "{'candidates': [{'business_status': 'OPERATIONAL',\n",
       "   'formatted_address': 'Calle de San Germán, 5, 28020 Madrid, España',\n",
       "   'geometry': {'location': {'lat': 40.4560497, 'lng': -3.6928645},\n",
       "    'viewport': {'northeast': {'lat': 40.45751822989272,\n",
       "      'lng': -3.691506020107278},\n",
       "     'southwest': {'lat': 40.45481857010728, 'lng': -3.694205679892721}}},\n",
       "   'icon': 'https://maps.gstatic.com/mapfiles/place_api/icons/v1/png_71/restaurant-71.png',\n",
       "   'name': 'New York Burger - San Germán',\n",
       "   'opening_hours': {'open_now': False},\n",
       "   'photos': [{'height': 676,\n",
       "     'html_attributions': ['<a href=\"https://maps.google.com/maps/contrib/111501988484506431367\">A Google User</a>'],\n",
       "     'photo_reference': 'ATtYBwIk0e4Asv-MN7hihg60vttx-cHguTXDqBkU56BSzu0mxt7ZSJuapghu3SKprcjSzxGDC1mbm9whSx5XFAg567sT6aXAqUBPwC5vNIeQjULHYJM1rJ7jpqCNPADGj-AwitsHSr5HsmQM2RL2pbe0wNgkXAOguf-WP8FqBIrKDojEUAdX',\n",
       "     'width': 1014}],\n",
       "   'place_id': 'ChIJzXH90wIpQg0Rn7mJGoLe-Pw',\n",
       "   'plus_code': {'compound_code': 'F844+CV Madrid',\n",
       "    'global_code': '8CGRF844+CV'},\n",
       "   'price_level': 2,\n",
       "   'rating': 4.3,\n",
       "   'types': ['restaurant', 'food', 'point_of_interest', 'establishment'],\n",
       "   'user_ratings_total': 2270}],\n",
       " 'status': 'OK'}"
      ]
     },
     "execution_count": 46,
     "metadata": {},
     "output_type": "execute_result"
    }
   ],
   "source": [
    "# We have some our first results\n",
    "data"
   ]
  },
  {
   "cell_type": "markdown",
   "metadata": {},
   "source": [
    "------------"
   ]
  },
  {
   "cell_type": "markdown",
   "metadata": {},
   "source": [
    "# Now we are going to import our variables from our previous Jupyter:"
   ]
  },
  {
   "cell_type": "markdown",
   "metadata": {},
   "source": [
    "----------"
   ]
  },
  {
   "cell_type": "markdown",
   "metadata": {},
   "source": [
    "# For some reason pickling didnt work with `first_places` so we cut and paste... \n"
   ]
  },
  {
   "cell_type": "code",
   "execution_count": 111,
   "metadata": {},
   "outputs": [
    {
     "ename": "EOFError",
     "evalue": "Ran out of input",
     "output_type": "error",
     "traceback": [
      "\u001b[0;31m---------------------------------------------------------------------------\u001b[0m",
      "\u001b[0;31mEOFError\u001b[0m                                  Traceback (most recent call last)",
      "\u001b[0;32m<ipython-input-111-2d29776f12eb>\u001b[0m in \u001b[0;36m<module>\u001b[0;34m\u001b[0m\n\u001b[1;32m      1\u001b[0m \u001b[0mpickle_in\u001b[0m \u001b[0;34m=\u001b[0m \u001b[0mopen\u001b[0m\u001b[0;34m(\u001b[0m\u001b[0;34m\"pickled/first_places.pickle\"\u001b[0m\u001b[0;34m,\u001b[0m\u001b[0;34m\"rb\"\u001b[0m\u001b[0;34m)\u001b[0m\u001b[0;34m\u001b[0m\u001b[0;34m\u001b[0m\u001b[0m\n\u001b[0;32m----> 2\u001b[0;31m \u001b[0mfirst_places\u001b[0m \u001b[0;34m=\u001b[0m \u001b[0mpickle\u001b[0m\u001b[0;34m.\u001b[0m\u001b[0mload\u001b[0m\u001b[0;34m(\u001b[0m\u001b[0mpickle_in\u001b[0m\u001b[0;34m)\u001b[0m\u001b[0;34m\u001b[0m\u001b[0;34m\u001b[0m\u001b[0m\n\u001b[0m",
      "\u001b[0;31mEOFError\u001b[0m: Ran out of input"
     ]
    }
   ],
   "source": [
    "pickle_in = open(\"/Users/claytonlouden/projects/final_project/pickled/first_places.pickle\",\"rb\")\n",
    "first_places = pickle.load(pickle_in)"
   ]
  },
  {
   "cell_type": "code",
   "execution_count": 82,
   "metadata": {},
   "outputs": [],
   "source": [
    "first_places = [{'name': 'New York Burger', 'address': 'Calle del Gral Yagüe, 5, 28020 Madrid, Madrid, Spain'}, {'name': \"Alfredo's Barbacoa Restaurant\", 'address': 'Calle de Juan Hurtado de Mendoza, 11, 28036 Madrid, Madrid, Spain'}, {'name': 'Flavia Madrid', 'address': 'Calle Gil de Santivañes, 2, 28001 Madrid, Spain'}, {'name': 'El Senador', 'address': 'Plaza de la Marina Española, 2, 28013 Madrid, Madrid, Spain'}, {'name': 'Restaurante lapizza+sana', 'address': 'Av. de Machupichu, 16, 28043 Madrid, Spain'}, {'name': 'Oriental Pastry', 'address': 'Calle Ferraz, 47, 28008 Madrid, Spain'}, {'name': 'Taberna La Concha', 'address': 'Calle Cava Baja, 7, 28005 Madrid, Spain'}, {'name': 'As De Bastos Madrid', 'address': 'Calle de Castilla, 62, 28039 Madrid, Spain'}, {'name': 'Maestro Churrero', 'address': 'Plaza de Jacinto Benavente, 2, 28012 Madrid, Spain'}, {'name': 'El Anciano Rey de los Vinos', 'address': 'Calle de Bailén, 19, 28013 Madrid, Madrid, Spain'}, {'name': 'Kint', 'address': 'Calle Vallehermoso, 36, 28015 Madrid, Spain'}, {'name': 'Da Nicola Gran Vía', 'address': 'Plaza de los Mostenses, 11, 28015 Madrid, Community of Madrid, Spain'}, {'name': 'rodilla', 'address': 'Plaza Puerta del Sol, 13, 28013 Madrid, Madrid, Spain'}, {'name': 'Celicioso', 'address': 'Calle Hortaleza, 3, Madrid, Spain'}, {'name': 'II Piccolino della Farfalla', 'address': 'Calle de Las Huertas, 6, Madrid, Spain'}, {'name': 'Solo de Croquetas', 'address': 'Calle de Echegaray, 5, 28014 Madrid, Spain'}, {'name': 'Emma Y Julia', 'address': 'Calle Cava Baja, 19, 28005 Madrid, Madrid, Spain'}, {'name': 'La Jauría', 'address': 'Calle de Colón, 10, 28004 Madrid, Spain'}, {'name': 'El Arrozal', 'address': 'Calle Segovia, 13, 28005 Madrid, Spain'}, {'name': 'Sana Locura Gluten Free Bakery', 'address': 'Calle del Gral Oraá, 49, 28006 Madrid, Spain'}, {'name': 'La Mordida', 'address': 'Av. de Brasil, 6, 28020 Madrid, Spain'}, {'name': 'Rosa Negra Madrid', 'address': 'Calle del León, 16, 28014 Madrid, Madrid, Spain'}, {'name': 'Mercado de la Reina', 'address': 'Calle Gran Vía, 12, 28013 Madrid, Spain'}, {'name': 'LAIB', 'address': 'Paseo de la R. Cristina, 30, 28014 Madrid, Spain'}, {'name': 'Celicioso Barquillo', 'address': 'Calle del Barquillo, 19, 28004 Madrid, Spain'}, {'name': 'Murillo Café', 'address': 'Calle Ruiz de Alarcón, 27, 28014 Madrid, Madrid, Spain'}, {'name': 'Restaurante Vegetariano Artemisa Sol', 'address': 'Calle de las Tres Cruces, 4, 28013 Madrid, Spain'}, {'name': 'El Corte Inglés', 'address': 'Calle Preciados, 3, 28013 Madrid, Spain'}, {'name': 'Okashi Sanda', 'address': 'Calle de San Vicente Ferrer, 22, 28004 Madrid, Spain'}, {'name': 'CafeeKe', 'address': 'Calle de Cuchilleros, 3, 28005 Madrid, Spain'}, {'name': 'Celicioso', 'address': 'Various Locations'}, {'name': 'Bico de Xeado', 'address': 'Various Locations'}, {'name': 'As De Bastos', 'address': 'Calle de Castilla, 62, 28039 Madrid, Spain'}, {'name': 'La Oriental Sin Gluten', 'address': 'Calle de Ferraz, 47, 28008 Madrid, Spain'}, {'name': 'Maestro Churro', 'address': 'Plaza de Jacinto Benavente, 2, 28012 Madrid, Spain'}, {'name': 'Celikatessen', 'address': 'Mercado de Pacífico (planta baja, Calle de Valderribas, 30, 28007 Madrid, Spain)'}, {'name': 'El Arrozal', 'address': 'Calle de Segovia, 13, 28005 Madrid, Spain'}, {'name': 'Okashi Sanda', 'address': 'Calle de San Vicente Ferrer, 22, 28004 Madrid, Spain'}, {'name': 'Artemisa Huertas', 'address': 'Calle de Ventura de la Vega, 4, 28014 Madrid, Spain'}, {'name': 'Sana Local', 'address': 'Calle del Gral Oraá, 49, 28006 Madrid, Spain'}, {'name': 'El Antiguo: Cafetería y Tapas', 'address': 'Avenida de Madrid, 77, 28607 El Álamo, Spain'}, {'name': 'Asador Maribel', 'address': 'Av. del Padre Claret, 16, 40001 Segovia, Spain'}, {'name': 'La Taberna Concha', 'address': 'Calle de la Cava Baja, 7, 28005 Madrid, Spain'}, {'name': 'Da Nicola', 'address': 'Plaza Mostenses, 11, 28015 Madrid, Spain'}, {'name': 'Loliam', 'address': 'Calle Villalar, 6, 28001 Madrid, Spain'}, {'name': 'Bar Mentrida', 'address': 'Plaza de Olavide, 3, 28010 Madrid, Spain'}, {'name': 'Kint Bistro', 'address': 'Calle de Vallehermoso, 36, 28015 Madrid, Spain'}, {'name': 'Solo de Croquetas', 'address': 'Calle de Echegaray, 5, 28014 Madrid, Spain'}]"
   ]
  },
  {
   "cell_type": "code",
   "execution_count": 54,
   "metadata": {},
   "outputs": [
    {
     "data": {
      "text/plain": [
       "[{'name': 'New York Burger',\n",
       "  'address': 'Calle del Gral Yagüe, 5, 28020 Madrid, Madrid, Spain'},\n",
       " {'name': \"Alfredo's Barbacoa Restaurant\",\n",
       "  'address': 'Calle de Juan Hurtado de Mendoza, 11, 28036 Madrid, Madrid, Spain'},\n",
       " {'name': 'Flavia Madrid',\n",
       "  'address': 'Calle Gil de Santivañes, 2, 28001 Madrid, Spain'},\n",
       " {'name': 'El Senador',\n",
       "  'address': 'Plaza de la Marina Española, 2, 28013 Madrid, Madrid, Spain'},\n",
       " {'name': 'Restaurante lapizza+sana',\n",
       "  'address': 'Av. de Machupichu, 16, 28043 Madrid, Spain'}]"
      ]
     },
     "execution_count": 54,
     "metadata": {},
     "output_type": "execute_result"
    }
   ],
   "source": [
    "first_places[:5]"
   ]
  },
  {
   "cell_type": "markdown",
   "metadata": {},
   "source": [
    "---------"
   ]
  },
  {
   "cell_type": "markdown",
   "metadata": {},
   "source": [
    "# but it worked for the much longer list of dictionaries `second_places`\n",
    "# Retrieve `second_places` "
   ]
  },
  {
   "cell_type": "code",
   "execution_count": 109,
   "metadata": {},
   "outputs": [],
   "source": [
    "pickle_in = open(\"/Users/claytonlouden/projects/final_project/pickled/second_places.pickle\",\"rb\")\n",
    "second_places = pickle.load(pickle_in)"
   ]
  },
  {
   "cell_type": "code",
   "execution_count": 110,
   "metadata": {},
   "outputs": [
    {
     "data": {
      "text/plain": [
       "[{'name': 'Rodilla',\n",
       "  'address': 'Paseo de la Castellana 274 - 28046 - Madrid (Madrid)'},\n",
       " {'name': 'Barandales', 'address': 'Menorca, 31 - 28009 - Madrid (Madrid)'},\n",
       " {'name': 'Ginos Sor Angela',\n",
       "  'address': 'Calle Sor Angela de la Cruz nº 22 - 28020 - Madrid (Madrid)'},\n",
       " {'name': 'Ginos Monforte de Lemos',\n",
       "  'address': 'Avda. Monforte de Lemos, 193 - 28035 - Madrid (Madrid)'},\n",
       " {'name': 'Hotel Gran Meliá Fénix',\n",
       "  'address': 'Hermosilla, 2 - 28001 - Madrid (Madrid)'}]"
      ]
     },
     "execution_count": 110,
     "metadata": {},
     "output_type": "execute_result"
    }
   ],
   "source": [
    "second_places[:5]"
   ]
  },
  {
   "cell_type": "markdown",
   "metadata": {},
   "source": [
    "-------"
   ]
  },
  {
   "cell_type": "code",
   "execution_count": 86,
   "metadata": {},
   "outputs": [],
   "source": [
    "# This is the function that will take all our requests to Google API and give us back info \n",
    "def get_info(inp):\n",
    "    endpoint = \"https://maps.googleapis.com/maps/api/place/findplacefromtext/json\"\n",
    "    params = {\n",
    "\n",
    "        \"input\":f\"{inp}\",\n",
    "        \"inputtype\":\"textquery\",\n",
    "        \"fields\":\"place_id,name,formatted_address,geometry,business_status,photos,price_level,rating,user_ratings_total,opening_hours,plus_code,types,icon\",\n",
    "        \"key\": f\"{g_key}\"\n",
    "    }\n",
    "\n",
    "\n",
    "    url_params = urlencode(params)\n",
    "    url = f\"{endpoint}?{url_params}\"\n",
    "    data = requests.get(url)\n",
    "    return data.json()"
   ]
  },
  {
   "cell_type": "code",
   "execution_count": 91,
   "metadata": {},
   "outputs": [],
   "source": [
    "# We will create an empty list here\n",
    "info_list = []"
   ]
  },
  {
   "cell_type": "code",
   "execution_count": null,
   "metadata": {},
   "outputs": [],
   "source": [
    "# This is our loop that will take each dictionary item and turn the values into one string\n",
    "# Then it will pass it through our get_info function and append the output to our empty info_list\n",
    "for pl in first_places:\n",
    "    inp = \" \".join(list(pl.values()))\n",
    "    #print(inp)\n",
    "    info = get_info(inp)\n",
    "    info_list.append(info)\n"
   ]
  },
  {
   "cell_type": "code",
   "execution_count": 100,
   "metadata": {},
   "outputs": [],
   "source": [
    "second_info_list = []"
   ]
  },
  {
   "cell_type": "code",
   "execution_count": 101,
   "metadata": {},
   "outputs": [],
   "source": [
    "for pl in second_places:\n",
    "    inp = \" \".join(list(pl.values()))\n",
    "    #print(inp)\n",
    "    info = get_info(inp)\n",
    "    second_info_list.append(info)"
   ]
  },
  {
   "cell_type": "code",
   "execution_count": 93,
   "metadata": {},
   "outputs": [
    {
     "data": {
      "text/plain": [
       "50"
      ]
     },
     "execution_count": 93,
     "metadata": {},
     "output_type": "execute_result"
    }
   ],
   "source": [
    "# first Google API Request results\n",
    "len(info_list)"
   ]
  },
  {
   "cell_type": "code",
   "execution_count": 104,
   "metadata": {},
   "outputs": [
    {
     "data": {
      "text/plain": [
       "244"
      ]
     },
     "execution_count": 104,
     "metadata": {},
     "output_type": "execute_result"
    }
   ],
   "source": [
    "# second Google API Requests results\n",
    "len(second_info_list)"
   ]
  },
  {
   "cell_type": "markdown",
   "metadata": {},
   "source": [
    "------------------------"
   ]
  },
  {
   "cell_type": "markdown",
   "metadata": {},
   "source": [
    "# Save `info_list` and `second_info_list`"
   ]
  },
  {
   "cell_type": "code",
   "execution_count": 112,
   "metadata": {},
   "outputs": [],
   "source": [
    "pickle_out = open(\"/Users/claytonlouden/projects/final_project/pickled/info_list.pickle\",\"wb\")\n",
    "pickle.dump(info_list, pickle_out)\n",
    "pickle_out.close()"
   ]
  },
  {
   "cell_type": "code",
   "execution_count": 113,
   "metadata": {},
   "outputs": [],
   "source": [
    "pickle_out = open(\"/Users/claytonlouden/projects/final_project/pickled/second_info_list.pickle\",\"wb\")\n",
    "pickle.dump(second_info_list, pickle_out)\n",
    "pickle_out.close()"
   ]
  },
  {
   "cell_type": "markdown",
   "metadata": {},
   "source": [
    "--------------"
   ]
  },
  {
   "cell_type": "code",
   "execution_count": null,
   "metadata": {},
   "outputs": [],
   "source": []
  }
 ],
 "metadata": {
  "kernelspec": {
   "display_name": "Python 3",
   "language": "python",
   "name": "python3"
  },
  "language_info": {
   "codemirror_mode": {
    "name": "ipython",
    "version": 3
   },
   "file_extension": ".py",
   "mimetype": "text/x-python",
   "name": "python",
   "nbconvert_exporter": "python",
   "pygments_lexer": "ipython3",
   "version": "3.8.5"
  }
 },
 "nbformat": 4,
 "nbformat_minor": 4
}
