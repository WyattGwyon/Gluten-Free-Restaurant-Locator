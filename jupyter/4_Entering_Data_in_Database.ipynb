{
 "cells": [
  {
   "cell_type": "code",
   "execution_count": 18,
   "metadata": {},
   "outputs": [],
   "source": [
    "from pymongo import MongoClient\n",
    "from dotenv import load_dotenv\n",
    "import pickle\n",
    "import pandas as pd\n",
    "import os\n",
    "from urllib.parse import urlencode, urlparse, parse_qsl\n",
    "import requests"
   ]
  },
  {
   "cell_type": "markdown",
   "metadata": {},
   "source": [
    "# Now we are going to place this into a Pandas DataFrame"
   ]
  },
  {
   "cell_type": "code",
   "execution_count": 3,
   "metadata": {},
   "outputs": [],
   "source": [
    "# This is our database connection\n",
    "client = MongoClient(\"mongodb://localhost\")\n",
    "db = client.get_database(\"celiacdb\")"
   ]
  },
  {
   "cell_type": "code",
   "execution_count": 4,
   "metadata": {},
   "outputs": [
    {
     "data": {
      "text/plain": [
       "Database(MongoClient(host=['localhost:27017'], document_class=dict, tz_aware=False, connect=True), 'celiacdb')"
      ]
     },
     "execution_count": 4,
     "metadata": {},
     "output_type": "execute_result"
    }
   ],
   "source": [
    "db"
   ]
  },
  {
   "cell_type": "markdown",
   "metadata": {},
   "source": [
    "------"
   ]
  },
  {
   "cell_type": "markdown",
   "metadata": {},
   "source": [
    "# *We have pickled our data and will import it here*"
   ]
  },
  {
   "cell_type": "code",
   "execution_count": 19,
   "metadata": {},
   "outputs": [],
   "source": [
    "# This was the original API request we made\n",
    "pickle_in = open(\"/Users/claytonlouden/projects/final_project/pickled/goog_gf.pickle\",\"rb\")\n",
    "goog_info = pickle.load(pickle_in)"
   ]
  },
  {
   "cell_type": "code",
   "execution_count": 20,
   "metadata": {},
   "outputs": [
    {
     "data": {
      "text/plain": [
       "20"
      ]
     },
     "execution_count": 20,
     "metadata": {},
     "output_type": "execute_result"
    }
   ],
   "source": [
    "len(goog_info)"
   ]
  },
  {
   "cell_type": "code",
   "execution_count": 21,
   "metadata": {},
   "outputs": [],
   "source": [
    "# These are the results from findmeglutenfree.com and happyceliac.com \n",
    "pickle_in = open(\"/Users/claytonlouden/projects/final_project/pickled/info_list.pickle\",\"rb\")\n",
    "first_info = pickle.load(pickle_in)"
   ]
  },
  {
   "cell_type": "code",
   "execution_count": 22,
   "metadata": {},
   "outputs": [
    {
     "data": {
      "text/plain": [
       "50"
      ]
     },
     "execution_count": 22,
     "metadata": {},
     "output_type": "execute_result"
    }
   ],
   "source": [
    "len(first_info)"
   ]
  },
  {
   "cell_type": "code",
   "execution_count": 23,
   "metadata": {},
   "outputs": [],
   "source": [
    "# These are the results from viajarsingluten.com\n",
    "pickle_in = open(\"/Users/claytonlouden/projects/final_project/pickled/second_info_list.pickle\",\"rb\")\n",
    "second_info = pickle.load(pickle_in)"
   ]
  },
  {
   "cell_type": "code",
   "execution_count": 24,
   "metadata": {},
   "outputs": [
    {
     "data": {
      "text/plain": [
       "244"
      ]
     },
     "execution_count": 24,
     "metadata": {},
     "output_type": "execute_result"
    }
   ],
   "source": [
    "len(second_info)"
   ]
  },
  {
   "cell_type": "markdown",
   "metadata": {},
   "source": [
    "------"
   ]
  },
  {
   "cell_type": "markdown",
   "metadata": {},
   "source": [
    "### *There's a little more clean up we need to do*"
   ]
  },
  {
   "cell_type": "code",
   "execution_count": 25,
   "metadata": {},
   "outputs": [
    {
     "name": "stdout",
     "output_type": "stream",
     "text": [
      "13\n",
      "13\n",
      "12\n",
      "13\n",
      "12\n"
     ]
    }
   ],
   "source": [
    "# Looking for number of key:value pairs by looking at length\n",
    "# We also have observed that we need to flatten first_info and second_info\n",
    "for pl in second_info[:5]:\n",
    "    for p in pl['candidates']:\n",
    "        print(len(p))\n",
    "        "
   ]
  },
  {
   "cell_type": "code",
   "execution_count": 26,
   "metadata": {},
   "outputs": [],
   "source": [
    "# We are going to put the contents into a dummy variable so that we can put them back into the original variable\n",
    "second = second_info"
   ]
  },
  {
   "cell_type": "code",
   "execution_count": 27,
   "metadata": {},
   "outputs": [
    {
     "data": {
      "text/plain": [
       "{'candidates': [{'business_status': 'OPERATIONAL',\n",
       "   'formatted_address': 'Paseo de la Castellana, 274, 28046 Madrid, España',\n",
       "   'geometry': {'location': {'lat': 40.4744207, 'lng': -3.6865291},\n",
       "    'viewport': {'northeast': {'lat': 40.47578362989272,\n",
       "      'lng': -3.685283720107278},\n",
       "     'southwest': {'lat': 40.47308397010728, 'lng': -3.687983379892722}}},\n",
       "   'icon': 'https://maps.gstatic.com/mapfiles/place_api/icons/v1/png_71/restaurant-71.png',\n",
       "   'name': 'Rodilla',\n",
       "   'opening_hours': {'open_now': False},\n",
       "   'photos': [{'height': 1000,\n",
       "     'html_attributions': ['<a href=\"https://maps.google.com/maps/contrib/106284143847101574674\">Rodilla Mybusiness</a>'],\n",
       "     'photo_reference': 'ATtYBwLRZtlO3UXJDTf1xG0_IxZv1KVpip56ymPUiVu4A-ABlhbZqweZY0VyPoyipVL4qWtedfMcz4NV73P0lajyDZjohcbE6f4d9i6LTFcNPOlDidLyeqPh7LeYPBkmIM8Ih5poYQXfpuFFMUSJRaxJjxsfqi150Uj_zbUImPdm83d5xbXY',\n",
       "     'width': 1000}],\n",
       "   'place_id': 'ChIJndExtRQpQg0R2qNbkwOjV3M',\n",
       "   'plus_code': {'compound_code': 'F8F7+Q9 Madrid',\n",
       "    'global_code': '8CGRF8F7+Q9'},\n",
       "   'price_level': 1,\n",
       "   'rating': 3.7,\n",
       "   'types': ['restaurant',\n",
       "    'food',\n",
       "    'point_of_interest',\n",
       "    'store',\n",
       "    'establishment'],\n",
       "   'user_ratings_total': 536}],\n",
       " 'status': 'OK'}"
      ]
     },
     "execution_count": 27,
     "metadata": {},
     "output_type": "execute_result"
    }
   ],
   "source": [
    "# This is a single key:value pair. We only want to extract the value from the key \"candidates\"\n",
    "second[0]"
   ]
  },
  {
   "cell_type": "code",
   "execution_count": 28,
   "metadata": {},
   "outputs": [],
   "source": [
    "# We empty the orginial variable and it is ready to be filled with the dictionaries\n",
    "second_info = []"
   ]
  },
  {
   "cell_type": "code",
   "execution_count": 29,
   "metadata": {},
   "outputs": [],
   "source": [
    "# Now this is going to append the list in the original variable with just what we need\n",
    "for pl in second:\n",
    "    for p in pl['candidates']:\n",
    "        second_info.append(p)"
   ]
  },
  {
   "cell_type": "code",
   "execution_count": 30,
   "metadata": {},
   "outputs": [
    {
     "data": {
      "text/plain": [
       "{'business_status': 'OPERATIONAL',\n",
       " 'formatted_address': 'Paseo de la Castellana, 274, 28046 Madrid, España',\n",
       " 'geometry': {'location': {'lat': 40.4744207, 'lng': -3.6865291},\n",
       "  'viewport': {'northeast': {'lat': 40.47578362989272,\n",
       "    'lng': -3.685283720107278},\n",
       "   'southwest': {'lat': 40.47308397010728, 'lng': -3.687983379892722}}},\n",
       " 'icon': 'https://maps.gstatic.com/mapfiles/place_api/icons/v1/png_71/restaurant-71.png',\n",
       " 'name': 'Rodilla',\n",
       " 'opening_hours': {'open_now': False},\n",
       " 'photos': [{'height': 1000,\n",
       "   'html_attributions': ['<a href=\"https://maps.google.com/maps/contrib/106284143847101574674\">Rodilla Mybusiness</a>'],\n",
       "   'photo_reference': 'ATtYBwLRZtlO3UXJDTf1xG0_IxZv1KVpip56ymPUiVu4A-ABlhbZqweZY0VyPoyipVL4qWtedfMcz4NV73P0lajyDZjohcbE6f4d9i6LTFcNPOlDidLyeqPh7LeYPBkmIM8Ih5poYQXfpuFFMUSJRaxJjxsfqi150Uj_zbUImPdm83d5xbXY',\n",
       "   'width': 1000}],\n",
       " 'place_id': 'ChIJndExtRQpQg0R2qNbkwOjV3M',\n",
       " 'plus_code': {'compound_code': 'F8F7+Q9 Madrid',\n",
       "  'global_code': '8CGRF8F7+Q9'},\n",
       " 'price_level': 1,\n",
       " 'rating': 3.7,\n",
       " 'types': ['restaurant',\n",
       "  'food',\n",
       "  'point_of_interest',\n",
       "  'store',\n",
       "  'establishment'],\n",
       " 'user_ratings_total': 536}"
      ]
     },
     "execution_count": 30,
     "metadata": {},
     "output_type": "execute_result"
    }
   ],
   "source": [
    "# Perfect\n",
    "second_info[0]"
   ]
  },
  {
   "cell_type": "code",
   "execution_count": 31,
   "metadata": {},
   "outputs": [
    {
     "data": {
      "text/plain": [
       "{'candidates': [{'business_status': 'OPERATIONAL',\n",
       "   'formatted_address': 'Calle de San Germán, 5, 28020 Madrid, España',\n",
       "   'geometry': {'location': {'lat': 40.4560497, 'lng': -3.6928645},\n",
       "    'viewport': {'northeast': {'lat': 40.45751822989272,\n",
       "      'lng': -3.691506020107278},\n",
       "     'southwest': {'lat': 40.45481857010728, 'lng': -3.694205679892721}}},\n",
       "   'icon': 'https://maps.gstatic.com/mapfiles/place_api/icons/v1/png_71/restaurant-71.png',\n",
       "   'name': 'New York Burger - San Germán',\n",
       "   'opening_hours': {'open_now': False},\n",
       "   'photos': [{'height': 676,\n",
       "     'html_attributions': ['<a href=\"https://maps.google.com/maps/contrib/111501988484506431367\">A Google User</a>'],\n",
       "     'photo_reference': 'ATtYBwJ0UKXI_0ZkP9zyKFluukGy1mkhlF_3bwo6wGh9_mKZxayxQO3Atgcw36Ez6wI4fLf4gjrawD7UuIB6SCybpw5kTQnRKsXMx8bYJpDgEdv7ayrvS0eu9bYL5bq1LgN8dp0MfY0Vvv-tbjSYFoXuwmWgZmHIeLM5CAHP_qTZKOUKnQgO',\n",
       "     'width': 1014}],\n",
       "   'place_id': 'ChIJzXH90wIpQg0Rn7mJGoLe-Pw',\n",
       "   'plus_code': {'compound_code': 'F844+CV Madrid',\n",
       "    'global_code': '8CGRF844+CV'},\n",
       "   'price_level': 2,\n",
       "   'rating': 4.3,\n",
       "   'types': ['restaurant', 'food', 'point_of_interest', 'establishment'],\n",
       "   'user_ratings_total': 2272}],\n",
       " 'status': 'OK'}"
      ]
     },
     "execution_count": 31,
     "metadata": {},
     "output_type": "execute_result"
    }
   ],
   "source": [
    "first_info[0]"
   ]
  },
  {
   "cell_type": "code",
   "execution_count": 32,
   "metadata": {},
   "outputs": [
    {
     "data": {
      "text/plain": [
       "{'business_status': 'OPERATIONAL',\n",
       " 'geometry': {'location': {'lat': 40.3944816, 'lng': -3.6510818},\n",
       "  'viewport': {'northeast': {'lat': 40.39580232989272,\n",
       "    'lng': -3.649661270107278},\n",
       "   'southwest': {'lat': 40.39310267010728, 'lng': -3.652360929892722}}},\n",
       " 'icon': 'https://maps.gstatic.com/mapfiles/place_api/icons/v1/png_71/restaurant-71.png',\n",
       " 'name': 'Celilocos',\n",
       " 'opening_hours': {'open_now': False},\n",
       " 'photos': [{'height': 3096,\n",
       "   'html_attributions': ['<a href=\"https://maps.google.com/maps/contrib/111055793742267190108\">Gustavo Martínez</a>'],\n",
       "   'photo_reference': 'ATtYBwJLNgjUU6iyGx_5fKoo9HbSSGIj67hjrBM1wJkSGQew7e_vd4CjYmDxEEDYVxzrwT-cYTCWOJJRcaw6aV2uWnEnarF7zAlGYrrTTz-QRIHbty4ncOnqXhTWHjugit6RQ9rS_DrsYzVJWsA-sTNMF2OxCZx-3TRJwAHyq9q_N-3Hxzzc',\n",
       "   'width': 4128}],\n",
       " 'place_id': 'ChIJsQylGeglQg0R5n2B4pQo0RM',\n",
       " 'plus_code': {'compound_code': '98VX+QH Madrid',\n",
       "  'global_code': '8CGR98VX+QH'},\n",
       " 'price_level': 1,\n",
       " 'rating': 4.7,\n",
       " 'reference': 'ChIJsQylGeglQg0R5n2B4pQo0RM',\n",
       " 'scope': 'GOOGLE',\n",
       " 'types': ['restaurant', 'food', 'point_of_interest', 'establishment'],\n",
       " 'user_ratings_total': 266,\n",
       " 'vicinity': 'Calle de Carlos Sole, 6, Madrid'}"
      ]
     },
     "execution_count": 32,
     "metadata": {},
     "output_type": "execute_result"
    }
   ],
   "source": [
    "goog_info[8]"
   ]
  },
  {
   "cell_type": "code",
   "execution_count": 33,
   "metadata": {},
   "outputs": [],
   "source": [
    "first = first_info"
   ]
  },
  {
   "cell_type": "code",
   "execution_count": 34,
   "metadata": {},
   "outputs": [],
   "source": [
    "first_info = []"
   ]
  },
  {
   "cell_type": "code",
   "execution_count": 35,
   "metadata": {},
   "outputs": [],
   "source": [
    "for pl in first:\n",
    "    for p in pl['candidates']:\n",
    "        first_info.append(p)"
   ]
  },
  {
   "cell_type": "code",
   "execution_count": 36,
   "metadata": {},
   "outputs": [
    {
     "data": {
      "text/plain": [
       "{'business_status': 'OPERATIONAL',\n",
       " 'formatted_address': 'Av. de Machupichu, 16, 28043 Madrid, España',\n",
       " 'geometry': {'location': {'lat': 40.4576184, 'lng': -3.6244434},\n",
       "  'viewport': {'northeast': {'lat': 40.45891672989272,\n",
       "    'lng': -3.623202020107278},\n",
       "   'southwest': {'lat': 40.45621707010728, 'lng': -3.625901679892721}}},\n",
       " 'icon': 'https://maps.gstatic.com/mapfiles/place_api/icons/v1/png_71/restaurant-71.png',\n",
       " 'name': 'Restaurante lapizza+sana',\n",
       " 'opening_hours': {'open_now': False},\n",
       " 'photos': [{'height': 956,\n",
       "   'html_attributions': ['<a href=\"https://maps.google.com/maps/contrib/114568030837330577368\">A Google User</a>'],\n",
       "   'photo_reference': 'ATtYBwJDdX67hPxKnqZLWc2w92JIO6QYQEP8ESIXnE6VSXO-gU_4VZymWj44I7h-t_vy8hlyNHaP1PMs8MOzBPSzXcbPADvWq_vZO4D4K5pWRWmwIld0gNzWYOk7mxhpN180PGStPRkO6lTOgks2VFb0ScXMNkUGHIirzqqVbVwi1mf7Hx8s',\n",
       "   'width': 1276}],\n",
       " 'place_id': 'ChIJgSTLS_4uQg0RAxTNQPdr5Ao',\n",
       " 'plus_code': {'compound_code': 'F95G+26 Madrid',\n",
       "  'global_code': '8CGRF95G+26'},\n",
       " 'price_level': 2,\n",
       " 'rating': 4.4,\n",
       " 'types': ['restaurant', 'food', 'point_of_interest', 'establishment'],\n",
       " 'user_ratings_total': 657}"
      ]
     },
     "execution_count": 36,
     "metadata": {},
     "output_type": "execute_result"
    }
   ],
   "source": [
    "# perfect here too\n",
    "first_info[6]"
   ]
  },
  {
   "cell_type": "code",
   "execution_count": 37,
   "metadata": {},
   "outputs": [
    {
     "data": {
      "text/plain": [
       "True"
      ]
     },
     "execution_count": 37,
     "metadata": {},
     "output_type": "execute_result"
    }
   ],
   "source": [
    "load_dotenv()"
   ]
  },
  {
   "cell_type": "code",
   "execution_count": 303,
   "metadata": {},
   "outputs": [],
   "source": [
    "g_key = os.getenv(\"GOOGLE_KEY2\")"
   ]
  },
  {
   "cell_type": "code",
   "execution_count": 322,
   "metadata": {},
   "outputs": [],
   "source": [
    "endpoint = \"https://maps.googleapis.com/maps/api/place/photo\"\n",
    "params = {\n",
    "    \n",
    "    \"photoreference\" : \"ATtYBwJDdX67hPxKnqZLWc2w92JIO6QYQEP8ESIXnE6VSXO-gU_4VZymWj44I7h-t_vy8hlyNHaP1PMs8MOzBPSzXcbPADvWq_vZO4D4K5pWRWmwIld0gNzWYOk7mxhpN180PGStPRkO6lTOgks2VFb0ScXMNkUGHIirzqqVbVwi1mf7Hx8s\",\n",
    "    \"maxwidth\" : \"400\",\n",
    "    \"maxheight\" : \"600\",\n",
    "    \"key\" : f\"{g_key}\"\n",
    "}\n",
    "url_params = urlencode(params)\n",
    "url = f\"{endpoint}?{url_params}\"\n",
    "data = requests.get(url)"
   ]
  },
  {
   "cell_type": "code",
   "execution_count": 323,
   "metadata": {},
   "outputs": [
    {
     "data": {
      "text/plain": [
       "<Response [200]>"
      ]
     },
     "execution_count": 323,
     "metadata": {},
     "output_type": "execute_result"
    }
   ],
   "source": [
    "data"
   ]
  },
  {
   "cell_type": "markdown",
   "metadata": {},
   "source": [
    "### *We are going to make all the dictionaries contain the same keys*"
   ]
  },
  {
   "cell_type": "code",
   "execution_count": 21,
   "metadata": {},
   "outputs": [
    {
     "data": {
      "text/plain": [
       "False"
      ]
     },
     "execution_count": 21,
     "metadata": {},
     "output_type": "execute_result"
    }
   ],
   "source": [
    "first_info[0].keys() == second_info[0].keys() == goog_info[0].keys()"
   ]
  },
  {
   "cell_type": "code",
   "execution_count": 22,
   "metadata": {},
   "outputs": [],
   "source": [
    "all_data = goog_info + first_info + second_info\n"
   ]
  },
  {
   "cell_type": "code",
   "execution_count": 23,
   "metadata": {},
   "outputs": [
    {
     "data": {
      "text/plain": [
       "328"
      ]
     },
     "execution_count": 23,
     "metadata": {},
     "output_type": "execute_result"
    }
   ],
   "source": [
    "len(all_data)"
   ]
  },
  {
   "cell_type": "code",
   "execution_count": 148,
   "metadata": {},
   "outputs": [
    {
     "data": {
      "text/plain": [
       "{'business_status': 'OPERATIONAL',\n",
       " 'formatted_address': 'Pje. Canal de Suez, 28042 Madrid, España',\n",
       " 'geometry': {'location': {'lat': 40.472772, 'lng': -3.579572},\n",
       "  'viewport': {'northeast': {'lat': 40.47413352989271,\n",
       "    'lng': -3.578254570107277},\n",
       "   'southwest': {'lat': 40.47143387010727, 'lng': -3.580954229892722}}},\n",
       " 'icon': 'https://maps.gstatic.com/mapfiles/place_api/icons/v1/png_71/restaurant-71.png',\n",
       " 'name': 'Telepizza - Comida a domilio',\n",
       " 'opening_hours': {'open_now': False},\n",
       " 'photos': [{'height': 835,\n",
       "   'html_attributions': ['<a href=\"https://maps.google.com/maps/contrib/110710111564019486686\">Telepizza</a>'],\n",
       "   'photo_reference': 'ATtYBwK4ihiAOvtcPQnQTHTAD-nZlc4rwPprnqVLXBom7WH8vu1moxwjFb0AwPGP4vJ0FoPuQU5hGvpdOtr94Dd_nA0Vo3LtVewXr6P-0w_9_mQKaRjH_jJ4eghpJviWeiuGgga_CdxCihOZYytCiFSzkAe8lL74FCljimvI4m93apEI7D0l',\n",
       "   'width': 1422}],\n",
       " 'place_id': 'ChIJxUJYMd8xQg0RbFs2wlDdhEU',\n",
       " 'plus_code': {'compound_code': 'FCFC+45 Madrid',\n",
       "  'global_code': '8CGRFCFC+45'},\n",
       " 'price_level': 1,\n",
       " 'rating': 3.1,\n",
       " 'types': ['meal_delivery',\n",
       "  'restaurant',\n",
       "  'food',\n",
       "  'point_of_interest',\n",
       "  'establishment'],\n",
       " 'user_ratings_total': 339,\n",
       " 'vicinity': 'Unknown'}"
      ]
     },
     "execution_count": 148,
     "metadata": {},
     "output_type": "execute_result"
    }
   ],
   "source": [
    "all_data[150]"
   ]
  },
  {
   "cell_type": "code",
   "execution_count": 25,
   "metadata": {},
   "outputs": [
    {
     "data": {
      "text/plain": [
       "'ATtYBwIsfqa-oYr2g4DOfQ8vz8feUq0t5pZZ6JmgeQov7iuoQ27VrTnjmmzn3nS1IGd87wjWnxtaBlfFuLFQSfmYefgRUzrs9M5uc70E-6jht2Aj1sjRvcJ5ZfOVRlzCccxMBJdr5UQZ8ca0o8_IRV5jIeEkvJurRnHiPhHLODdgXCFrxFk4'"
      ]
     },
     "execution_count": 25,
     "metadata": {},
     "output_type": "execute_result"
    }
   ],
   "source": [
    "all_data[0][\"photos\"][0]['photo_reference']"
   ]
  },
  {
   "cell_type": "code",
   "execution_count": 26,
   "metadata": {},
   "outputs": [],
   "source": [
    "needed_info = [\"geometry\",\"name\",\"place_id\",\"price_level\",\"rating\",\"types\",\"user_ratings_total\",\"vicinity\",'photos']"
   ]
  },
  {
   "cell_type": "code",
   "execution_count": 27,
   "metadata": {},
   "outputs": [],
   "source": [
    "all_data_same_keys = []"
   ]
  },
  {
   "cell_type": "code",
   "execution_count": 28,
   "metadata": {},
   "outputs": [],
   "source": [
    "for tienda in all_data:\n",
    "    temp_dict = {}\n",
    "    for y in needed_info:\n",
    "        if y not in list(tienda.keys()):\n",
    "            tienda[y] = \"Unknown\"\n",
    "        if y == \"geometry\":\n",
    "            temp_dict[y]= tuple(tienda[y][\"location\"].values())\n",
    "        \n",
    "        else:\n",
    "            temp_dict[y] = tienda[y]\n",
    "        \n",
    "    all_data_same_keys.append(temp_dict)\n",
    "        "
   ]
  },
  {
   "cell_type": "code",
   "execution_count": 29,
   "metadata": {},
   "outputs": [
    {
     "data": {
      "text/plain": [
       "328"
      ]
     },
     "execution_count": 29,
     "metadata": {},
     "output_type": "execute_result"
    }
   ],
   "source": [
    "len(all_data_same_keys)"
   ]
  },
  {
   "cell_type": "code",
   "execution_count": 31,
   "metadata": {},
   "outputs": [
    {
     "data": {
      "text/plain": [
       "{'geometry': (40.4340759, -3.7085295),\n",
       " 'name': 'Kint',\n",
       " 'place_id': 'ChIJS1Nr5l0oQg0RuXCYXOa0yFc',\n",
       " 'price_level': 'Unknown',\n",
       " 'rating': 4.2,\n",
       " 'types': ['restaurant', 'food', 'point_of_interest', 'establishment'],\n",
       " 'user_ratings_total': 112,\n",
       " 'vicinity': 'Calle de Vallehermoso, 36, Madrid',\n",
       " 'photos': [{'height': 4608,\n",
       "   'html_attributions': ['<a href=\"https://maps.google.com/maps/contrib/108913216153539893740\">Laura Garmo</a>'],\n",
       "   'photo_reference': 'ATtYBwIsfqa-oYr2g4DOfQ8vz8feUq0t5pZZ6JmgeQov7iuoQ27VrTnjmmzn3nS1IGd87wjWnxtaBlfFuLFQSfmYefgRUzrs9M5uc70E-6jht2Aj1sjRvcJ5ZfOVRlzCccxMBJdr5UQZ8ca0o8_IRV5jIeEkvJurRnHiPhHLODdgXCFrxFk4',\n",
       "   'width': 3456}]}"
      ]
     },
     "execution_count": 31,
     "metadata": {},
     "output_type": "execute_result"
    }
   ],
   "source": [
    "all_data_same_keys[0]"
   ]
  },
  {
   "cell_type": "code",
   "execution_count": 32,
   "metadata": {},
   "outputs": [
    {
     "name": "stdout",
     "output_type": "stream",
     "text": [
      "Unknown\n",
      "Unknown\n",
      "Unknown\n",
      "Unknown\n"
     ]
    }
   ],
   "source": [
    "for tienda in all_data_same_keys:\n",
    "    try:\n",
    "        tienda[\"photos\"] = tienda[\"photos\"][0][\"photo_reference\"]\n",
    "    except:\n",
    "        print(tienda[\"photos\"])\n",
    "    "
   ]
  },
  {
   "cell_type": "code",
   "execution_count": 33,
   "metadata": {},
   "outputs": [
    {
     "data": {
      "text/plain": [
       "{'geometry': (40.4340759, -3.7085295),\n",
       " 'name': 'Kint',\n",
       " 'place_id': 'ChIJS1Nr5l0oQg0RuXCYXOa0yFc',\n",
       " 'price_level': 'Unknown',\n",
       " 'rating': 4.2,\n",
       " 'types': ['restaurant', 'food', 'point_of_interest', 'establishment'],\n",
       " 'user_ratings_total': 112,\n",
       " 'vicinity': 'Calle de Vallehermoso, 36, Madrid',\n",
       " 'photos': 'ATtYBwIsfqa-oYr2g4DOfQ8vz8feUq0t5pZZ6JmgeQov7iuoQ27VrTnjmmzn3nS1IGd87wjWnxtaBlfFuLFQSfmYefgRUzrs9M5uc70E-6jht2Aj1sjRvcJ5ZfOVRlzCccxMBJdr5UQZ8ca0o8_IRV5jIeEkvJurRnHiPhHLODdgXCFrxFk4'}"
      ]
     },
     "execution_count": 33,
     "metadata": {},
     "output_type": "execute_result"
    }
   ],
   "source": [
    "all_data_same_keys[0]"
   ]
  },
  {
   "cell_type": "markdown",
   "metadata": {},
   "source": [
    "### *We have to clean the `types` category*"
   ]
  },
  {
   "cell_type": "code",
   "execution_count": 34,
   "metadata": {},
   "outputs": [],
   "source": [
    "# We will only label restaruant, bakery, bar, cafe, store, supermarket, or locale"
   ]
  },
  {
   "cell_type": "code",
   "execution_count": 35,
   "metadata": {},
   "outputs": [],
   "source": [
    "for d in all_data_same_keys:\n",
    "    if \"bakery\" in d[\"types\"] and \"restaurant\" in d[\"types\"]:\n",
    "        d[\"types\"] = \"restaurant/bakery\"\n",
    "    elif \"bakery\" in d[\"types\"]:\n",
    "        d[\"types\"] = \"bakery\"\n",
    "    elif \"restaurant\" in d[\"types\"]:        \n",
    "        d[\"types\"] = \"restaurant\"\n",
    "    elif \"cafe\" in d[\"types\"]:\n",
    "        d[\"types\"] = \"cafe\"\n",
    "    elif \"store\" in d[\"types\"]:\n",
    "        d[\"types\"] = \"store\"\n",
    "    elif \"supermarket\" in d[\"types\"]:\n",
    "        d[\"types\"] = \"supermarket\"\n",
    "    elif \"lodging\" in d[\"types\"]:\n",
    "        d[\"types\"] = \"locale\"\n",
    "    else:\n",
    "        d[\"types\"] = \"locale\""
   ]
  },
  {
   "cell_type": "markdown",
   "metadata": {},
   "source": [
    "### *Now we can get back to creating our DataFrame*"
   ]
  },
  {
   "cell_type": "code",
   "execution_count": 17,
   "metadata": {},
   "outputs": [
    {
     "ename": "NameError",
     "evalue": "name 'all_data_same_keys' is not defined",
     "output_type": "error",
     "traceback": [
      "\u001b[0;31m---------------------------------------------------------------------------\u001b[0m",
      "\u001b[0;31mNameError\u001b[0m                                 Traceback (most recent call last)",
      "\u001b[0;32m<ipython-input-17-054a0ae08f2a>\u001b[0m in \u001b[0;36m<module>\u001b[0;34m\u001b[0m\n\u001b[0;32m----> 1\u001b[0;31m \u001b[0mall_data_same_keys\u001b[0m\u001b[0;34m[\u001b[0m\u001b[0;36m0\u001b[0m\u001b[0;34m]\u001b[0m\u001b[0;34m\u001b[0m\u001b[0;34m\u001b[0m\u001b[0m\n\u001b[0m",
      "\u001b[0;31mNameError\u001b[0m: name 'all_data_same_keys' is not defined"
     ]
    }
   ],
   "source": [
    "all_data_same_keys[0]"
   ]
  },
  {
   "cell_type": "code",
   "execution_count": 43,
   "metadata": {},
   "outputs": [],
   "source": [
    "df = pd.DataFrame(data=all_data_same_keys)"
   ]
  },
  {
   "cell_type": "code",
   "execution_count": 70,
   "metadata": {},
   "outputs": [
    {
     "data": {
      "text/html": [
       "<div>\n",
       "<style scoped>\n",
       "    .dataframe tbody tr th:only-of-type {\n",
       "        vertical-align: middle;\n",
       "    }\n",
       "\n",
       "    .dataframe tbody tr th {\n",
       "        vertical-align: top;\n",
       "    }\n",
       "\n",
       "    .dataframe thead th {\n",
       "        text-align: right;\n",
       "    }\n",
       "</style>\n",
       "<table border=\"1\" class=\"dataframe\">\n",
       "  <thead>\n",
       "    <tr style=\"text-align: right;\">\n",
       "      <th></th>\n",
       "      <th>name</th>\n",
       "      <th>rating</th>\n",
       "      <th>user_ratings_total</th>\n",
       "      <th>price_level</th>\n",
       "      <th>types</th>\n",
       "      <th>vicinity</th>\n",
       "      <th>geometry</th>\n",
       "      <th>place_id</th>\n",
       "      <th>photos</th>\n",
       "    </tr>\n",
       "  </thead>\n",
       "  <tbody>\n",
       "    <tr>\n",
       "      <th>0</th>\n",
       "      <td>Kint</td>\n",
       "      <td>4.2</td>\n",
       "      <td>112</td>\n",
       "      <td>Unknown</td>\n",
       "      <td>restaurant</td>\n",
       "      <td>Calle de Vallehermoso, 36, Madrid</td>\n",
       "      <td>(40.4340759, -3.7085295)</td>\n",
       "      <td>ChIJS1Nr5l0oQg0RuXCYXOa0yFc</td>\n",
       "      <td>ATtYBwIsfqa-oYr2g4DOfQ8vz8feUq0t5pZZ6JmgeQov7i...</td>\n",
       "    </tr>\n",
       "    <tr>\n",
       "      <th>1</th>\n",
       "      <td>CELICIOSO Gluten Free Bakery</td>\n",
       "      <td>4.2</td>\n",
       "      <td>1152</td>\n",
       "      <td>Unknown</td>\n",
       "      <td>bakery</td>\n",
       "      <td>Calle de Hortaleza, 3, Madrid</td>\n",
       "      <td>(40.420441, -3.701066)</td>\n",
       "      <td>ChIJ5baGCIcoQg0RksMlNKe6qO8</td>\n",
       "      <td>ATtYBwJo5MrAPHOZvZi7fFKPBqtMGjgzWe6jf0aoQ4GBNO...</td>\n",
       "    </tr>\n",
       "    <tr>\n",
       "      <th>2</th>\n",
       "      <td>[0% Gluten] Madrid</td>\n",
       "      <td>4.6</td>\n",
       "      <td>108</td>\n",
       "      <td>Unknown</td>\n",
       "      <td>restaurant/bakery</td>\n",
       "      <td>Calle de Vallehermoso, 33, Madrid</td>\n",
       "      <td>(40.4331079, -3.7088897)</td>\n",
       "      <td>ChIJB0yQ9XcpQg0R9Je9XUIpVwY</td>\n",
       "      <td>ATtYBwKoeVDdxQhyt7tnlikHlMpNl87XFReh4tCONwC40-...</td>\n",
       "    </tr>\n",
       "    <tr>\n",
       "      <th>3</th>\n",
       "      <td>As De Bastos Madrid</td>\n",
       "      <td>4.3</td>\n",
       "      <td>568</td>\n",
       "      <td>2</td>\n",
       "      <td>restaurant</td>\n",
       "      <td>Calle de Castilla, 62, Madrid</td>\n",
       "      <td>(40.453162, -3.7079958)</td>\n",
       "      <td>ChIJdUnxVVMoQg0RNPU8dv_jxcs</td>\n",
       "      <td>ATtYBwL5bG87doPI7tYpGNF7Wba8v9-tR7UIExfnhEtm5-...</td>\n",
       "    </tr>\n",
       "    <tr>\n",
       "      <th>4</th>\n",
       "      <td>Sana Locura Gluten Free Bakery</td>\n",
       "      <td>4.4</td>\n",
       "      <td>949</td>\n",
       "      <td>Unknown</td>\n",
       "      <td>bakery</td>\n",
       "      <td>Calle del Gral Oraá, 49, Madrid</td>\n",
       "      <td>(40.4360652, -3.6801016)</td>\n",
       "      <td>ChIJZwcvVsAoQg0REM51rwkH0TM</td>\n",
       "      <td>ATtYBwIiEgw_OlVIPlDVakTKG3pfkCuMdVEafiPrzj96Qp...</td>\n",
       "    </tr>\n",
       "  </tbody>\n",
       "</table>\n",
       "</div>"
      ],
      "text/plain": [
       "                             name rating user_ratings_total price_level  \\\n",
       "0                            Kint    4.2                112     Unknown   \n",
       "1    CELICIOSO Gluten Free Bakery    4.2               1152     Unknown   \n",
       "2              [0% Gluten] Madrid    4.6                108     Unknown   \n",
       "3             As De Bastos Madrid    4.3                568           2   \n",
       "4  Sana Locura Gluten Free Bakery    4.4                949     Unknown   \n",
       "\n",
       "               types                           vicinity  \\\n",
       "0         restaurant  Calle de Vallehermoso, 36, Madrid   \n",
       "1             bakery      Calle de Hortaleza, 3, Madrid   \n",
       "2  restaurant/bakery  Calle de Vallehermoso, 33, Madrid   \n",
       "3         restaurant      Calle de Castilla, 62, Madrid   \n",
       "4             bakery    Calle del Gral Oraá, 49, Madrid   \n",
       "\n",
       "                   geometry                     place_id  \\\n",
       "0  (40.4340759, -3.7085295)  ChIJS1Nr5l0oQg0RuXCYXOa0yFc   \n",
       "1    (40.420441, -3.701066)  ChIJ5baGCIcoQg0RksMlNKe6qO8   \n",
       "2  (40.4331079, -3.7088897)  ChIJB0yQ9XcpQg0R9Je9XUIpVwY   \n",
       "3   (40.453162, -3.7079958)  ChIJdUnxVVMoQg0RNPU8dv_jxcs   \n",
       "4  (40.4360652, -3.6801016)  ChIJZwcvVsAoQg0REM51rwkH0TM   \n",
       "\n",
       "                                              photos  \n",
       "0  ATtYBwIsfqa-oYr2g4DOfQ8vz8feUq0t5pZZ6JmgeQov7i...  \n",
       "1  ATtYBwJo5MrAPHOZvZi7fFKPBqtMGjgzWe6jf0aoQ4GBNO...  \n",
       "2  ATtYBwKoeVDdxQhyt7tnlikHlMpNl87XFReh4tCONwC40-...  \n",
       "3  ATtYBwL5bG87doPI7tYpGNF7Wba8v9-tR7UIExfnhEtm5-...  \n",
       "4  ATtYBwIiEgw_OlVIPlDVakTKG3pfkCuMdVEafiPrzj96Qp...  "
      ]
     },
     "execution_count": 70,
     "metadata": {},
     "output_type": "execute_result"
    }
   ],
   "source": [
    "df.head()"
   ]
  },
  {
   "cell_type": "code",
   "execution_count": 54,
   "metadata": {},
   "outputs": [
    {
     "data": {
      "text/plain": [
       "ChIJS1Nr5l0oQg0RuXCYXOa0yFc    4\n",
       "ChIJeTj6uWQoQg0RxTrKSleUhy0    4\n",
       "ChIJVzV7bogoQg0R0KlyHbgIVCo    3\n",
       "ChIJZwcvVsAoQg0REM51rwkH0TM    3\n",
       "ChIJzXH90wIpQg0Rn7mJGoLe-Pw    3\n",
       "Name: place_id, dtype: int64"
      ]
     },
     "execution_count": 54,
     "metadata": {},
     "output_type": "execute_result"
    }
   ],
   "source": [
    "df.place_id.value_counts().head()"
   ]
  },
  {
   "cell_type": "code",
   "execution_count": 63,
   "metadata": {},
   "outputs": [],
   "source": [
    "df.drop_duplicates(subset=[\"place_id\"],ignore_index=True,inplace=True)"
   ]
  },
  {
   "cell_type": "code",
   "execution_count": 64,
   "metadata": {},
   "outputs": [
    {
     "data": {
      "text/plain": [
       "ChIJT-wbkhAvQg0RZZINWMG9tsY    1\n",
       "ChIJKTA6gmUoQg0R4yQo6VrLVV0    1\n",
       "ChIJRcIICPsoQg0R8AKkEOjEumo    1\n",
       "ChIJH55s00MoQg0R1uvmdcBrthw    1\n",
       "ChIJw3P0hPYnQg0RCQp9gmZD41U    1\n",
       "Name: place_id, dtype: int64"
      ]
     },
     "execution_count": 64,
     "metadata": {},
     "output_type": "execute_result"
    }
   ],
   "source": [
    "df.place_id.value_counts().head()"
   ]
  },
  {
   "cell_type": "code",
   "execution_count": 67,
   "metadata": {},
   "outputs": [
    {
     "data": {
      "text/plain": [
       "Index(['geometry', 'name', 'place_id', 'price_level', 'rating', 'types',\n",
       "       'user_ratings_total', 'vicinity', 'photos'],\n",
       "      dtype='object')"
      ]
     },
     "execution_count": 67,
     "metadata": {},
     "output_type": "execute_result"
    }
   ],
   "source": [
    "df.columns"
   ]
  },
  {
   "cell_type": "code",
   "execution_count": 68,
   "metadata": {},
   "outputs": [],
   "source": [
    "df = df[['name','rating','user_ratings_total','price_level','types','vicinity','geometry','place_id',\n",
    "       'photos']]"
   ]
  },
  {
   "cell_type": "code",
   "execution_count": 80,
   "metadata": {},
   "outputs": [
    {
     "data": {
      "text/plain": [
       "VIPS                              35\n",
       "Rodilla                           34\n",
       "Ginos                             23\n",
       "McDonald's                        23\n",
       "Telepizza - Comida a domicilio    21\n",
       "Name: name, dtype: int64"
      ]
     },
     "execution_count": 80,
     "metadata": {},
     "output_type": "execute_result"
    }
   ],
   "source": [
    "df.name.value_counts().head()"
   ]
  },
  {
   "cell_type": "code",
   "execution_count": 82,
   "metadata": {},
   "outputs": [],
   "source": [
    "chains = [\"VIPS\",\"Rodilla\", \"Ginos\", \"McDonald's\", \"Telepizza - Comida a domicilio\", \"Telepizza\", \"Tommy Mel's\", \"Fridays\", \"Pizza Jardín\"]\n"
   ]
  },
  {
   "cell_type": "code",
   "execution_count": 143,
   "metadata": {},
   "outputs": [],
   "source": [
    "ch = []\n",
    "for n in df.name:\n",
    "    if n in chains:\n",
    "        ch.append(\"chain\")\n",
    "    else:\n",
    "        ch.append(\"unique\")\n"
   ]
  },
  {
   "cell_type": "code",
   "execution_count": null,
   "metadata": {},
   "outputs": [],
   "source": []
  },
  {
   "cell_type": "code",
   "execution_count": 144,
   "metadata": {},
   "outputs": [],
   "source": [
    "df[\"chain\"] = ch"
   ]
  },
  {
   "cell_type": "code",
   "execution_count": 145,
   "metadata": {},
   "outputs": [],
   "source": [
    "df = df[['name','rating','user_ratings_total','price_level','types','chain', 'vicinity','geometry','place_id',\n",
    "       'photos']]"
   ]
  },
  {
   "cell_type": "code",
   "execution_count": 146,
   "metadata": {},
   "outputs": [
    {
     "data": {
      "text/html": [
       "<div>\n",
       "<style scoped>\n",
       "    .dataframe tbody tr th:only-of-type {\n",
       "        vertical-align: middle;\n",
       "    }\n",
       "\n",
       "    .dataframe tbody tr th {\n",
       "        vertical-align: top;\n",
       "    }\n",
       "\n",
       "    .dataframe thead th {\n",
       "        text-align: right;\n",
       "    }\n",
       "</style>\n",
       "<table border=\"1\" class=\"dataframe\">\n",
       "  <thead>\n",
       "    <tr style=\"text-align: right;\">\n",
       "      <th></th>\n",
       "      <th>name</th>\n",
       "      <th>rating</th>\n",
       "      <th>user_ratings_total</th>\n",
       "      <th>price_level</th>\n",
       "      <th>types</th>\n",
       "      <th>chain</th>\n",
       "      <th>vicinity</th>\n",
       "      <th>geometry</th>\n",
       "      <th>place_id</th>\n",
       "      <th>photos</th>\n",
       "    </tr>\n",
       "  </thead>\n",
       "  <tbody>\n",
       "    <tr>\n",
       "      <th>0</th>\n",
       "      <td>Kint</td>\n",
       "      <td>4.2</td>\n",
       "      <td>112</td>\n",
       "      <td>Unknown</td>\n",
       "      <td>restaurant</td>\n",
       "      <td>unique</td>\n",
       "      <td>Calle de Vallehermoso, 36, Madrid</td>\n",
       "      <td>(40.4340759, -3.7085295)</td>\n",
       "      <td>ChIJS1Nr5l0oQg0RuXCYXOa0yFc</td>\n",
       "      <td>ATtYBwIsfqa-oYr2g4DOfQ8vz8feUq0t5pZZ6JmgeQov7i...</td>\n",
       "    </tr>\n",
       "    <tr>\n",
       "      <th>1</th>\n",
       "      <td>CELICIOSO Gluten Free Bakery</td>\n",
       "      <td>4.2</td>\n",
       "      <td>1152</td>\n",
       "      <td>Unknown</td>\n",
       "      <td>bakery</td>\n",
       "      <td>unique</td>\n",
       "      <td>Calle de Hortaleza, 3, Madrid</td>\n",
       "      <td>(40.420441, -3.701066)</td>\n",
       "      <td>ChIJ5baGCIcoQg0RksMlNKe6qO8</td>\n",
       "      <td>ATtYBwJo5MrAPHOZvZi7fFKPBqtMGjgzWe6jf0aoQ4GBNO...</td>\n",
       "    </tr>\n",
       "    <tr>\n",
       "      <th>2</th>\n",
       "      <td>[0% Gluten] Madrid</td>\n",
       "      <td>4.6</td>\n",
       "      <td>108</td>\n",
       "      <td>Unknown</td>\n",
       "      <td>restaurant/bakery</td>\n",
       "      <td>unique</td>\n",
       "      <td>Calle de Vallehermoso, 33, Madrid</td>\n",
       "      <td>(40.4331079, -3.7088897)</td>\n",
       "      <td>ChIJB0yQ9XcpQg0R9Je9XUIpVwY</td>\n",
       "      <td>ATtYBwKoeVDdxQhyt7tnlikHlMpNl87XFReh4tCONwC40-...</td>\n",
       "    </tr>\n",
       "    <tr>\n",
       "      <th>3</th>\n",
       "      <td>As De Bastos Madrid</td>\n",
       "      <td>4.3</td>\n",
       "      <td>568</td>\n",
       "      <td>2</td>\n",
       "      <td>restaurant</td>\n",
       "      <td>unique</td>\n",
       "      <td>Calle de Castilla, 62, Madrid</td>\n",
       "      <td>(40.453162, -3.7079958)</td>\n",
       "      <td>ChIJdUnxVVMoQg0RNPU8dv_jxcs</td>\n",
       "      <td>ATtYBwL5bG87doPI7tYpGNF7Wba8v9-tR7UIExfnhEtm5-...</td>\n",
       "    </tr>\n",
       "    <tr>\n",
       "      <th>4</th>\n",
       "      <td>Sana Locura Gluten Free Bakery</td>\n",
       "      <td>4.4</td>\n",
       "      <td>949</td>\n",
       "      <td>Unknown</td>\n",
       "      <td>bakery</td>\n",
       "      <td>unique</td>\n",
       "      <td>Calle del Gral Oraá, 49, Madrid</td>\n",
       "      <td>(40.4360652, -3.6801016)</td>\n",
       "      <td>ChIJZwcvVsAoQg0REM51rwkH0TM</td>\n",
       "      <td>ATtYBwIiEgw_OlVIPlDVakTKG3pfkCuMdVEafiPrzj96Qp...</td>\n",
       "    </tr>\n",
       "    <tr>\n",
       "      <th>5</th>\n",
       "      <td>Da Nicola Gran Vía</td>\n",
       "      <td>4.3</td>\n",
       "      <td>2742</td>\n",
       "      <td>2</td>\n",
       "      <td>restaurant</td>\n",
       "      <td>unique</td>\n",
       "      <td>Plaza de los Mostenses, 11, LOCAL, Madrid</td>\n",
       "      <td>(40.4230288, -3.708687)</td>\n",
       "      <td>ChIJeTj6uWQoQg0RxTrKSleUhy0</td>\n",
       "      <td>ATtYBwJxjFXZ0GiU5d0yvdijo4oZxCGnZ6kFpPiyzGe72G...</td>\n",
       "    </tr>\n",
       "    <tr>\n",
       "      <th>6</th>\n",
       "      <td>Celilocos</td>\n",
       "      <td>4.7</td>\n",
       "      <td>266</td>\n",
       "      <td>1</td>\n",
       "      <td>restaurant</td>\n",
       "      <td>unique</td>\n",
       "      <td>Calle de Carlos Sole, 6, Madrid</td>\n",
       "      <td>(40.3944816, -3.6510818)</td>\n",
       "      <td>ChIJsQylGeglQg0R5n2B4pQo0RM</td>\n",
       "      <td>ATtYBwLS1RN57XTXFEuOltwI8s_BhszKquEMu1P4s__8Rj...</td>\n",
       "    </tr>\n",
       "    <tr>\n",
       "      <th>7</th>\n",
       "      <td>LaLina Bravas, Tapas y Copas</td>\n",
       "      <td>4.3</td>\n",
       "      <td>697</td>\n",
       "      <td>2</td>\n",
       "      <td>restaurant</td>\n",
       "      <td>unique</td>\n",
       "      <td>Plaza de la Cebada, 2, Madrid</td>\n",
       "      <td>(40.4114544, -3.7089143)</td>\n",
       "      <td>ChIJwUqxbNYnQg0R6Bi3n8wsytA</td>\n",
       "      <td>ATtYBwInLRcoXfomYmOu9m64Cl1AOzwzQ6xnmyQaXl2ryZ...</td>\n",
       "    </tr>\n",
       "    <tr>\n",
       "      <th>8</th>\n",
       "      <td>Celicioso Retiro</td>\n",
       "      <td>3.8</td>\n",
       "      <td>329</td>\n",
       "      <td>Unknown</td>\n",
       "      <td>restaurant/bakery</td>\n",
       "      <td>unique</td>\n",
       "      <td>Calle de O'Donnell, 4, Madrid</td>\n",
       "      <td>(40.4215592, -3.6795075)</td>\n",
       "      <td>ChIJDSNaq8gpQg0RhtCw8fO-8VQ</td>\n",
       "      <td>ATtYBwJ0xvE96nLURnQQtfjQ0d0I4PT-_h0rg7ajbNo_Jr...</td>\n",
       "    </tr>\n",
       "    <tr>\n",
       "      <th>9</th>\n",
       "      <td>Restaurante Italiano \"Il Piccolino Della Farfa...</td>\n",
       "      <td>4.1</td>\n",
       "      <td>950</td>\n",
       "      <td>1</td>\n",
       "      <td>restaurant</td>\n",
       "      <td>unique</td>\n",
       "      <td>Calle de las Huertas, 6, Madrid</td>\n",
       "      <td>(40.4140114, -3.7009911)</td>\n",
       "      <td>ChIJAyl8N4AoQg0ReRdyzJU08jo</td>\n",
       "      <td>ATtYBwIKRb5a_0fWTnCWJwUHLOGp_JjSRACbhn-RTuzGzI...</td>\n",
       "    </tr>\n",
       "    <tr>\n",
       "      <th>10</th>\n",
       "      <td>Restaurante Vegetariano Artemisa Sol - Gran Vía</td>\n",
       "      <td>4.4</td>\n",
       "      <td>1270</td>\n",
       "      <td>2</td>\n",
       "      <td>restaurant</td>\n",
       "      <td>unique</td>\n",
       "      <td>Calle de las Tres Cruces, 4, Madrid</td>\n",
       "      <td>(40.4192584, -3.7028659)</td>\n",
       "      <td>ChIJC4OxX4coQg0R3bqGh0fouew</td>\n",
       "      <td>ATtYBwKwQTLPo0ukRyoGWVp9sAo3Um8C9wC4cxnKlLtcRJ...</td>\n",
       "    </tr>\n",
       "    <tr>\n",
       "      <th>11</th>\n",
       "      <td>Restaurante Vegetariano Artemisa Sol - Huertas</td>\n",
       "      <td>4.4</td>\n",
       "      <td>1081</td>\n",
       "      <td>2</td>\n",
       "      <td>restaurant</td>\n",
       "      <td>unique</td>\n",
       "      <td>Calle de Ventura de la Vega, 4, Madrid</td>\n",
       "      <td>(40.4160178, -3.6989251)</td>\n",
       "      <td>ChIJq4-kc4EoQg0R7eDDJ8AH-R0</td>\n",
       "      <td>ATtYBwJyUtQSujxH9ghEdH7Hj_1qOl8UpaNvj27_JMs2ll...</td>\n",
       "    </tr>\n",
       "    <tr>\n",
       "      <th>12</th>\n",
       "      <td>Emma &amp; Julia Italian Restaurant</td>\n",
       "      <td>4.2</td>\n",
       "      <td>1165</td>\n",
       "      <td>2</td>\n",
       "      <td>restaurant</td>\n",
       "      <td>unique</td>\n",
       "      <td>Calle de la Cava Baja, 19, Madrid</td>\n",
       "      <td>(40.41252, -3.708932)</td>\n",
       "      <td>ChIJm-bNHdYnQg0RgSAiXTGLJak</td>\n",
       "      <td>ATtYBwKo80jybjL5DII2x0JFHZeqB-hPkxCr98PrQ9VyuR...</td>\n",
       "    </tr>\n",
       "    <tr>\n",
       "      <th>13</th>\n",
       "      <td>Rosa Negra Madrid</td>\n",
       "      <td>4.3</td>\n",
       "      <td>1344</td>\n",
       "      <td>1</td>\n",
       "      <td>restaurant</td>\n",
       "      <td>unique</td>\n",
       "      <td>Calle del León, 16, Madrid</td>\n",
       "      <td>(40.4138325, -3.6990401)</td>\n",
       "      <td>ChIJ_5ax6YEoQg0R6cDMcYnr24w</td>\n",
       "      <td>ATtYBwIaKwvsXp5bR-2ms5ar-E6m-78w4yXdKTqOEOBUVs...</td>\n",
       "    </tr>\n",
       "    <tr>\n",
       "      <th>14</th>\n",
       "      <td>Komoenkasa</td>\n",
       "      <td>3</td>\n",
       "      <td>2</td>\n",
       "      <td>Unknown</td>\n",
       "      <td>restaurant</td>\n",
       "      <td>unique</td>\n",
       "      <td>Calle de Embajadores, 41, Madrid</td>\n",
       "      <td>(40.4077339, -3.7036534)</td>\n",
       "      <td>ChIJyxohVNMnQg0RWDd_vL4FS6c</td>\n",
       "      <td>ATtYBwJ3i1C6LEgA0bFJAufSPBJ8pZ6EJx7skRdbtOquPl...</td>\n",
       "    </tr>\n",
       "    <tr>\n",
       "      <th>15</th>\n",
       "      <td>Celikatessen</td>\n",
       "      <td>4.5</td>\n",
       "      <td>37</td>\n",
       "      <td>Unknown</td>\n",
       "      <td>restaurant/bakery</td>\n",
       "      <td>unique</td>\n",
       "      <td>Mercado de Pacífico (planta baja, Calle de Val...</td>\n",
       "      <td>(40.404382, -3.675598999999999)</td>\n",
       "      <td>ChIJ398NZRomQg0R4Yp3ZfEPYUs</td>\n",
       "      <td>ATtYBwK8AvsUBWS8T7YGNIXa2CBOLTlMhgK5gkBSpPFnLm...</td>\n",
       "    </tr>\n",
       "    <tr>\n",
       "      <th>16</th>\n",
       "      <td>Celicioso Barquillo</td>\n",
       "      <td>4.2</td>\n",
       "      <td>609</td>\n",
       "      <td>Unknown</td>\n",
       "      <td>bakery</td>\n",
       "      <td>unique</td>\n",
       "      <td>Calle del Barquillo, 19, Madrid</td>\n",
       "      <td>(40.422141, -3.695701)</td>\n",
       "      <td>ChIJd3mcmIUoQg0RMNJx6bg0G_w</td>\n",
       "      <td>ATtYBwKP5h5sXpaGatY0OqTLEvmP3D3f19-EFG-PwIBi7T...</td>\n",
       "    </tr>\n",
       "    <tr>\n",
       "      <th>17</th>\n",
       "      <td>Panadería Gluten Free</td>\n",
       "      <td>4.8</td>\n",
       "      <td>4</td>\n",
       "      <td>Unknown</td>\n",
       "      <td>cafe</td>\n",
       "      <td>unique</td>\n",
       "      <td>Calle del Gral Oraá, 49, Madrid</td>\n",
       "      <td>(40.4360652, -3.6801016)</td>\n",
       "      <td>ChIJZwcvVsAoQg0RbFhDRSQFREs</td>\n",
       "      <td>ATtYBwJKQippjB5RnbudoFuGntp_gajwnnoiGIpVokblcT...</td>\n",
       "    </tr>\n",
       "    <tr>\n",
       "      <th>18</th>\n",
       "      <td>Restaurante La Jauría</td>\n",
       "      <td>3.9</td>\n",
       "      <td>899</td>\n",
       "      <td>2</td>\n",
       "      <td>restaurant</td>\n",
       "      <td>unique</td>\n",
       "      <td>Calle de Colón, 10, Madrid</td>\n",
       "      <td>(40.4238805, -3.7011607)</td>\n",
       "      <td>ChIJVzV7bogoQg0R0KlyHbgIVCo</td>\n",
       "      <td>ATtYBwK_9EoBNZJnNVljeKVmbmDqI_1QkcHQHiF26jtN0y...</td>\n",
       "    </tr>\n",
       "    <tr>\n",
       "      <th>19</th>\n",
       "      <td>Oliveto</td>\n",
       "      <td>4.6</td>\n",
       "      <td>542</td>\n",
       "      <td>2</td>\n",
       "      <td>restaurant</td>\n",
       "      <td>unique</td>\n",
       "      <td>Calle de Santa Isabel, 45, Madrid</td>\n",
       "      <td>(40.4097901, -3.6964677)</td>\n",
       "      <td>ChIJP3fGEikmQg0Ry4WDlLBZqOo</td>\n",
       "      <td>ATtYBwIuLRwuo4T5blGL2sAFtowv9-BFEARwqeT16JRj_2...</td>\n",
       "    </tr>\n",
       "    <tr>\n",
       "      <th>20</th>\n",
       "      <td>New York Burger - San Germán</td>\n",
       "      <td>4.3</td>\n",
       "      <td>2272</td>\n",
       "      <td>2</td>\n",
       "      <td>restaurant</td>\n",
       "      <td>unique</td>\n",
       "      <td>Unknown</td>\n",
       "      <td>(40.4560497, -3.6928645)</td>\n",
       "      <td>ChIJzXH90wIpQg0Rn7mJGoLe-Pw</td>\n",
       "      <td>ATtYBwJ0UKXI_0ZkP9zyKFluukGy1mkhlF_3bwo6wGh9_m...</td>\n",
       "    </tr>\n",
       "    <tr>\n",
       "      <th>21</th>\n",
       "      <td>Alfredo's Barbacoa Juan Hurtado</td>\n",
       "      <td>4.4</td>\n",
       "      <td>3597</td>\n",
       "      <td>Unknown</td>\n",
       "      <td>restaurant</td>\n",
       "      <td>unique</td>\n",
       "      <td>Unknown</td>\n",
       "      <td>(40.4605736, -3.6872011)</td>\n",
       "      <td>ChIJ9RC9YBkpQg0RPL1JhDKMkzc</td>\n",
       "      <td>ATtYBwIkE_4i4VI7ALkmPomXOhNgvhV-YHOTa2YHd8Vbrg...</td>\n",
       "    </tr>\n",
       "    <tr>\n",
       "      <th>22</th>\n",
       "      <td>Flavia Madrid</td>\n",
       "      <td>4.3</td>\n",
       "      <td>1174</td>\n",
       "      <td>2</td>\n",
       "      <td>restaurant</td>\n",
       "      <td>unique</td>\n",
       "      <td>Unknown</td>\n",
       "      <td>(40.422401, -3.6896)</td>\n",
       "      <td>ChIJI0gpZpooQg0R79spvYzp_q4</td>\n",
       "      <td>ATtYBwKVN2fjCwFLgXH-iAJI9SaWEPagkIdxA5X7g-Q6j7...</td>\n",
       "    </tr>\n",
       "    <tr>\n",
       "      <th>23</th>\n",
       "      <td>Restaurante El Senador</td>\n",
       "      <td>4.5</td>\n",
       "      <td>598</td>\n",
       "      <td>3</td>\n",
       "      <td>restaurant</td>\n",
       "      <td>unique</td>\n",
       "      <td>Unknown</td>\n",
       "      <td>(40.42060480000001, -3.711468)</td>\n",
       "      <td>ChIJy0Hh83ooQg0R51xynRVNQqI</td>\n",
       "      <td>ATtYBwK7fUT5sW5BMfANaN-YkeRjXp20lDAncCR2Vj0xWd...</td>\n",
       "    </tr>\n",
       "    <tr>\n",
       "      <th>24</th>\n",
       "      <td>Restaurante lapizza+sana</td>\n",
       "      <td>4.4</td>\n",
       "      <td>657</td>\n",
       "      <td>2</td>\n",
       "      <td>restaurant</td>\n",
       "      <td>unique</td>\n",
       "      <td>Unknown</td>\n",
       "      <td>(40.4576184, -3.6244434)</td>\n",
       "      <td>ChIJgSTLS_4uQg0RAxTNQPdr5Ao</td>\n",
       "      <td>ATtYBwJDdX67hPxKnqZLWc2w92JIO6QYQEP8ESIXnE6VSX...</td>\n",
       "    </tr>\n",
       "    <tr>\n",
       "      <th>25</th>\n",
       "      <td>Pastelería La Oriental Sin gluten</td>\n",
       "      <td>4</td>\n",
       "      <td>115</td>\n",
       "      <td>Unknown</td>\n",
       "      <td>bakery</td>\n",
       "      <td>unique</td>\n",
       "      <td>Unknown</td>\n",
       "      <td>(40.429531, -3.720771)</td>\n",
       "      <td>ChIJZ4t4Y6UpQg0Rej24KrQ8Ehw</td>\n",
       "      <td>ATtYBwIRCv-bYTo9wDhgg0OJmsMCmNUUI7uE2lJnkIq66i...</td>\n",
       "    </tr>\n",
       "    <tr>\n",
       "      <th>26</th>\n",
       "      <td>Taberna La Concha</td>\n",
       "      <td>4.5</td>\n",
       "      <td>1263</td>\n",
       "      <td>2</td>\n",
       "      <td>restaurant</td>\n",
       "      <td>unique</td>\n",
       "      <td>Unknown</td>\n",
       "      <td>(40.4131907, -3.7083581)</td>\n",
       "      <td>ChIJvdlhrngoQg0RFmx7kraNRUg</td>\n",
       "      <td>ATtYBwIiIQSKeJUseTiCgIUv2jMToIpBT43ZT5ceyk5CXp...</td>\n",
       "    </tr>\n",
       "    <tr>\n",
       "      <th>27</th>\n",
       "      <td>Maestro Churrero</td>\n",
       "      <td>3.7</td>\n",
       "      <td>2158</td>\n",
       "      <td>1</td>\n",
       "      <td>store</td>\n",
       "      <td>unique</td>\n",
       "      <td>Unknown</td>\n",
       "      <td>(40.4141747, -3.7032202)</td>\n",
       "      <td>ChIJm3Lux38oQg0Rnjz3ETM-EpI</td>\n",
       "      <td>ATtYBwI4YssIpqIiEgHvqNX4D2aMkWCmZikGww5Ix7bgak...</td>\n",
       "    </tr>\n",
       "    <tr>\n",
       "      <th>28</th>\n",
       "      <td>EL ANCIANO REY DE LOS VINOS S.L.</td>\n",
       "      <td>4.2</td>\n",
       "      <td>1115</td>\n",
       "      <td>2</td>\n",
       "      <td>restaurant</td>\n",
       "      <td>unique</td>\n",
       "      <td>Unknown</td>\n",
       "      <td>(40.41544409999999, -3.7133132)</td>\n",
       "      <td>ChIJnbhUeXcoQg0Rj7gl-m7dgjM</td>\n",
       "      <td>ATtYBwL1uEWMms3bqhjiTUaB1jdg9I1DH3giGU_Cgj23xe...</td>\n",
       "    </tr>\n",
       "    <tr>\n",
       "      <th>29</th>\n",
       "      <td>Rodilla</td>\n",
       "      <td>4.1</td>\n",
       "      <td>2824</td>\n",
       "      <td>1</td>\n",
       "      <td>restaurant</td>\n",
       "      <td>chain</td>\n",
       "      <td>Unknown</td>\n",
       "      <td>(40.417296, -3.702825)</td>\n",
       "      <td>ChIJjfz9poAoQg0RgTLNvTU9olc</td>\n",
       "      <td>ATtYBwKjCq9xRnfnij2a2M10FqOcEQ-LMHAuOvS_tmzMvm...</td>\n",
       "    </tr>\n",
       "    <tr>\n",
       "      <th>30</th>\n",
       "      <td>Solo de Croquetas</td>\n",
       "      <td>4.2</td>\n",
       "      <td>681</td>\n",
       "      <td>Unknown</td>\n",
       "      <td>restaurant</td>\n",
       "      <td>unique</td>\n",
       "      <td>Unknown</td>\n",
       "      <td>(40.4160129, -3.6995733)</td>\n",
       "      <td>ChIJM8jeeespQg0RPBIKiF2kKns</td>\n",
       "      <td>ATtYBwKFiN0WPSoKYzTRZj53nWg5wQbgaXec8xq4qaYIPL...</td>\n",
       "    </tr>\n",
       "    <tr>\n",
       "      <th>31</th>\n",
       "      <td>El Arrozal</td>\n",
       "      <td>4.3</td>\n",
       "      <td>324</td>\n",
       "      <td>2</td>\n",
       "      <td>restaurant</td>\n",
       "      <td>unique</td>\n",
       "      <td>Unknown</td>\n",
       "      <td>(40.4135178, -3.7111674)</td>\n",
       "      <td>ChIJdVjzY3goQg0RFBPZyhjbnKw</td>\n",
       "      <td>ATtYBwJy98UNyFrAO_N-4AHKMHCma-yqgirAGyHBckIb3l...</td>\n",
       "    </tr>\n",
       "    <tr>\n",
       "      <th>32</th>\n",
       "      <td>La Mordida Bernabeu</td>\n",
       "      <td>4.3</td>\n",
       "      <td>1678</td>\n",
       "      <td>2</td>\n",
       "      <td>restaurant</td>\n",
       "      <td>unique</td>\n",
       "      <td>Unknown</td>\n",
       "      <td>(40.4540534, -3.6930929)</td>\n",
       "      <td>ChIJ-Y-bqgIpQg0R4UwoHw_QCi0</td>\n",
       "      <td>ATtYBwK-eUOyw6j7iDhVaZU6A_Gs7XFyftaBZzju8GzyFx...</td>\n",
       "    </tr>\n",
       "    <tr>\n",
       "      <th>33</th>\n",
       "      <td>Mercado de la Reina</td>\n",
       "      <td>4.2</td>\n",
       "      <td>4077</td>\n",
       "      <td>2</td>\n",
       "      <td>restaurant</td>\n",
       "      <td>unique</td>\n",
       "      <td>Unknown</td>\n",
       "      <td>(40.419629, -3.6987696)</td>\n",
       "      <td>ChIJw2EHlYYoQg0RsGZYTq6Vc6Q</td>\n",
       "      <td>ATtYBwJU_rM4vEMIkJpsGnb7Z0sED4vPtZLw59u7NGVtgK...</td>\n",
       "    </tr>\n",
       "    <tr>\n",
       "      <th>34</th>\n",
       "      <td>LAIB Madrid</td>\n",
       "      <td>5</td>\n",
       "      <td>74</td>\n",
       "      <td>Unknown</td>\n",
       "      <td>bakery</td>\n",
       "      <td>unique</td>\n",
       "      <td>Unknown</td>\n",
       "      <td>(40.40719, -3.67994)</td>\n",
       "      <td>ChIJ_VKJCj0nQg0RNIKr5Fu67HA</td>\n",
       "      <td>ATtYBwKC8l-n2d8cNCHzleXt_BKky9SB-TD5FLgM2zQcwA...</td>\n",
       "    </tr>\n",
       "    <tr>\n",
       "      <th>35</th>\n",
       "      <td>Murillo Café</td>\n",
       "      <td>3.9</td>\n",
       "      <td>653</td>\n",
       "      <td>2</td>\n",
       "      <td>restaurant</td>\n",
       "      <td>unique</td>\n",
       "      <td>Unknown</td>\n",
       "      <td>(40.4130594, -3.6913271)</td>\n",
       "      <td>ChIJkcqmiycmQg0RwQKzf_Sz6SE</td>\n",
       "      <td>ATtYBwLKZ6WQdv8sDDk-g6eqjyxN6hHMI2oEXruaaUIt3q...</td>\n",
       "    </tr>\n",
       "    <tr>\n",
       "      <th>36</th>\n",
       "      <td>Supermercado El Corte Inglés</td>\n",
       "      <td>4.2</td>\n",
       "      <td>14152</td>\n",
       "      <td>Unknown</td>\n",
       "      <td>store</td>\n",
       "      <td>unique</td>\n",
       "      <td>Unknown</td>\n",
       "      <td>(40.4174416, -3.7047038)</td>\n",
       "      <td>ChIJ-SWac34oQg0RC-LaRRT6o-w</td>\n",
       "      <td>ATtYBwKx4gPGSL_8dZOsZjqSd3olp5jii37-QGL7uzRLBX...</td>\n",
       "    </tr>\n",
       "    <tr>\n",
       "      <th>37</th>\n",
       "      <td>Okashi Sanda</td>\n",
       "      <td>4.5</td>\n",
       "      <td>1191</td>\n",
       "      <td>2</td>\n",
       "      <td>restaurant</td>\n",
       "      <td>unique</td>\n",
       "      <td>Unknown</td>\n",
       "      <td>(40.42575009999999, -3.7032679)</td>\n",
       "      <td>ChIJ4-PMfWIoQg0RifHmlV7q74g</td>\n",
       "      <td>ATtYBwIQCqz7MVdpA0vTFmXwE2LWM96R5RjSZFtDy-Q1z9...</td>\n",
       "    </tr>\n",
       "    <tr>\n",
       "      <th>38</th>\n",
       "      <td>CafeeKe Cervezas y Tapas de Bélgica</td>\n",
       "      <td>3.9</td>\n",
       "      <td>451</td>\n",
       "      <td>Unknown</td>\n",
       "      <td>restaurant</td>\n",
       "      <td>unique</td>\n",
       "      <td>Unknown</td>\n",
       "      <td>(40.414721, -3.707978)</td>\n",
       "      <td>ChIJheFZ8zApQg0R5xl2C-ChRTo</td>\n",
       "      <td>ATtYBwK4G32VBmw5jIQH8Vn7YT1SaiiUe5vL1NXoNcS7mC...</td>\n",
       "    </tr>\n",
       "    <tr>\n",
       "      <th>39</th>\n",
       "      <td>Celicioso Callao</td>\n",
       "      <td>4</td>\n",
       "      <td>434</td>\n",
       "      <td>2</td>\n",
       "      <td>cafe</td>\n",
       "      <td>unique</td>\n",
       "      <td>Unknown</td>\n",
       "      <td>(40.4195161, -3.7049295)</td>\n",
       "      <td>ChIJZUjSsH0oQg0R2IdRSVs00go</td>\n",
       "      <td>ATtYBwJT_zkmoZJob7Fb6tFNDUyK16TXGzLJ9DoaZ5verV...</td>\n",
       "    </tr>\n",
       "    <tr>\n",
       "      <th>40</th>\n",
       "      <td>Bico de Xeado</td>\n",
       "      <td>4.7</td>\n",
       "      <td>151</td>\n",
       "      <td>1</td>\n",
       "      <td>store</td>\n",
       "      <td>unique</td>\n",
       "      <td>Unknown</td>\n",
       "      <td>(40.4158441, -3.7070647)</td>\n",
       "      <td>ChIJzVgocv4pQg0RfEEphEthGEU</td>\n",
       "      <td>ATtYBwLYPHgbWTURZ24qMubjGPxq7jCiKnvawZ8JyxCMbj...</td>\n",
       "    </tr>\n",
       "    <tr>\n",
       "      <th>41</th>\n",
       "      <td>El Antiguo tapeo café y algo más</td>\n",
       "      <td>4.4</td>\n",
       "      <td>162</td>\n",
       "      <td>1</td>\n",
       "      <td>restaurant</td>\n",
       "      <td>unique</td>\n",
       "      <td>Unknown</td>\n",
       "      <td>(40.2319761, -3.9857806)</td>\n",
       "      <td>ChIJVcAZFBXtQQ0RmCWTTAJkjWs</td>\n",
       "      <td>ATtYBwI8U2tPW8S6Eke6w85eRfmdmaDMbdMbWeqrUK2HyG...</td>\n",
       "    </tr>\n",
       "    <tr>\n",
       "      <th>42</th>\n",
       "      <td>Restaurante Horno de Asar Maribel</td>\n",
       "      <td>4.6</td>\n",
       "      <td>2716</td>\n",
       "      <td>2</td>\n",
       "      <td>restaurant</td>\n",
       "      <td>unique</td>\n",
       "      <td>Unknown</td>\n",
       "      <td>(40.9484639, -4.1146083)</td>\n",
       "      <td>ChIJg7XIYd4-QQ0RjVaRTcTKS30</td>\n",
       "      <td>ATtYBwKAPC1Ryuad7uIPHwJiXdYSM2SaE0GljB5K8zlNX2...</td>\n",
       "    </tr>\n",
       "    <tr>\n",
       "      <th>43</th>\n",
       "      <td>Loliam Factory SL</td>\n",
       "      <td>4.6</td>\n",
       "      <td>127</td>\n",
       "      <td>Unknown</td>\n",
       "      <td>restaurant</td>\n",
       "      <td>unique</td>\n",
       "      <td>Unknown</td>\n",
       "      <td>(40.4212387, -3.689716)</td>\n",
       "      <td>ChIJeZsEIdUpQg0RPBdIyUoOhy0</td>\n",
       "      <td>ATtYBwIGMPdefk54dHecUgBu_vrzGwLK6i9Celv8AGlHPt...</td>\n",
       "    </tr>\n",
       "    <tr>\n",
       "      <th>44</th>\n",
       "      <td>Méntrida</td>\n",
       "      <td>4</td>\n",
       "      <td>491</td>\n",
       "      <td>1</td>\n",
       "      <td>restaurant</td>\n",
       "      <td>unique</td>\n",
       "      <td>Unknown</td>\n",
       "      <td>(40.4324076, -3.701479399999999)</td>\n",
       "      <td>ChIJRU6UxoooQg0RLVFkKuI4Z2s</td>\n",
       "      <td>ATtYBwJh1cOsGx-sOkg2DysHSpuwie0C6LuCRnTCnDaKmp...</td>\n",
       "    </tr>\n",
       "    <tr>\n",
       "      <th>45</th>\n",
       "      <td>Rodilla</td>\n",
       "      <td>3.7</td>\n",
       "      <td>536</td>\n",
       "      <td>1</td>\n",
       "      <td>restaurant</td>\n",
       "      <td>chain</td>\n",
       "      <td>Unknown</td>\n",
       "      <td>(40.4744207, -3.6865291)</td>\n",
       "      <td>ChIJndExtRQpQg0R2qNbkwOjV3M</td>\n",
       "      <td>ATtYBwLRZtlO3UXJDTf1xG0_IxZv1KVpip56ymPUiVu4A-...</td>\n",
       "    </tr>\n",
       "    <tr>\n",
       "      <th>46</th>\n",
       "      <td>Restaurante Barandales</td>\n",
       "      <td>4</td>\n",
       "      <td>775</td>\n",
       "      <td>2</td>\n",
       "      <td>restaurant</td>\n",
       "      <td>unique</td>\n",
       "      <td>Unknown</td>\n",
       "      <td>(40.4194824, -3.6754826)</td>\n",
       "      <td>ChIJI3jWL6QoQg0RCQ_YSc5RkhQ</td>\n",
       "      <td>ATtYBwIE1ZIrTO3XBPa4cv4VoVM6dN-m77SPHFHw8mEMzy...</td>\n",
       "    </tr>\n",
       "    <tr>\n",
       "      <th>47</th>\n",
       "      <td>Ginos</td>\n",
       "      <td>3.6</td>\n",
       "      <td>590</td>\n",
       "      <td>2</td>\n",
       "      <td>restaurant</td>\n",
       "      <td>chain</td>\n",
       "      <td>Unknown</td>\n",
       "      <td>(40.4597422, -3.6950108)</td>\n",
       "      <td>ChIJPVoviQQpQg0RSLbcL55-480</td>\n",
       "      <td>ATtYBwLeajihaf28fXYYRGKotX1prXe1g3SaKKciHkWpKU...</td>\n",
       "    </tr>\n",
       "    <tr>\n",
       "      <th>48</th>\n",
       "      <td>Ginos</td>\n",
       "      <td>3.5</td>\n",
       "      <td>674</td>\n",
       "      <td>2</td>\n",
       "      <td>restaurant</td>\n",
       "      <td>chain</td>\n",
       "      <td>Unknown</td>\n",
       "      <td>(40.4758394, -3.7198397)</td>\n",
       "      <td>ChIJI3AMTZQpQg0Rr8QYqlE77kk</td>\n",
       "      <td>ATtYBwKJk_NH79HJspom16Ydsn295qgpy0lWpWCv0mGTEs...</td>\n",
       "    </tr>\n",
       "    <tr>\n",
       "      <th>49</th>\n",
       "      <td>Hotel Fenix Gran Meliá</td>\n",
       "      <td>4.5</td>\n",
       "      <td>1076</td>\n",
       "      <td>Unknown</td>\n",
       "      <td>locale</td>\n",
       "      <td>unique</td>\n",
       "      <td>Unknown</td>\n",
       "      <td>(40.4264693, -3.6892883)</td>\n",
       "      <td>ChIJ1f21G5EoQg0RKdq-mKlJf7o</td>\n",
       "      <td>ATtYBwINcXHnG8lVY_s8wn0pe8i_CJpj1uUN-wCj46xXYV...</td>\n",
       "    </tr>\n",
       "  </tbody>\n",
       "</table>\n",
       "</div>"
      ],
      "text/plain": [
       "                                                 name rating  \\\n",
       "0                                                Kint    4.2   \n",
       "1                        CELICIOSO Gluten Free Bakery    4.2   \n",
       "2                                  [0% Gluten] Madrid    4.6   \n",
       "3                                 As De Bastos Madrid    4.3   \n",
       "4                      Sana Locura Gluten Free Bakery    4.4   \n",
       "5                                  Da Nicola Gran Vía    4.3   \n",
       "6                                           Celilocos    4.7   \n",
       "7                        LaLina Bravas, Tapas y Copas    4.3   \n",
       "8                                    Celicioso Retiro    3.8   \n",
       "9   Restaurante Italiano \"Il Piccolino Della Farfa...    4.1   \n",
       "10    Restaurante Vegetariano Artemisa Sol - Gran Vía    4.4   \n",
       "11     Restaurante Vegetariano Artemisa Sol - Huertas    4.4   \n",
       "12                    Emma & Julia Italian Restaurant    4.2   \n",
       "13                                  Rosa Negra Madrid    4.3   \n",
       "14                                         Komoenkasa      3   \n",
       "15                                       Celikatessen    4.5   \n",
       "16                                Celicioso Barquillo    4.2   \n",
       "17                              Panadería Gluten Free    4.8   \n",
       "18                              Restaurante La Jauría    3.9   \n",
       "19                                            Oliveto    4.6   \n",
       "20                       New York Burger - San Germán    4.3   \n",
       "21                    Alfredo's Barbacoa Juan Hurtado    4.4   \n",
       "22                                      Flavia Madrid    4.3   \n",
       "23                             Restaurante El Senador    4.5   \n",
       "24                           Restaurante lapizza+sana    4.4   \n",
       "25                  Pastelería La Oriental Sin gluten      4   \n",
       "26                                  Taberna La Concha    4.5   \n",
       "27                                   Maestro Churrero    3.7   \n",
       "28                   EL ANCIANO REY DE LOS VINOS S.L.    4.2   \n",
       "29                                            Rodilla    4.1   \n",
       "30                                  Solo de Croquetas    4.2   \n",
       "31                                         El Arrozal    4.3   \n",
       "32                                La Mordida Bernabeu    4.3   \n",
       "33                                Mercado de la Reina    4.2   \n",
       "34                                        LAIB Madrid      5   \n",
       "35                                       Murillo Café    3.9   \n",
       "36                       Supermercado El Corte Inglés    4.2   \n",
       "37                                       Okashi Sanda    4.5   \n",
       "38                CafeeKe Cervezas y Tapas de Bélgica    3.9   \n",
       "39                                   Celicioso Callao      4   \n",
       "40                                      Bico de Xeado    4.7   \n",
       "41                   El Antiguo tapeo café y algo más    4.4   \n",
       "42                  Restaurante Horno de Asar Maribel    4.6   \n",
       "43                                  Loliam Factory SL    4.6   \n",
       "44                                           Méntrida      4   \n",
       "45                                            Rodilla    3.7   \n",
       "46                             Restaurante Barandales      4   \n",
       "47                                              Ginos    3.6   \n",
       "48                                              Ginos    3.5   \n",
       "49                             Hotel Fenix Gran Meliá    4.5   \n",
       "\n",
       "   user_ratings_total price_level              types   chain  \\\n",
       "0                 112     Unknown         restaurant  unique   \n",
       "1                1152     Unknown             bakery  unique   \n",
       "2                 108     Unknown  restaurant/bakery  unique   \n",
       "3                 568           2         restaurant  unique   \n",
       "4                 949     Unknown             bakery  unique   \n",
       "5                2742           2         restaurant  unique   \n",
       "6                 266           1         restaurant  unique   \n",
       "7                 697           2         restaurant  unique   \n",
       "8                 329     Unknown  restaurant/bakery  unique   \n",
       "9                 950           1         restaurant  unique   \n",
       "10               1270           2         restaurant  unique   \n",
       "11               1081           2         restaurant  unique   \n",
       "12               1165           2         restaurant  unique   \n",
       "13               1344           1         restaurant  unique   \n",
       "14                  2     Unknown         restaurant  unique   \n",
       "15                 37     Unknown  restaurant/bakery  unique   \n",
       "16                609     Unknown             bakery  unique   \n",
       "17                  4     Unknown               cafe  unique   \n",
       "18                899           2         restaurant  unique   \n",
       "19                542           2         restaurant  unique   \n",
       "20               2272           2         restaurant  unique   \n",
       "21               3597     Unknown         restaurant  unique   \n",
       "22               1174           2         restaurant  unique   \n",
       "23                598           3         restaurant  unique   \n",
       "24                657           2         restaurant  unique   \n",
       "25                115     Unknown             bakery  unique   \n",
       "26               1263           2         restaurant  unique   \n",
       "27               2158           1              store  unique   \n",
       "28               1115           2         restaurant  unique   \n",
       "29               2824           1         restaurant   chain   \n",
       "30                681     Unknown         restaurant  unique   \n",
       "31                324           2         restaurant  unique   \n",
       "32               1678           2         restaurant  unique   \n",
       "33               4077           2         restaurant  unique   \n",
       "34                 74     Unknown             bakery  unique   \n",
       "35                653           2         restaurant  unique   \n",
       "36              14152     Unknown              store  unique   \n",
       "37               1191           2         restaurant  unique   \n",
       "38                451     Unknown         restaurant  unique   \n",
       "39                434           2               cafe  unique   \n",
       "40                151           1              store  unique   \n",
       "41                162           1         restaurant  unique   \n",
       "42               2716           2         restaurant  unique   \n",
       "43                127     Unknown         restaurant  unique   \n",
       "44                491           1         restaurant  unique   \n",
       "45                536           1         restaurant   chain   \n",
       "46                775           2         restaurant  unique   \n",
       "47                590           2         restaurant   chain   \n",
       "48                674           2         restaurant   chain   \n",
       "49               1076     Unknown             locale  unique   \n",
       "\n",
       "                                             vicinity  \\\n",
       "0                   Calle de Vallehermoso, 36, Madrid   \n",
       "1                       Calle de Hortaleza, 3, Madrid   \n",
       "2                   Calle de Vallehermoso, 33, Madrid   \n",
       "3                       Calle de Castilla, 62, Madrid   \n",
       "4                     Calle del Gral Oraá, 49, Madrid   \n",
       "5           Plaza de los Mostenses, 11, LOCAL, Madrid   \n",
       "6                     Calle de Carlos Sole, 6, Madrid   \n",
       "7                       Plaza de la Cebada, 2, Madrid   \n",
       "8                       Calle de O'Donnell, 4, Madrid   \n",
       "9                     Calle de las Huertas, 6, Madrid   \n",
       "10                Calle de las Tres Cruces, 4, Madrid   \n",
       "11             Calle de Ventura de la Vega, 4, Madrid   \n",
       "12                  Calle de la Cava Baja, 19, Madrid   \n",
       "13                         Calle del León, 16, Madrid   \n",
       "14                   Calle de Embajadores, 41, Madrid   \n",
       "15  Mercado de Pacífico (planta baja, Calle de Val...   \n",
       "16                    Calle del Barquillo, 19, Madrid   \n",
       "17                    Calle del Gral Oraá, 49, Madrid   \n",
       "18                         Calle de Colón, 10, Madrid   \n",
       "19                  Calle de Santa Isabel, 45, Madrid   \n",
       "20                                            Unknown   \n",
       "21                                            Unknown   \n",
       "22                                            Unknown   \n",
       "23                                            Unknown   \n",
       "24                                            Unknown   \n",
       "25                                            Unknown   \n",
       "26                                            Unknown   \n",
       "27                                            Unknown   \n",
       "28                                            Unknown   \n",
       "29                                            Unknown   \n",
       "30                                            Unknown   \n",
       "31                                            Unknown   \n",
       "32                                            Unknown   \n",
       "33                                            Unknown   \n",
       "34                                            Unknown   \n",
       "35                                            Unknown   \n",
       "36                                            Unknown   \n",
       "37                                            Unknown   \n",
       "38                                            Unknown   \n",
       "39                                            Unknown   \n",
       "40                                            Unknown   \n",
       "41                                            Unknown   \n",
       "42                                            Unknown   \n",
       "43                                            Unknown   \n",
       "44                                            Unknown   \n",
       "45                                            Unknown   \n",
       "46                                            Unknown   \n",
       "47                                            Unknown   \n",
       "48                                            Unknown   \n",
       "49                                            Unknown   \n",
       "\n",
       "                            geometry                     place_id  \\\n",
       "0           (40.4340759, -3.7085295)  ChIJS1Nr5l0oQg0RuXCYXOa0yFc   \n",
       "1             (40.420441, -3.701066)  ChIJ5baGCIcoQg0RksMlNKe6qO8   \n",
       "2           (40.4331079, -3.7088897)  ChIJB0yQ9XcpQg0R9Je9XUIpVwY   \n",
       "3            (40.453162, -3.7079958)  ChIJdUnxVVMoQg0RNPU8dv_jxcs   \n",
       "4           (40.4360652, -3.6801016)  ChIJZwcvVsAoQg0REM51rwkH0TM   \n",
       "5            (40.4230288, -3.708687)  ChIJeTj6uWQoQg0RxTrKSleUhy0   \n",
       "6           (40.3944816, -3.6510818)  ChIJsQylGeglQg0R5n2B4pQo0RM   \n",
       "7           (40.4114544, -3.7089143)  ChIJwUqxbNYnQg0R6Bi3n8wsytA   \n",
       "8           (40.4215592, -3.6795075)  ChIJDSNaq8gpQg0RhtCw8fO-8VQ   \n",
       "9           (40.4140114, -3.7009911)  ChIJAyl8N4AoQg0ReRdyzJU08jo   \n",
       "10          (40.4192584, -3.7028659)  ChIJC4OxX4coQg0R3bqGh0fouew   \n",
       "11          (40.4160178, -3.6989251)  ChIJq4-kc4EoQg0R7eDDJ8AH-R0   \n",
       "12             (40.41252, -3.708932)  ChIJm-bNHdYnQg0RgSAiXTGLJak   \n",
       "13          (40.4138325, -3.6990401)  ChIJ_5ax6YEoQg0R6cDMcYnr24w   \n",
       "14          (40.4077339, -3.7036534)  ChIJyxohVNMnQg0RWDd_vL4FS6c   \n",
       "15   (40.404382, -3.675598999999999)  ChIJ398NZRomQg0R4Yp3ZfEPYUs   \n",
       "16            (40.422141, -3.695701)  ChIJd3mcmIUoQg0RMNJx6bg0G_w   \n",
       "17          (40.4360652, -3.6801016)  ChIJZwcvVsAoQg0RbFhDRSQFREs   \n",
       "18          (40.4238805, -3.7011607)  ChIJVzV7bogoQg0R0KlyHbgIVCo   \n",
       "19          (40.4097901, -3.6964677)  ChIJP3fGEikmQg0Ry4WDlLBZqOo   \n",
       "20          (40.4560497, -3.6928645)  ChIJzXH90wIpQg0Rn7mJGoLe-Pw   \n",
       "21          (40.4605736, -3.6872011)  ChIJ9RC9YBkpQg0RPL1JhDKMkzc   \n",
       "22              (40.422401, -3.6896)  ChIJI0gpZpooQg0R79spvYzp_q4   \n",
       "23    (40.42060480000001, -3.711468)  ChIJy0Hh83ooQg0R51xynRVNQqI   \n",
       "24          (40.4576184, -3.6244434)  ChIJgSTLS_4uQg0RAxTNQPdr5Ao   \n",
       "25            (40.429531, -3.720771)  ChIJZ4t4Y6UpQg0Rej24KrQ8Ehw   \n",
       "26          (40.4131907, -3.7083581)  ChIJvdlhrngoQg0RFmx7kraNRUg   \n",
       "27          (40.4141747, -3.7032202)  ChIJm3Lux38oQg0Rnjz3ETM-EpI   \n",
       "28   (40.41544409999999, -3.7133132)  ChIJnbhUeXcoQg0Rj7gl-m7dgjM   \n",
       "29            (40.417296, -3.702825)  ChIJjfz9poAoQg0RgTLNvTU9olc   \n",
       "30          (40.4160129, -3.6995733)  ChIJM8jeeespQg0RPBIKiF2kKns   \n",
       "31          (40.4135178, -3.7111674)  ChIJdVjzY3goQg0RFBPZyhjbnKw   \n",
       "32          (40.4540534, -3.6930929)  ChIJ-Y-bqgIpQg0R4UwoHw_QCi0   \n",
       "33           (40.419629, -3.6987696)  ChIJw2EHlYYoQg0RsGZYTq6Vc6Q   \n",
       "34              (40.40719, -3.67994)  ChIJ_VKJCj0nQg0RNIKr5Fu67HA   \n",
       "35          (40.4130594, -3.6913271)  ChIJkcqmiycmQg0RwQKzf_Sz6SE   \n",
       "36          (40.4174416, -3.7047038)  ChIJ-SWac34oQg0RC-LaRRT6o-w   \n",
       "37   (40.42575009999999, -3.7032679)  ChIJ4-PMfWIoQg0RifHmlV7q74g   \n",
       "38            (40.414721, -3.707978)  ChIJheFZ8zApQg0R5xl2C-ChRTo   \n",
       "39          (40.4195161, -3.7049295)  ChIJZUjSsH0oQg0R2IdRSVs00go   \n",
       "40          (40.4158441, -3.7070647)  ChIJzVgocv4pQg0RfEEphEthGEU   \n",
       "41          (40.2319761, -3.9857806)  ChIJVcAZFBXtQQ0RmCWTTAJkjWs   \n",
       "42          (40.9484639, -4.1146083)  ChIJg7XIYd4-QQ0RjVaRTcTKS30   \n",
       "43           (40.4212387, -3.689716)  ChIJeZsEIdUpQg0RPBdIyUoOhy0   \n",
       "44  (40.4324076, -3.701479399999999)  ChIJRU6UxoooQg0RLVFkKuI4Z2s   \n",
       "45          (40.4744207, -3.6865291)  ChIJndExtRQpQg0R2qNbkwOjV3M   \n",
       "46          (40.4194824, -3.6754826)  ChIJI3jWL6QoQg0RCQ_YSc5RkhQ   \n",
       "47          (40.4597422, -3.6950108)  ChIJPVoviQQpQg0RSLbcL55-480   \n",
       "48          (40.4758394, -3.7198397)  ChIJI3AMTZQpQg0Rr8QYqlE77kk   \n",
       "49          (40.4264693, -3.6892883)  ChIJ1f21G5EoQg0RKdq-mKlJf7o   \n",
       "\n",
       "                                               photos  \n",
       "0   ATtYBwIsfqa-oYr2g4DOfQ8vz8feUq0t5pZZ6JmgeQov7i...  \n",
       "1   ATtYBwJo5MrAPHOZvZi7fFKPBqtMGjgzWe6jf0aoQ4GBNO...  \n",
       "2   ATtYBwKoeVDdxQhyt7tnlikHlMpNl87XFReh4tCONwC40-...  \n",
       "3   ATtYBwL5bG87doPI7tYpGNF7Wba8v9-tR7UIExfnhEtm5-...  \n",
       "4   ATtYBwIiEgw_OlVIPlDVakTKG3pfkCuMdVEafiPrzj96Qp...  \n",
       "5   ATtYBwJxjFXZ0GiU5d0yvdijo4oZxCGnZ6kFpPiyzGe72G...  \n",
       "6   ATtYBwLS1RN57XTXFEuOltwI8s_BhszKquEMu1P4s__8Rj...  \n",
       "7   ATtYBwInLRcoXfomYmOu9m64Cl1AOzwzQ6xnmyQaXl2ryZ...  \n",
       "8   ATtYBwJ0xvE96nLURnQQtfjQ0d0I4PT-_h0rg7ajbNo_Jr...  \n",
       "9   ATtYBwIKRb5a_0fWTnCWJwUHLOGp_JjSRACbhn-RTuzGzI...  \n",
       "10  ATtYBwKwQTLPo0ukRyoGWVp9sAo3Um8C9wC4cxnKlLtcRJ...  \n",
       "11  ATtYBwJyUtQSujxH9ghEdH7Hj_1qOl8UpaNvj27_JMs2ll...  \n",
       "12  ATtYBwKo80jybjL5DII2x0JFHZeqB-hPkxCr98PrQ9VyuR...  \n",
       "13  ATtYBwIaKwvsXp5bR-2ms5ar-E6m-78w4yXdKTqOEOBUVs...  \n",
       "14  ATtYBwJ3i1C6LEgA0bFJAufSPBJ8pZ6EJx7skRdbtOquPl...  \n",
       "15  ATtYBwK8AvsUBWS8T7YGNIXa2CBOLTlMhgK5gkBSpPFnLm...  \n",
       "16  ATtYBwKP5h5sXpaGatY0OqTLEvmP3D3f19-EFG-PwIBi7T...  \n",
       "17  ATtYBwJKQippjB5RnbudoFuGntp_gajwnnoiGIpVokblcT...  \n",
       "18  ATtYBwK_9EoBNZJnNVljeKVmbmDqI_1QkcHQHiF26jtN0y...  \n",
       "19  ATtYBwIuLRwuo4T5blGL2sAFtowv9-BFEARwqeT16JRj_2...  \n",
       "20  ATtYBwJ0UKXI_0ZkP9zyKFluukGy1mkhlF_3bwo6wGh9_m...  \n",
       "21  ATtYBwIkE_4i4VI7ALkmPomXOhNgvhV-YHOTa2YHd8Vbrg...  \n",
       "22  ATtYBwKVN2fjCwFLgXH-iAJI9SaWEPagkIdxA5X7g-Q6j7...  \n",
       "23  ATtYBwK7fUT5sW5BMfANaN-YkeRjXp20lDAncCR2Vj0xWd...  \n",
       "24  ATtYBwJDdX67hPxKnqZLWc2w92JIO6QYQEP8ESIXnE6VSX...  \n",
       "25  ATtYBwIRCv-bYTo9wDhgg0OJmsMCmNUUI7uE2lJnkIq66i...  \n",
       "26  ATtYBwIiIQSKeJUseTiCgIUv2jMToIpBT43ZT5ceyk5CXp...  \n",
       "27  ATtYBwI4YssIpqIiEgHvqNX4D2aMkWCmZikGww5Ix7bgak...  \n",
       "28  ATtYBwL1uEWMms3bqhjiTUaB1jdg9I1DH3giGU_Cgj23xe...  \n",
       "29  ATtYBwKjCq9xRnfnij2a2M10FqOcEQ-LMHAuOvS_tmzMvm...  \n",
       "30  ATtYBwKFiN0WPSoKYzTRZj53nWg5wQbgaXec8xq4qaYIPL...  \n",
       "31  ATtYBwJy98UNyFrAO_N-4AHKMHCma-yqgirAGyHBckIb3l...  \n",
       "32  ATtYBwK-eUOyw6j7iDhVaZU6A_Gs7XFyftaBZzju8GzyFx...  \n",
       "33  ATtYBwJU_rM4vEMIkJpsGnb7Z0sED4vPtZLw59u7NGVtgK...  \n",
       "34  ATtYBwKC8l-n2d8cNCHzleXt_BKky9SB-TD5FLgM2zQcwA...  \n",
       "35  ATtYBwLKZ6WQdv8sDDk-g6eqjyxN6hHMI2oEXruaaUIt3q...  \n",
       "36  ATtYBwKx4gPGSL_8dZOsZjqSd3olp5jii37-QGL7uzRLBX...  \n",
       "37  ATtYBwIQCqz7MVdpA0vTFmXwE2LWM96R5RjSZFtDy-Q1z9...  \n",
       "38  ATtYBwK4G32VBmw5jIQH8Vn7YT1SaiiUe5vL1NXoNcS7mC...  \n",
       "39  ATtYBwJT_zkmoZJob7Fb6tFNDUyK16TXGzLJ9DoaZ5verV...  \n",
       "40  ATtYBwLYPHgbWTURZ24qMubjGPxq7jCiKnvawZ8JyxCMbj...  \n",
       "41  ATtYBwI8U2tPW8S6Eke6w85eRfmdmaDMbdMbWeqrUK2HyG...  \n",
       "42  ATtYBwKAPC1Ryuad7uIPHwJiXdYSM2SaE0GljB5K8zlNX2...  \n",
       "43  ATtYBwIGMPdefk54dHecUgBu_vrzGwLK6i9Celv8AGlHPt...  \n",
       "44  ATtYBwJh1cOsGx-sOkg2DysHSpuwie0C6LuCRnTCnDaKmp...  \n",
       "45  ATtYBwLRZtlO3UXJDTf1xG0_IxZv1KVpip56ymPUiVu4A-...  \n",
       "46  ATtYBwIE1ZIrTO3XBPa4cv4VoVM6dN-m77SPHFHw8mEMzy...  \n",
       "47  ATtYBwLeajihaf28fXYYRGKotX1prXe1g3SaKKciHkWpKU...  \n",
       "48  ATtYBwKJk_NH79HJspom16Ydsn295qgpy0lWpWCv0mGTEs...  \n",
       "49  ATtYBwINcXHnG8lVY_s8wn0pe8i_CJpj1uUN-wCj46xXYV...  "
      ]
     },
     "execution_count": 146,
     "metadata": {},
     "output_type": "execute_result"
    }
   ],
   "source": [
    "df.head(50)"
   ]
  },
  {
   "cell_type": "markdown",
   "metadata": {},
   "source": [
    "---------"
   ]
  },
  {
   "cell_type": "markdown",
   "metadata": {},
   "source": [
    "# Save `df` as `gfdf`"
   ]
  },
  {
   "cell_type": "code",
   "execution_count": 156,
   "metadata": {},
   "outputs": [],
   "source": [
    "pickle_out = open(\"/Users/claytonlouden/projects/final_project/pickled/gfdf.pickle\",\"wb\")\n",
    "pickle.dump(df, pickle_out)\n",
    "pickle_out.close()"
   ]
  },
  {
   "cell_type": "code",
   "execution_count": null,
   "metadata": {},
   "outputs": [],
   "source": []
  }
 ],
 "metadata": {
  "kernelspec": {
   "display_name": "Python 3",
   "language": "python",
   "name": "python3"
  },
  "language_info": {
   "codemirror_mode": {
    "name": "ipython",
    "version": 3
   },
   "file_extension": ".py",
   "mimetype": "text/x-python",
   "name": "python",
   "nbconvert_exporter": "python",
   "pygments_lexer": "ipython3",
   "version": "3.8.5"
  }
 },
 "nbformat": 4,
 "nbformat_minor": 4
}
