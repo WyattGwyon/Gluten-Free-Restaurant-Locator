{
 "cells": [
  {
   "cell_type": "code",
   "execution_count": 2,
   "metadata": {},
   "outputs": [],
   "source": [
    "import requests\n",
    "from bs4 import BeautifulSoup\n",
    "import pandas as pd\n",
    "import re\n",
    "import pickle"
   ]
  },
  {
   "cell_type": "markdown",
   "metadata": {},
   "source": [
    "# First we are going to scrape `findmeglutenfree.com` as `gf`"
   ]
  },
  {
   "cell_type": "code",
   "execution_count": 329,
   "metadata": {},
   "outputs": [],
   "source": [
    "# This is the way we connect to the webpage we are going to scrape\n",
    "data_gf = requests.get(\"https://www.findmeglutenfree.com/es/madrid\")"
   ]
  },
  {
   "cell_type": "code",
   "execution_count": 330,
   "metadata": {},
   "outputs": [
    {
     "data": {
      "text/plain": [
       "200"
      ]
     },
     "execution_count": 330,
     "metadata": {},
     "output_type": "execute_result"
    }
   ],
   "source": [
    "# Response code of 200 is good\n",
    "data_gf.status_code"
   ]
  },
  {
   "cell_type": "code",
   "execution_count": 331,
   "metadata": {},
   "outputs": [],
   "source": [
    "# We are now putting the website throught the BS parser\n",
    "soup = BeautifulSoup(data_gf.text)"
   ]
  },
  {
   "cell_type": "code",
   "execution_count": 332,
   "metadata": {},
   "outputs": [
    {
     "data": {
      "text/plain": [
       "bs4.element.ResultSet"
      ]
     },
     "execution_count": 332,
     "metadata": {},
     "output_type": "execute_result"
    }
   ],
   "source": [
    "# Here we grabbed all the \"div\" tags to explore what we get\n",
    "div = soup.select(\"div\")\n",
    "type(div)"
   ]
  },
  {
   "cell_type": "code",
   "execution_count": 333,
   "metadata": {},
   "outputs": [
    {
     "data": {
      "text/plain": [
       "153"
      ]
     },
     "execution_count": 333,
     "metadata": {},
     "output_type": "execute_result"
    }
   ],
   "source": [
    "# the 5th Index of this list contains what we are looking for\n",
    "len(div)"
   ]
  },
  {
   "cell_type": "code",
   "execution_count": 334,
   "metadata": {},
   "outputs": [],
   "source": [
    "# This is a little more precise but we still don't have exactly what we want\n",
    "ul = soup.select(\"ul.list-unstyled.mt-4.mb-4\")"
   ]
  },
  {
   "cell_type": "code",
   "execution_count": 335,
   "metadata": {},
   "outputs": [],
   "source": [
    "# Here is the precise location of the names of our restaruants saved to a variable \"name\"\n",
    "name = soup.select(\"a.align-middle\")"
   ]
  },
  {
   "cell_type": "code",
   "execution_count": 336,
   "metadata": {},
   "outputs": [
    {
     "data": {
      "text/plain": [
       "30"
      ]
     },
     "execution_count": 336,
     "metadata": {},
     "output_type": "execute_result"
    }
   ],
   "source": [
    "# We have to extract the contents contained in these tags and save them\n",
    "# This is our list of restaurant names\n",
    "grest = [n.contents for n in name]\n",
    "len(grest)"
   ]
  },
  {
   "cell_type": "code",
   "execution_count": 413,
   "metadata": {},
   "outputs": [
    {
     "data": {
      "text/plain": [
       "['Taberna La Concha',\n",
       " 'El Arrozal',\n",
       " 'Da Nicola Gran Vía',\n",
       " 'Rosa Negra Madrid',\n",
       " 'Sana Locura Gluten Free Bakery']"
      ]
     },
     "execution_count": 413,
     "metadata": {},
     "output_type": "execute_result"
    }
   ],
   "source": [
    "# This converts our list of lists to a list of items\n",
    "gf_rest = [name[0] for name in grest]\n",
    "gf_rest[:5]   "
   ]
  },
  {
   "cell_type": "code",
   "execution_count": 343,
   "metadata": {},
   "outputs": [],
   "source": [
    "# Here we have the addresses of out restaurants\n",
    "address = soup.select(\"span.sl-addr.mt-2\")"
   ]
  },
  {
   "cell_type": "code",
   "execution_count": 344,
   "metadata": {},
   "outputs": [
    {
     "data": {
      "text/plain": [
       "30"
      ]
     },
     "execution_count": 344,
     "metadata": {},
     "output_type": "execute_result"
    }
   ],
   "source": [
    "# Now they have been extracted we will need to combine the names and the addresses in the database\n",
    "gaddr = [a.contents for a in address]\n",
    "len(gaddr)"
   ]
  },
  {
   "cell_type": "code",
   "execution_count": 414,
   "metadata": {},
   "outputs": [
    {
     "data": {
      "text/plain": [
       "['Calle Cava Baja, 7, 28005 Madrid, Spain',\n",
       " 'Calle Segovia, 13, 28005 Madrid, Spain',\n",
       " 'Plaza de los Mostenses, 11, 28015 Madrid, Community of Madrid, Spain',\n",
       " 'Calle del León, 16, 28014 Madrid, Madrid, Spain',\n",
       " 'Calle del Gral Oraá, 49, 28006 Madrid, Spain']"
      ]
     },
     "execution_count": 414,
     "metadata": {},
     "output_type": "execute_result"
    }
   ],
   "source": [
    "# This converts our list of lists to a list of items\n",
    "gf_addr = [name[0] for name in gaddr]\n",
    "gf_addr[:5]"
   ]
  },
  {
   "cell_type": "markdown",
   "metadata": {},
   "source": [
    "# Next we are going to scrape `happyceliac.com` as `hc`\n",
    "**First the name**"
   ]
  },
  {
   "cell_type": "code",
   "execution_count": 3,
   "metadata": {},
   "outputs": [],
   "source": [
    "# We start the process over again for happyceliac.com\n",
    "data_hc = requests.get(\"https://www.happyceliac.com/gluten-free-madrid/\")"
   ]
  },
  {
   "cell_type": "code",
   "execution_count": 4,
   "metadata": {},
   "outputs": [
    {
     "data": {
      "text/plain": [
       "<Response [200]>"
      ]
     },
     "execution_count": 4,
     "metadata": {},
     "output_type": "execute_result"
    }
   ],
   "source": [
    "data_hc"
   ]
  },
  {
   "cell_type": "code",
   "execution_count": 5,
   "metadata": {},
   "outputs": [],
   "source": [
    "soup = BeautifulSoup(data_hc.text)"
   ]
  },
  {
   "cell_type": "code",
   "execution_count": 6,
   "metadata": {},
   "outputs": [
    {
     "data": {
      "text/plain": [
       "<!DOCTYPE html>\n",
       "\n",
       "<html lang=\"en-US\">\n",
       "<head>\n",
       "<meta charset=\"utf-8\"/>\n",
       "<meta content=\"width=device-width, initial-scale=1\" name=\"viewport\"/>\n",
       "<link href=\"https://www.happyceliac.com/gluten-free-madrid/\" hreflang=\"en\" rel=\"alternate\"/>\n",
       "<link href=\"https://www.happyceliac.com/de/glutenfrei-in-madrid/\" hreflang=\"de\" rel=\"alternate\"/>\n",
       "<link href=\"https://www.happyceliac.com/es/madrid-sin-gluten/\" hreflang=\"es\" rel=\"alternate\"/>\n",
       "<link href=\"https://www.happyceliac.com/fr/sans-gluten-madrid/\" hreflang=\"fr\" rel=\"alternate\"/>\n",
       "<link href=\"https://www.happyceliac.com/it/madrid-senza-glutine/\" hreflang=\"it\" rel=\"alternate\"/>\n",
       "<title>Gluten-Free Madrid: A Travel Guide for Celiacs | Happy Celiac</title>\n",
       "<meta content=\"From dedicated restaurants to gluten-free friendly hotels, here's everything you need to know about traveling gluten-free in Madrid.\" name=\"description\"/>\n",
       "<meta content=\"index, follow, max-snippet:-1, max-image-preview:large, max-video-preview:-1\" name=\"robots\"/>\n",
       "<link href=\"https://www.happyceliac.com/gluten-free-madrid/\" rel=\"canonical\"/>\n",
       "<meta content=\"en_US\" property=\"og:locale\"/>\n",
       "<meta content=\"article\" property=\"og:type\"/>\n",
       "<meta content=\"Gluten-Free Madrid: A Travel Guide for Celiacs | Happy Celiac\" property=\"og:title\"/>\n",
       "<meta content=\"From dedicated restaurants to gluten-free friendly hotels, here's everything you need to know about traveling gluten-free in Madrid.\" property=\"og:description\"/>\n",
       "<meta content=\"https://www.happyceliac.com/gluten-free-madrid/\" property=\"og:url\"/>\n",
       "<meta content=\"Happy Celiac\" property=\"og:site_name\"/>\n",
       "<meta content=\"https://www.facebook.com/thehappyceliac\" property=\"article:publisher\"/>\n",
       "<meta content=\"2019-09-15T07:49:17+00:00\" property=\"article:published_time\"/>\n",
       "<meta content=\"2019-09-15T07:49:18+00:00\" property=\"article:modified_time\"/>\n",
       "<meta content=\"https://www.happyceliac.com/wp-content/uploads/2019/09/mayor-plaza-madrid-spain-shutterstock_292554380.jpg\" property=\"og:image\"/>\n",
       "<meta content=\"1500\" property=\"og:image:width\"/>\n",
       "<meta content=\"1000\" property=\"og:image:height\"/>\n",
       "<meta content=\"summary_large_image\" name=\"twitter:card\"/>\n",
       "<meta content=\"@thehappyceliac\" name=\"twitter:creator\"/>\n",
       "<meta content=\"@thehappyceliac\" name=\"twitter:site\"/>\n",
       "<meta content=\"Written by\" name=\"twitter:label1\"/>\n",
       "<meta content=\"Ben &amp; Jazzy\" name=\"twitter:data1\"/>\n",
       "<meta content=\"Est. reading time\" name=\"twitter:label2\"/>\n",
       "<meta content=\"10 minutes\" name=\"twitter:data2\"/>\n",
       "<script class=\"yoast-schema-graph\" type=\"application/ld+json\">{\"@context\":\"https://schema.org\",\"@graph\":[{\"@type\":\"WebSite\",\"@id\":\"https://www.happyceliac.com/#website\",\"url\":\"https://www.happyceliac.com/\",\"name\":\"Happy Celiac\",\"description\":\"Gluten-Free Travel Made Easy\",\"potentialAction\":[{\"@type\":\"SearchAction\",\"target\":\"https://www.happyceliac.com/?s={search_term_string}\",\"query-input\":\"required name=search_term_string\"}],\"inLanguage\":\"en-US\"},{\"@type\":\"ImageObject\",\"@id\":\"https://www.happyceliac.com/gluten-free-madrid/#primaryimage\",\"inLanguage\":\"en-US\",\"url\":\"https://www.happyceliac.com/wp-content/uploads/2019/09/mayor-plaza-madrid-spain-shutterstock_292554380.jpg\",\"width\":1500,\"height\":1000,\"caption\":\"S-F / shutterstock.com\"},{\"@type\":\"WebPage\",\"@id\":\"https://www.happyceliac.com/gluten-free-madrid/#webpage\",\"url\":\"https://www.happyceliac.com/gluten-free-madrid/\",\"name\":\"Gluten-Free Madrid: A Travel Guide for Celiacs | Happy Celiac\",\"isPartOf\":{\"@id\":\"https://www.happyceliac.com/#website\"},\"primaryImageOfPage\":{\"@id\":\"https://www.happyceliac.com/gluten-free-madrid/#primaryimage\"},\"datePublished\":\"2019-09-15T07:49:17+00:00\",\"dateModified\":\"2019-09-15T07:49:18+00:00\",\"author\":{\"@id\":\"https://www.happyceliac.com/#/schema/person/0a7e1a15e078d6dab40173f7b9876a06\"},\"description\":\"From dedicated restaurants to gluten-free friendly hotels, here's everything you need to know about traveling gluten-free in Madrid.\",\"inLanguage\":\"en-US\",\"potentialAction\":[{\"@type\":\"ReadAction\",\"target\":[\"https://www.happyceliac.com/gluten-free-madrid/\"]}]},{\"@type\":\"Person\",\"@id\":\"https://www.happyceliac.com/#/schema/person/0a7e1a15e078d6dab40173f7b9876a06\",\"name\":\"Ben &amp; Jazzy\",\"image\":{\"@type\":\"ImageObject\",\"@id\":\"https://www.happyceliac.com/#personlogo\",\"inLanguage\":\"en-US\",\"url\":\"https://secure.gravatar.com/avatar/b9325e58fed31f2d762b9e972be7fe62?s=96&d=mm&r=g\",\"caption\":\"Ben &amp; Jazzy\"}}]}</script>\n",
       "<link href=\"//z-na.amazon-adsystem.com\" rel=\"dns-prefetch\"/>\n",
       "<link href=\"//fonts.googleapis.com\" rel=\"dns-prefetch\"/>\n",
       "<link href=\"//s.w.org\" rel=\"dns-prefetch\"/>\n",
       "<link href=\"https://www.happyceliac.com/feed/\" rel=\"alternate\" title=\"Happy Celiac » Feed\" type=\"application/rss+xml\"/>\n",
       "<link href=\"https://www.happyceliac.com/comments/feed/\" rel=\"alternate\" title=\"Happy Celiac » Comments Feed\" type=\"application/rss+xml\"/>\n",
       "<link href=\"https://www.happyceliac.com/gluten-free-madrid/feed/\" rel=\"alternate\" title=\"Happy Celiac » Gluten-Free Madrid: A Travel Guide for Celiacs Comments Feed\" type=\"application/rss+xml\"/>\n",
       "<link href=\"https://www.happyceliac.com/wp-content/themes/happyceliac/style.css?ver=1.0.0\" id=\"happy-celiac-css\" media=\"all\" rel=\"stylesheet\" type=\"text/css\"/>\n",
       "<link href=\"https://www.happyceliac.com/wp-includes/css/dist/block-library/style.min.css?ver=5.5.3\" id=\"wp-block-library-css\" media=\"all\" rel=\"stylesheet\" type=\"text/css\"/>\n",
       "<link href=\"https://www.happyceliac.com/wp-content/plugins/contact-form-7/includes/css/styles.css?ver=5.3.1\" id=\"contact-form-7-css\" media=\"all\" rel=\"stylesheet\" type=\"text/css\"/>\n",
       "<link href=\"//www.happyceliac.com/wp-content/plugins/sitepress-multilingual-cms/templates/language-switchers/menu-item/style.css?ver=1\" id=\"wpml-menu-item-0-css\" media=\"all\" rel=\"stylesheet\" type=\"text/css\"/>\n",
       "<link href=\"//fonts.googleapis.com/css?family=Lato%3A300%2C400%2C400i%2C700%2C700i%2C900&amp;ver=1.0.0\" id=\"happy-celiac-fonts-css\" media=\"all\" rel=\"stylesheet\" type=\"text/css\"/>\n",
       "<link href=\"https://www.happyceliac.com/wp-includes/css/dashicons.min.css?ver=5.5.3\" id=\"dashicons-css\" media=\"all\" rel=\"stylesheet\" type=\"text/css\"/>\n",
       "<script id=\"jquery-core-js\" src=\"https://www.happyceliac.com/wp-includes/js/jquery/jquery.js?ver=1.12.4-wp\" type=\"text/javascript\"></script>\n",
       "<link href=\"https://www.happyceliac.com/wp-json/\" rel=\"https://api.w.org/\"/><link href=\"https://www.happyceliac.com/wp-json/wp/v2/posts/703\" rel=\"alternate\" type=\"application/json\"/><link href=\"https://www.happyceliac.com/xmlrpc.php?rsd\" rel=\"EditURI\" title=\"RSD\" type=\"application/rsd+xml\"/>\n",
       "<link href=\"https://www.happyceliac.com/wp-includes/wlwmanifest.xml\" rel=\"wlwmanifest\" type=\"application/wlwmanifest+xml\"/>\n",
       "<meta content=\"WordPress 5.5.3\" name=\"generator\">\n",
       "<link href=\"https://www.happyceliac.com/?p=703\" rel=\"shortlink\"/>\n",
       "<meta content=\"WPML ver:4.4.6 stt:1,4,3,27,2;\" name=\"generator\">\n",
       "<script async=\"async\" data-cfasync=\"false\" data-noptimize=\"1\" src=\"//scripts.mediavine.com/tags/happy-celiac.js\" type=\"text/javascript\"></script><meta content=\"block-all-mixed-content\" http-equiv=\"Content-Security-Policy\">\n",
       "<script>(function(w,d,s,l,i){w[l]=w[l]||[];w[l].push({'gtm.start':\n",
       "\tnew Date().getTime(),event:'gtm.js'});var f=d.getElementsByTagName(s)[0],\n",
       "\tj=d.createElement(s),dl=l!='dataLayer'?'&l='+l:'';j.async=true;j.src=\n",
       "\t'https://www.googletagmanager.com/gtm.js?id='+i+dl;f.parentNode.insertBefore(j,f);\n",
       "\t})(window,document,'script','dataLayer','GTM-NG9DVCR');</script>\n",
       "<link href=\"https://www.happyceliac.com/wp-content/themes/happyceliac/images/favicon.png\" rel=\"icon\"/>\n",
       "</meta></meta></meta></head>\n",
       "<body class=\"post-template-default single single-post postid-703 single-format-standard header-full-width content-sidebar genesis-breadcrumbs-hidden genesis-footer-widgets-visible\">\n",
       "<noscript><iframe height=\"0\" src=\"https://www.googletagmanager.com/ns.html?id=GTM-NG9DVCR\" style=\"display:none;visibility:hidden\" width=\"0\"></iframe></noscript>\n",
       "<div class=\"site-container\"><ul class=\"genesis-skip-link\"><li><a class=\"screen-reader-shortcut\" href=\"#genesis-nav-primary\"> Skip to primary navigation</a></li><li><a class=\"screen-reader-shortcut\" href=\"#genesis-content\"> Skip to main content</a></li><li><a class=\"screen-reader-shortcut\" href=\"#genesis-sidebar-primary\"> Skip to primary sidebar</a></li><li><a class=\"screen-reader-shortcut\" href=\"#genesis-footer-widgets\"> Skip to footer</a></li></ul><header class=\"site-header\"><div class=\"wrap\"><div class=\"title-area\"><p class=\"site-title\"><a href=\"https://www.happyceliac.com/\">Happy Celiac</a></p><p class=\"site-description\">Gluten-Free Travel Made Easy</p></div><nav aria-label=\"Main\" class=\"nav-primary\" id=\"genesis-nav-primary\"><div class=\"wrap\"><ul class=\"menu genesis-nav-menu menu-primary js-superfish\" id=\"menu-main-menu\"><li class=\"menu-item menu-item-type-post_type menu-item-object-page menu-item-35\" id=\"menu-item-35\"><a href=\"https://www.happyceliac.com/travel-guides/\"><span>Travel Guides</span></a></li>\n",
       "<li class=\"menu-item menu-item-type-post_type menu-item-object-page menu-item-45\" id=\"menu-item-45\"><a href=\"https://www.happyceliac.com/restaurant-cards/\"><span>Restaurant Cards</span></a></li>\n",
       "</ul></div></nav></div></header><div class=\"banner-area bg-overlay\" style=\"background:url(https://www.happyceliac.com/wp-content/uploads/2019/09/mayor-plaza-madrid-spain-shutterstock_292554380.jpg) no-repeat;\"><div class=\"banner-wrap\"><div class=\"banner-content\"><h1 class=\"entry-title\">Gluten-Free Madrid: A Travel Guide for Celiacs</h1>\n",
       "<p class=\"entry-meta\"><span class=\"entry-author\" itemprop=\"author\" itemscope=\"\" itemtype=\"https://schema.org/Person\">By <a class=\"entry-author-link\" href=\"https://www.happyceliac.com/author/ben/\" itemprop=\"url\" rel=\"author\"><span class=\"entry-author-name\" itemprop=\"name\">Ben &amp; Jazzy</span></a></span> / <time class=\"entry-time\">September 15, 2019</time></p></div></div><div class=\"banner-caption\">S-F / shutterstock.com</div></div><div class=\"site-inner\"><div class=\"content-sidebar-wrap\"><main class=\"content\" id=\"genesis-content\"><div class=\"social-float\"><div class=\"social-float-wrap\"><a class=\"twitter dashicons-before dashicons-twitter\" href=\"https://twitter.com/intent/tweet?text=Gluten-Free%20Madrid:%20A%20Travel%20Guide%20for%20Celiacs&amp;url=https://www.happyceliac.com/gluten-free-madrid/&amp;via=thehappyceliac\"><span class=\"screen-reader-text\">Twitter</span></a><a class=\"facebook dashicons-before dashicons-facebook-alt\" href=\"https://www.facebook.com/sharer/sharer.php?u=https://www.happyceliac.com/gluten-free-madrid/\"><span class=\"screen-reader-text\">Facebook</span></a><a class=\"googleplus dashicons-before dashicons-googleplus\" href=\"https://plus.google.com/share?url=https://www.happyceliac.com/gluten-free-madrid/\"><span class=\"screen-reader-text\">Google+</span></a><a class=\"pinterest\" data-pin-custom=\"true\" href=\"https://www.pinterest.com/pin/create/button/\"><span class=\"screen-reader-text\">Pinterest</span></a></div></div><article aria-label=\"Gluten-Free Madrid: A Travel Guide for Celiacs\" class=\"post-703 post type-post status-publish format-standard has-post-thumbnail category-madrid category-travel-guides entry\"><header class=\"entry-header\"><p class=\"entry-disclosure\">Disclosure: This page contains affiliate links, and at no additional cost to you, we earn a small commission if you click through and make a purchase.</p></header><div class=\"entry-content\">\n",
       "<p>Think it’s difficult to eat gluten-free in Madrid? Think again! The Spanish capital is home to over a dozen <a aria-label=\"100% gluten-free restaurants (opens in a new tab)\" href=\"https://www.happyceliac.com/ebook\" rel=\"noreferrer noopener\" target=\"_blank\">100% gluten-free restaurants</a> and thousands of restaurants that cater to celiacs. The city is a paradise for anyone traveling gluten-free. Whether you want to devour croquettes, paella, gluten-free churros, or suckling pig, this gluten-free guide has you covered. Here is everything you need to make your gluten-free trip to Madrid yummy and unforgettable. </p>\n",
       "<p><em>Establishments marked with a star (★) are 100% gluten-free.</em></p>\n",
       "<h2>Table of Contents</h2>\n",
       "<ul><li><a href=\"#map\">Gluten-Free Map of Madrid</a></li><li><a href=\"#restaurants\">Gluten-Free Restaurants in Madrid</a></li><li><a href=\"#tapas\">Gluten-Free Tapas Bar in Madrid</a></li><li><a href=\"#bakeries\">Gluten-Free Bakeries in Madrid</a></li><li><a href=\"#segovia\">Gluten-Free Segovia: Day Trip From Madrid</a></li><li><a href=\"#hotels\">Gluten-Free Hotels in Madrid</a></li><li><a href=\"#supermarkets\">Supermarkets with Gluten-Free Products</a></li><li><a href=\"#phrases\">Useful Gluten-Free Phrases in Spanish</a></li><li><a href=\"#resources\">Gluten-Free Resources</a></li></ul>\n",
       "<h2 id=\"map\">Gluten-Free Map of Madrid</h2>\n",
       "<p><iframe height=\"480\" src=\"https://www.google.com/maps/d/embed?mid=1oZZuRbq_llBV8WqwDuN4DP0xaSaP6fJ-\" width=\"100%\"></iframe></p>\n",
       "<h2 id=\"restaurants\">Gluten-Free Restaurants in Madrid</h2>\n",
       "<h3>Artemisa Huertas ★ </h3>\n",
       "<p>Artemisa is the first vegetarian gluten-free restaurant in Madrid, and arguably the best. Gluten-free vegetarian and vegan eaters can safely devour tasty traditional Spanish dishes without meat, such as paella and croquettes. The menu is 100% gluten-free and offers flavorful and healthy dishes like the eggplant lasagna. If you think vegetarian and vegan food is boring or tasteless, then eat a meal at Artemisa and you’ll change your mind, even meat lovers will be begging for more. Artemisa has a second location, Artemisa Gran Via. </p>\n",
       "<p><em>Calle de Ventura de la Vega, 4, 28014 Madrid, Spain | <a aria-label=\" (opens in a new tab)\" href=\"https://restaurantevegetarianosolhuertas.com/\" rel=\"noreferrer noopener\" target=\"_blank\">Visit Website</a></em></p>\n",
       "<h3> Solo de Croquetas ★</h3>\n",
       "<p>Croquettes are one of the must-try foods when visiting Spain, and lucky for us celiacs there is an entire restaurant dedicated to making only gluten-free croquettes. From traditional fillings like ham and cheese, to new-age oreo and white chocolate, Solo de Croquetas offers over 25 different croquettes to choose from. We tried nine of them and couldn’t decide which was our favorite! For one of the best gluten-free snack options in Madrid, stop by Solo de Croquetas and sample the different croquettes from all around Spain. </p>\n",
       "<p><em>Calle de Echegaray, 5, 28014 Madrid, Spain | <a aria-label=\" (opens in a new tab)\" href=\"http://solodecroquetasmadrid.es/?lang=en\" rel=\"noreferrer noopener\" target=\"_blank\">Visit Website</a></em></p>\n",
       "<h3>As De Bastos ★</h3>\n",
       "<p>Located in the Bellas Vistas neighborhood of Madrid is the 100% gluten-free Mediterranean restaurant, As De Bastos. Here celiacs can enjoy many traditional Spanish dishes, and foods they normally won’t find gluten-free. From traditional tapas like patatas bravas, fried anchovies, and croquettes, to grilled octopus and steak, a visit to As De Bastos won’t disappoint. It’s easily one of the best places to eat gluten-free in Madrid. As De Bastos has a second location in Majadahonda.</p>\n",
       "<p><em>Calle de Castilla, 62, 28039 Madrid, Spain | <a aria-label=\" (opens in a new tab)\" href=\"https://www.asdebastos.es/madrid/\" rel=\"noreferrer noopener\" target=\"_blank\">Visit Website</a></em></p>\n",
       "<h3>Da Nicola </h3>\n",
       "<p>Craving Italian or gluten-free pizzas in Madrid, then have a meal or two at Da Nicola. Certified by the Madrid Celiac Association, Da Nicola spoils celiacs with an extensive separate gluten-free menu where homemade gluten-free pasta, pizzas, and Italian desserts highlight the menu. With a separate dish of olive oil for dipping, and little umbrellas on every dish to denote they are gluten-free, Da Nicola’s awareness of cross-contamination is evident. It’s no wonder Da Nicola is considered one of the best gluten-free restaurants in Madrid.</p>\n",
       "<p><em>Plaza Mostenses, 11, 28015 Madrid, Spain | <a aria-label=\" (opens in a new tab)\" href=\"http://www.danicola.es/\" rel=\"noreferrer noopener\" target=\"_blank\">Visit Website</a></em></p>\n",
       "<h3>El Arrozal </h3>\n",
       "<p>This gluten-free gem on Calle Segovia is where you go for safe traditional gluten-free paella in Madrid. The traditional family-run restaurant knows how to cater to celiacs as one of their children is one. The restaurant has a separate gluten-free kitchen and a menu on which almost everything is gluten-free or can be modified to be gluten-free. The menu offers over 15 delicious paellas, grilled meats, and homemade crispy gluten-free baguettes which are like no others. For a traditional gluten-free Spanish restaurant in Madrid, head over to El Arrozal.</p>\n",
       "<p><em>Calle de Segovia, 13, 28005 Madrid, Spain | <a aria-label=\" (opens in a new tab)\" href=\"http://elarrozal.com/\" rel=\"noreferrer noopener\" target=\"_blank\">Visit Website</a></em></p>\n",
       "<h3>Okashi Sanda ★</h3>\n",
       "<p>Okashi Sanda is a Japanese restaurant which serves traditional Japanese dishes that are entirely gluten and dairy free. Though the menu has no sushi, it’s filled with other Japanese goodies like gyoza, takoyaki, katsudon, okonomiyaki, and gluten-free sake. Okashi was one of our favorite places to eat, so much so that we eat here three times on our visit to Madrid. For a taste of Japan while traveling gluten-free in Madrid, there is no better place than Okashi Sanda.</p>\n",
       "<p><em>Calle de San Vicente Ferrer, 22, 28004 Madrid, Spain | <a aria-label=\" (opens in a new tab)\" href=\"https://www.okashisanda.com/?lang=en\" rel=\"noreferrer noopener\" target=\"_blank\">Visit Website</a></em></p>\n",
       "<h3>Kint Bistro ★</h3>\n",
       "<p>It’s not often a celiac can stroll through a market and eat at a food stall without worrying about getting sick. But at Kint Bistro you can do just that. Hidden in Mercado Vallehermoso, this 100% gluten-free culinary gem creates flavorful allergen-free dishes with fresh quality ingredients from the market in an open kitchen, where you can watch the chefs cook-it-up. Some favorites include the black rice with shrimp, sauteed veal in a ginger wine sauce, and fish croquettes. If you’re looking for an authentic local dining experience where catering to intolerances and dietary needs is not a problem, then a meal at Kint Bistro is a must during your gluten-free Madrid trip. </p>\n",
       "<p><em>Calle de Vallehermoso, 36, 28015 Madrid, Spain | <a aria-label=\" (opens in a new tab)\" href=\"https://kintfood.com/\" rel=\"noreferrer noopener\" target=\"_blank\">Visit Website</a></em></p>\n",
       "<h3>Loliam ★</h3>\n",
       "<p>From waffles and cheese balls for breakfast, to pizzas and buddha bowls for lunch and dinner, and cakes and muffins for a sweet snack, Loliam is a fantastic little gluten-free restaurant in Madrid. This dedicated gluten-free restaurant and bakery is also one of the few places in Madrid that is open all day, even through the midday siesta. However, it’s a very small restaurant with limited seating so it’s best to order take-away and enjoy your meal at the park, which is just a block away.</p>\n",
       "<p><em>Calle Villalar, 6, 28001 Madrid, Spain | <a aria-label=\" (opens in a new tab)\" href=\"https://loliam.com\" rel=\"noreferrer noopener\" target=\"_blank\">Visit Website</a></em></p>\n",
       "<h3>Maestro Churro</h3>\n",
       "<p>Maestro Churro is one of the only churrerias in which you can eat gluten-free churros in Madrid that are suitable for celiacs. Though the churros are smaller, and plain with no cinnamon sugar, they are worth a try. They taste much better when dipped into hot chocolate (not the drink, rather more like melted chocolate, and a lactose-free version is available). The gluten-free churros are made in a dedicated fryer and Maestro Churro is certified by the Spanish Celiac Association, FACE. </p>\n",
       "<p><em>Plaza de Jacinto Benavente, 2, 28012 Madrid, Spain | <a aria-label=\" (opens in a new tab)\" href=\"https://www.mchmadrid.com/\" rel=\"noreferrer noopener\" target=\"_blank\">Visit Website</a></em></p>\n",
       "<h2 id=\"tapas\">Gluten-Free Tapas Bar in Madrid </h2>\n",
       "<h3>Bar Mentrida</h3>\n",
       "<p>Bar Mentrida in Plaza de Olavide is what I like to call a celiac paradise. Why? Because this traditional tapas bar is certified by the celiac association and offers an almost 95% gluten-free menu, with only five items that aren’t gluten-free. Here you can have all the gluten-free tapas and pinchos you normally won’t find available, including bocadillos, montadios, chopitos, and more. And of course they have gluten-free beer. For excellent gluten-free tapas at an authentic local tapas bar run, don’t walk, to Bar Mentrida.</p>\n",
       "<p><em>Plaza de Olavide, 3, 28010 Madrid, Spain | No Website</em></p>\n",
       "<h3>La Taberna Concha </h3>\n",
       "<p>La Taberna is without a doubt one of the best gluten-free tapas restaurants in Madrid. They offer a separate yet extensive gluten-free menu in English with over 30 tapas, the staff are very knowledgeable of celiac disease and cross contamination and they are also certified by the Spanish celiac association. Here you can also get a free tapa with your drink order as well as taste homemade vermouth, a must-try drink in Spain. </p>\n",
       "<p><em>Calle de la Cava Baja, 7, 28005 Madrid, Spain | <a aria-label=\" (opens in a new tab)\" href=\"http://www.laconchataberna.com/\" rel=\"noreferrer noopener\" target=\"_blank\">Visit Website</a></em></p>\n",
       "<h3>El Antiguo: Cafetería y Tapas ★</h3>\n",
       "<p>El Antiguo is your gluten-free tapas bar sent from heaven. Everything at El Antiguo is gluten-free so there is no worry of cross contamination. Cachopos, croquetas, tostas, and churros are just a few of the amazing traditional foods you can devour there. Beside savory food, they also have ice cream and baked goods, I highly recommend the brownies. The only downside is that El Antiguo is a 30 minute drive outside of Madrid’s city center, nonetheless it makes for a great pit stop if your driving to Toledo.</p>\n",
       "<p><em>Avenida de Madrid, 77, 28607 El Álamo, Spain | <a aria-label=\" (opens in a new tab)\" href=\"https://www.facebook.com/elantiguotapeocafe/\" rel=\"noreferrer noopener\" target=\"_blank\">Visit Website</a></em></p>\n",
       "<h2 id=\"bakeries\">Gluten-Free Bakeries in Madrid</h2>\n",
       "<h3>Celicioso ★</h3>\n",
       "<p>Celicioso is probably the most popular gluten-free bakery in Madrid, and people seem to rave about it, but personally I didn’t like it. I went several times and everything I ordered from the poke bowl to the chicken sandwich and the toast disappointed me. I was not impressed. I will say though that they’re banana and lemon breads weren’t bad. Nonetheless, I listed them here because they are a 100% gluten-free bakery with four locations around Madrid and everyone should make their own judgement. </p>\n",
       "<p><em>Various Locations | <a aria-label=\" (opens in a new tab)\" href=\"http://www.celicioso.com/\" rel=\"noreferrer noopener\" target=\"_blank\">Visit Website</a></em> </p>\n",
       "<h3>La Oriental Sin Gluten ★</h3>\n",
       "<p>La Oriental is a 100% gluten-free family-run bakery in Madrid offering sinfully good gluten-free treats. A visit to La Oriental is like a visit to the candy store. They have a huge selection of sweets like petisú de crema, and napolitana de chocolate. There is also a handful of savory items and gluten-free bread. <strong>Please note:</strong> La Oriental has two stores right next to each other, however only one is 100% gluten-free. </p>\n",
       "<p><em>Calle de Ferraz, 47, 28008 Madrid, Spain | <a aria-label=\" (opens in a new tab)\" href=\"http://pastelerialaoriental.net/13-sin-gluten\" rel=\"noreferrer noopener\" target=\"_blank\">Visit Website</a> </em></p>\n",
       "<h3>Celikatessen ★</h3>\n",
       "<p>For the best gluten-free bread in Madrid, look no further than Celikatessen. Located inside Mercado de Pacifico, Celikatessen is the only completely gluten and lactose free bakery that makes homemade, organic, whole grain artisan bread. The bread is absolutely phenomenal. It’s not the cheapest but it sure is the best! Besides amazing bread, the celiac owner also offers baked goodies such as muffins, cookies, and cakes. Celikatessen is definitely one of the best gluten-free bakeries in Madrid.</p>\n",
       "<p><em>Mercado de Pacífico (planta baja, Calle de Valderribas, 30, 28007 Madrid, Spain) | <a aria-label=\" (opens in a new tab)\" href=\"https://celikatessen.blogspot.com/\" rel=\"noreferrer noopener\" target=\"_blank\">Visit Website</a></em></p>\n",
       "<h3>Sana Local ★</h3>\n",
       "<p>Though not in the city center, Sana Local is a fantastic gluten-free bakery for celiacs with food allergies. The bakery is completely gluten-free, with 95% of their pastries being lactose-free and many others with allergy-free options. Sana Local offers a wide array of pastries, savory items like pizzas, empanadas, as well as fantastic artisan gluten-free bread.</p>\n",
       "<p><em>Calle del Gral Oraá, 49, 28006 Madrid, Spain | <a aria-label=\" (opens in a new tab)\" href=\"https://www.facebook.com/sana.locura.gluten.free.bakery/\" rel=\"noreferrer noopener\" target=\"_blank\">Visit Website</a></em></p>\n",
       "<h3>Bico de Xeado </h3>\n",
       "<p>If you’re in search of a place to devour rich and creamy gluten-free ice cream, head to one of the many Bico de Xeados scattered around Spain. Though not widely advertised, the shop is very celiac friendly. All their ice-cream flavors, waffles, and brownies are gluten-free. However, they do sell gluten cones in addition to gluten-free ones. As for cross-contamination, they are extremely careful when you mention you are celiac. They will take your ice-cream from a new canister with a new scoop and offer a packaged spoon. It’s a celiac paradise with multiple locations around Madrid.</p>\n",
       "<p><em>Various Locations | <a aria-label=\" (opens in a new tab)\" href=\"https://bicodexeado.es/en/\" rel=\"noreferrer noopener\" target=\"_blank\">Visit Website</a></em></p>\n",
       "<h2 id=\"Segovia\">Gluten-Free Segovia: Day Trip from Madrid </h2>\n",
       "<p>Most people visiting Madrid usually do a full day tour to Segovia to discover the amazing UNESCO World Heritage Site, explore the Roman aqueduct, the castle which inspired Cinderella’s castle, and to devour cochinillo asado i.e. roast suckling pig. Luckily, us celiacs can explore the city and partake in devouring the suckling pig. There are a few gluten-free friendly restaurants in Segovia, however the best gluten-free restaurant in Segovia for celiacs is Asador Maribel. </p>\n",
       "<h3><strong>Asador Maribel</strong></h3>\n",
       "<p>Here celiacs can try traditional cochinillo asado, as well as other Spanish cuisines as the menu is 90% gluten-free and the staff are very knowledgeable about celiac disease and cross contamination.</p>\n",
       "<p><em>Av. del Padre Claret, 16, 40001 Segovia, Spain | </em><a href=\"http://www.restaurantemaribel.es/\"><em>Visit Website</em></a></p>\n",
       "<p class=\"tip-box\"><strong>Travel Recommendation:</strong> It can be a bit of a hassle trying to do a day trip to Segovia on your own. We recommend taking the hassle and worry out of planning and take a <a aria-label=\" (opens in a new tab)\" href=\"https://www.getyourguide.com/madrid-l46/toledo-segovia-tour-from-madrid-t58182/?partner_id=KUWIM66&amp;cmp=GF%20Madrid\" rel=\"nofollow noreferrer noopener\" target=\"_blank\">tour to Segovia</a>. This tour includes roundtrip transportation and a guided walking tour of Segovia.</p>\n",
       "<h2 id=\"hotels\">Gluten-free Friendly Hotels in Madrid </h2>\n",
       "<h3>Only YOU Boutique Hotel Madrid </h3>\n",
       "<p>Don’t want to travel far for a safe gluten-free breakfast or lunch, then don’t. At Only YOU, all you need to do is go down to the lobby, as the hotel is connected to the 100% gluten-free bakery, Celiciso. The 4-star hotel in the center of Madrid is more than happy to cater to celiacs by consciously cooking dishes for their 24-hour breakfast and in their restaurant.</p>\n",
       "<p><a class=\"btn\" href=\"https://www.booking.com/hotel/es/only-you-amp-lounge.html?aid=849835&amp;label=GF%20Madrid%20Guide\" rel=\"nofollow noopener noreferrer\" target=\"_blank\">Check Price &amp; Availability</a></p>\n",
       "<h3>Hotel Senator Gran Vía</h3>\n",
       "<p>Since 2011, this hotel chain has maintained their agreement with Spain’s Celiac Association, FACE and provided celiac guests knowledgeable and trained staff, dedicated gluten-free menus at their restaurants, and safe dishes. This 4-star hotel is located on the popular Gran Via and is only a few minutes walk away from Plaza España.</p>\n",
       "<p><a class=\"btn\" href=\"https://www.booking.com/hotel/es/hotelsenatorespanamadrid.html?aid=849835&amp;label=GF%20Madrid%20Guide\" rel=\"nofollow noopener noreferrer\" target=\"_blank\">Check Price &amp; Availability</a></p>\n",
       "<h3>Melia Madrid Princesa</h3>\n",
       "<p>This elegant 4-star hotel is just an 8 minute walk away from Gran Via and Plaza España and it also has an agreement with FACE and is dedicated to providing a safe and delicious vacation to celiac guests. Gluten-free options are available for breakfast and in their Mediterranean restaurant.</p>\n",
       "<p><a class=\"btn\" href=\"https://www.booking.com/hotel/es/meliamadridprincesa.html?aid=849835&amp;label=GF%20Madrid%20Guide\" rel=\"nofollow noopener noreferrer\" target=\"_blank\">Check Price &amp; Availability</a></p>\n",
       "<h3>Airbnb Rental</h3>\n",
       "<p>There is no better way to guarantee a 100% gluten-free meal than by making your own. Renting an entire Airbnb apartment with an equipped kitchen gives you the peace of mind and potential back-up you need while traveling gluten-free in Madrid. Get $40 off your next rental with this  <a aria-label=\" (opens in a new tab)\" href=\"https://www.happyceliac.com/go/airbnb\" rel=\"nofollow noreferrer noopener\" target=\"_blank\">Airbnb Coupon</a>. </p>\n",
       "<h2 id=\"supermarket\">Supermarkets With Gluten-Free Products</h2>\n",
       "<p>A trip to any supermarket in Madrid will always be a good one, as you’ll find many things labeled <em>sin gluten</em> including already made food, frozen items, and more. Certified gluten-free products will either have the FACE gluten-free logo or the EU gluten-free logo. Popular supermarkets have their own brands and carry international gluten-free brands. <strong><em>El Cortes Inglés</em></strong>, <strong><em>Carrefour</em></strong>, and <strong><em>Mercadona</em></strong> are supermarkets with the largest gluten-free products.</p>\n",
       "<h2 id=\"phrases\">Useful Gluten-Free Phrases in Spanish </h2>\n",
       "<ul><li><strong>Sin gluten</strong> =  Gluten-free</li><li><strong>Sense gluten</strong> (in Catalan) = Gluten-free</li><li><strong>Trigo</strong><em><strong> </strong>=  </em>Wheat</li><li><strong>Cebada</strong><em><strong> </strong>= </em>Barley</li><li><strong>Avena</strong><em><strong> </strong>= </em>Oats</li><li><strong>Salsa de soja</strong><em> = </em>Soy sauce</li><li><strong>Centeno</strong> =  Rye</li><li><strong>Pan</strong> = Bread</li><li><strong>Almidón de trigo</strong> = Wheat starch</li><li><strong>Rebozado</strong> = Breaded</li><li><strong>Puede contener trazas de</strong> … = May contain traces of… </li><li><strong>Soy celiaco (m)/ Soy celiaca (f)</strong>  = I am celiac </li><li><strong>Tiene harina de trigo?</strong> = Does this have wheat flour? </li><li><strong>No puedo comer gluten / harina de trigo</strong> =  I can’t eat gluten / wheat flour </li><li><strong>Lleva harina?</strong> = Does it have flour?</li><li><strong>¿Está rebozado?</strong> = Is it coated in breadcrumbs?</li><li><strong>Se han frito en el mismo aceite otros alimentos que puedan contener gluten?</strong> = Have this been fried in the same oil as other food that may have gluten?</li></ul>\n",
       "<h2 id=\"resources\">Gluten-Free Resources</h2>\n",
       "<ul><li><a aria-label=\"1000+ Dedicated Gluten-Free Restaurants Around the World (opens in a new tab)\" href=\"https://www.happyceliac.com/ebook\" rel=\"noreferrer noopener\" target=\"_blank\">1000+ Dedicated Gluten-Free Restaurants Around the World</a></li><li><a aria-label=\" (opens in a new tab)\" href=\"https://www.celiacosmadrid.org/\" rel=\"noreferrer noopener\" target=\"_blank\">Madrid Association of Celiacs </a><a href=\"https://celiacos.org/?option=com_content&amp;view=article&amp;id=3&amp;Itemid=7\">FACE</a> (Madrid’s celiac association) </li><li><a aria-label=\" (opens in a new tab)\" href=\"https://celiacos.org/\" rel=\"noreferrer noopener\" target=\"_blank\">FACE</a> (Spain’s celiac association) </li></ul>\n",
       "<p>Although being a celiac can feel like a limitation when traveling, especially in a culinary heavy city such as Madrid, these gluten-free restaurants and bakeries will remind you that there is a world of possibilities out there, and that celiacs can travel and enjoy their time too. </p>\n",
       "<p>Planning on exploring other destinations in Spain, check out our other <a aria-label=\"gluten-free guides (opens in a new tab)\" href=\"https://www.happyceliac.com/travel-guides/\" rel=\"noreferrer noopener\" target=\"_blank\">gluten-free guides</a> in Spain.</p>\n",
       "</div><footer class=\"entry-footer\"></footer></article><h2 class=\"screen-reader-text\">Reader Interactions</h2> <div class=\"comment-respond\" id=\"respond\">\n",
       "<h3 class=\"comment-reply-title\" id=\"reply-title\">Leave a Reply <small><a href=\"/gluten-free-madrid/#respond\" id=\"cancel-comment-reply-link\" rel=\"nofollow\" style=\"display:none;\">Cancel reply</a></small></h3><form action=\"https://www.happyceliac.com/wp-comments-post.php\" class=\"comment-form\" id=\"commentform\" method=\"post\" novalidate=\"\"><p class=\"comment-notes\"><span id=\"email-notes\">Your email address will not be published.</span> Required fields are marked <span class=\"required\">*</span></p><p class=\"comment-form-comment\"><label for=\"comment\">Comment</label> <textarea cols=\"45\" id=\"comment\" maxlength=\"65525\" name=\"comment\" required=\"required\" rows=\"8\"></textarea></p><input name=\"wpml_language_code\" type=\"hidden\" value=\"en\"/><p class=\"comment-form-author\"><label for=\"author\">Name <span class=\"required\">*</span></label> <input id=\"author\" maxlength=\"245\" name=\"author\" required=\"required\" size=\"30\" type=\"text\" value=\"\"/></p>\n",
       "<p class=\"comment-form-email\"><label for=\"email\">Email <span class=\"required\">*</span></label> <input aria-describedby=\"email-notes\" id=\"email\" maxlength=\"100\" name=\"email\" required=\"required\" size=\"30\" type=\"email\" value=\"\"/></p>\n",
       "<p class=\"form-submit\"><input class=\"submit\" id=\"submit\" name=\"submit\" type=\"submit\" value=\"Post Comment\"/> <input id=\"comment_post_ID\" name=\"comment_post_ID\" type=\"hidden\" value=\"703\"/>\n",
       "<input id=\"comment_parent\" name=\"comment_parent\" type=\"hidden\" value=\"0\"/>\n",
       "</p><p style=\"display: none;\"><input id=\"akismet_comment_nonce\" name=\"akismet_comment_nonce\" type=\"hidden\" value=\"a744666f40\"/></p><p style=\"display: none;\"><input id=\"ak_js\" name=\"ak_js\" type=\"hidden\" value=\"135\"/></p></form> </div>\n",
       "</main><aside aria-label=\"Primary Sidebar\" class=\"sidebar sidebar-primary widget-area\" id=\"genesis-sidebar-primary\" role=\"complementary\"><h2 class=\"genesis-sidebar-title screen-reader-text\">Primary Sidebar</h2></aside></div></div><div class=\"footer-widgets\" id=\"genesis-footer-widgets\"><h2 class=\"genesis-sidebar-title screen-reader-text\">Footer</h2><div class=\"wrap\"><div class=\"widget-area footer-widgets-1 footer-widget-area\"><section class=\"widget widget_nav_menu\" id=\"nav_menu-3\"><div class=\"widget-wrap\"><h3 class=\"widgettitle widget-title\">Browse</h3>\n",
       "<div class=\"menu-footer-widget-browse-container\"><ul class=\"menu\" id=\"menu-footer-widget-browse\"><li class=\"menu-item menu-item-type-post_type menu-item-object-page menu-item-home menu-item-235\" id=\"menu-item-235\"><a href=\"https://www.happyceliac.com/\">Home</a></li>\n",
       "<li class=\"menu-item menu-item-type-post_type menu-item-object-page current_page_parent menu-item-165\" id=\"menu-item-165\"><a href=\"https://www.happyceliac.com/blog/\">Blog</a></li>\n",
       "<li class=\"menu-item menu-item-type-post_type menu-item-object-page menu-item-164\" id=\"menu-item-164\"><a href=\"https://www.happyceliac.com/travel-guides/\">Travel Guides</a></li>\n",
       "<li class=\"menu-item menu-item-type-post_type menu-item-object-page menu-item-163\" id=\"menu-item-163\"><a href=\"https://www.happyceliac.com/restaurant-cards/\">Restaurant Cards</a></li>\n",
       "</ul></div></div></section>\n",
       "</div><div class=\"widget-area footer-widgets-2 footer-widget-area\"><section class=\"widget widget_nav_menu\" id=\"nav_menu-5\"><div class=\"widget-wrap\"><h3 class=\"widgettitle widget-title\">Company</h3>\n",
       "<div class=\"menu-footer-widget-company-container\"><ul class=\"menu\" id=\"menu-footer-widget-company\"><li class=\"menu-item menu-item-type-post_type menu-item-object-page menu-item-167\" id=\"menu-item-167\"><a href=\"https://www.happyceliac.com/about/\">About Happy Celiac</a></li>\n",
       "<li class=\"menu-item menu-item-type-post_type menu-item-object-page menu-item-166\" id=\"menu-item-166\"><a href=\"https://www.happyceliac.com/contact/\">Get in Touch</a></li>\n",
       "</ul></div></div></section>\n",
       "</div><div class=\"widget-area footer-widgets-3 footer-widget-area\"><section class=\"widget widget_nav_menu\" id=\"nav_menu-6\"><div class=\"widget-wrap\"><h3 class=\"widgettitle widget-title\">Legal</h3>\n",
       "<div class=\"menu-footer-widget-legal-container\"><ul class=\"menu\" id=\"menu-footer-widget-legal\"><li class=\"menu-item menu-item-type-post_type menu-item-object-page menu-item-privacy-policy menu-item-38\" id=\"menu-item-38\"><a href=\"https://www.happyceliac.com/privacy-policy/\">Privacy Policy</a></li>\n",
       "<li class=\"menu-item menu-item-type-custom menu-item-object-custom menu-item-168\" id=\"menu-item-168\"><a href=\"#\">Terms of Use</a></li>\n",
       "</ul></div></div></section>\n",
       "</div><div class=\"widget-area footer-widgets-4 footer-widget-area\"><section class=\"widget widget_nav_menu\" id=\"nav_menu-2\"><div class=\"widget-wrap\"><h3 class=\"widgettitle widget-title\">Follow Us</h3>\n",
       "<div class=\"menu-social-menu-container\"><ul class=\"menu\" id=\"menu-social-menu\"><li class=\"menu-item menu-item-type-custom menu-item-object-custom menu-item-40\" id=\"menu-item-40\"><a href=\"https://www.facebook.com/thehappyceliac\">Facebook</a></li>\n",
       "<li class=\"menu-item menu-item-type-custom menu-item-object-custom menu-item-39\" id=\"menu-item-39\"><a href=\"https://www.instagram.com/thehappyceliac\">Instagram</a></li>\n",
       "<li class=\"menu-item menu-item-type-custom menu-item-object-custom menu-item-42\" id=\"menu-item-42\"><a href=\"https://twitter.com/thehappyceliac\">Twitter</a></li>\n",
       "<li class=\"menu-item menu-item-type-custom menu-item-object-custom menu-item-41\" id=\"menu-item-41\"><a href=\"https://www.pinterest.com/thehappyceliac\">Pinterest</a></li>\n",
       "</ul></div></div></section>\n",
       "</div></div></div><footer class=\"site-footer\"><div class=\"wrap\"><p class=\"footer-copyright\">© 2020 Happy Celiac. <span>All rights reserved.</span></p><nav aria-label=\"Secondary\" class=\"nav-secondary\"><div class=\"wrap\"><ul class=\"menu genesis-nav-menu menu-secondary js-superfish\" id=\"menu-language-menu\"><li class=\"menu-item wpml-ls-slot-83 wpml-ls-item wpml-ls-item-en wpml-ls-current-language wpml-ls-menu-item wpml-ls-first-item menu-item-type-wpml_ls_menu_item menu-item-object-wpml_ls_menu_item menu-item-wpml-ls-83-en\" id=\"menu-item-wpml-ls-83-en\"><a href=\"https://www.happyceliac.com/gluten-free-madrid/\" title=\"English\"><span><span class=\"wpml-ls-native\" lang=\"en\">English</span></span></a></li>\n",
       "<li class=\"menu-item wpml-ls-slot-83 wpml-ls-item wpml-ls-item-de wpml-ls-menu-item menu-item-type-wpml_ls_menu_item menu-item-object-wpml_ls_menu_item menu-item-wpml-ls-83-de\" id=\"menu-item-wpml-ls-83-de\"><a href=\"https://www.happyceliac.com/de/glutenfrei-in-madrid/\" title=\"Deutsch\"><span><span class=\"wpml-ls-native\" lang=\"de\">Deutsch</span></span></a></li>\n",
       "<li class=\"menu-item wpml-ls-slot-83 wpml-ls-item wpml-ls-item-es wpml-ls-menu-item menu-item-type-wpml_ls_menu_item menu-item-object-wpml_ls_menu_item menu-item-wpml-ls-83-es\" id=\"menu-item-wpml-ls-83-es\"><a href=\"https://www.happyceliac.com/es/madrid-sin-gluten/\" title=\"Español\"><span><span class=\"wpml-ls-native\" lang=\"es\">Español</span></span></a></li>\n",
       "<li class=\"menu-item wpml-ls-slot-83 wpml-ls-item wpml-ls-item-fr wpml-ls-menu-item menu-item-type-wpml_ls_menu_item menu-item-object-wpml_ls_menu_item menu-item-wpml-ls-83-fr\" id=\"menu-item-wpml-ls-83-fr\"><a href=\"https://www.happyceliac.com/fr/sans-gluten-madrid/\" title=\"Français\"><span><span class=\"wpml-ls-native\" lang=\"fr\">Français</span></span></a></li>\n",
       "<li class=\"menu-item wpml-ls-slot-83 wpml-ls-item wpml-ls-item-it wpml-ls-menu-item wpml-ls-last-item menu-item-type-wpml_ls_menu_item menu-item-object-wpml_ls_menu_item menu-item-wpml-ls-83-it\" id=\"menu-item-wpml-ls-83-it\"><a href=\"https://www.happyceliac.com/it/madrid-senza-glutine/\" title=\"Italiano\"><span><span class=\"wpml-ls-native\" lang=\"it\">Italiano</span></span></a></li>\n",
       "</ul></div></nav></div></footer> <div class=\"ra-ebook-popup\">\n",
       "<div class=\"ra-ebook-popup-container\">\n",
       "<div class=\"ra-ebook-popup-img\">\n",
       "<img alt=\"100% Dedicated Gluten-Free Restaurants Around the World\" nopin=\"nopin\" src=\"/wp-content/themes/happyceliac/images/ipad-book-cover.jpg\"/>\n",
       "</div>\n",
       "<div class=\"ra-ebook-popup-text\">\n",
       "<h2>Travel Worry-Free And Never Get Glutened Again!</h2>\n",
       "<p>With our new ebook of <strong>over 1000 dedicated gluten-free restaurants, bakeries, and stores</strong> around the world, including popular destinations like Italy, France, and even exotic places like Bali, your life as a celiac will never be the same.</p>\n",
       "<a class=\"btn btn-orange ra-ebook-popup-accept\" href=\"https://www.happyceliac.com/ebook/\" target=\"_blank\">Get the Ebook</a>\n",
       "<a class=\"ra-ebook-popup-decline\" href=\"#\">No thanks, I like getting glutened.</a>\n",
       "</div>\n",
       "<a class=\"ra-ebook-popup-close\" href=\"#\">\n",
       "<span class=\"screen-reader-text\">Hide Popup</span>\n",
       "<span class=\"dashicons-before dashicons-no-alt\"></span>\n",
       "</a>\n",
       "</div>\n",
       "</div>\n",
       "</div><script async=\"\" data-pin-hover=\"true\" data-pin-tall=\"true\" defer=\"\" src=\"//assets.pinterest.com/js/pinit.js\"></script><script id=\"contact-form-7-js-extra\" type=\"text/javascript\">\n",
       "/* <![CDATA[ */\n",
       "var wpcf7 = {\"apiSettings\":{\"root\":\"https:\\/\\/www.happyceliac.com\\/wp-json\\/contact-form-7\\/v1\",\"namespace\":\"contact-form-7\\/v1\"},\"cached\":\"1\"};\n",
       "/* ]]> */\n",
       "</script>\n",
       "<script id=\"contact-form-7-js\" src=\"https://www.happyceliac.com/wp-content/plugins/contact-form-7/includes/js/scripts.js?ver=5.3.1\" type=\"text/javascript\"></script>\n",
       "<script id=\"enqueue-amazon-onetag-js\" src=\"//z-na.amazon-adsystem.com/widgets/onejs?MarketPlace=US&amp;adInstanceId=d1a50f51-2f5e-4691-ba75-ec3f71b03877&amp;ver=1.0\" type=\"text/javascript\"></script>\n",
       "<script id=\"comment-reply-js\" src=\"https://www.happyceliac.com/wp-includes/js/comment-reply.min.js?ver=5.5.3\" type=\"text/javascript\"></script>\n",
       "<script id=\"hoverIntent-js\" src=\"https://www.happyceliac.com/wp-includes/js/hoverIntent.min.js?ver=1.8.1\" type=\"text/javascript\"></script>\n",
       "<script id=\"superfish-js\" src=\"https://www.happyceliac.com/wp-content/themes/genesis/lib/js/menu/superfish.min.js?ver=1.7.10\" type=\"text/javascript\"></script>\n",
       "<script id=\"superfish-args-js\" src=\"https://www.happyceliac.com/wp-content/themes/genesis/lib/js/menu/superfish.args.min.js?ver=3.3.3\" type=\"text/javascript\"></script>\n",
       "<script id=\"skip-links-js\" src=\"https://www.happyceliac.com/wp-content/themes/genesis/lib/js/skip-links.min.js?ver=3.3.3\" type=\"text/javascript\"></script>\n",
       "<script id=\"happy-celiac-responsive-menu-js-extra\" type=\"text/javascript\">\n",
       "/* <![CDATA[ */\n",
       "var genesis_responsive_menu = {\"mainMenu\":\"\",\"menuIconClass\":\"dashicons-before dashicons-menu\",\"subMenu\":\"\",\"subMenuIconClass\":\"dashicons-before dashicons-arrow-down-alt2\",\"menuClasses\":{\"combine\":[\".nav-primary\"],\"others\":[]}};\n",
       "/* ]]> */\n",
       "</script>\n",
       "<script id=\"happy-celiac-responsive-menu-js\" src=\"https://www.happyceliac.com/wp-content/themes/happyceliac/js/responsive-menus.min.js?ver=1.0.0\" type=\"text/javascript\"></script>\n",
       "<script id=\"happy-celiac-custom-js\" src=\"https://www.happyceliac.com/wp-content/themes/happyceliac/js/custom.js?ver=1.0.0\" type=\"text/javascript\"></script>\n",
       "<script async=\"async\" id=\"akismet-form-js\" src=\"https://www.happyceliac.com/wp-content/plugins/akismet/_inc/form.js?ver=4.1.7\" type=\"text/javascript\"></script>\n",
       "</body></html>"
      ]
     },
     "execution_count": 6,
     "metadata": {},
     "output_type": "execute_result"
    }
   ],
   "source": [
    "soup"
   ]
  },
  {
   "cell_type": "code",
   "execution_count": null,
   "metadata": {},
   "outputs": [],
   "source": [
    "name = soup.select(\"h3\")"
   ]
  },
  {
   "cell_type": "code",
   "execution_count": 301,
   "metadata": {},
   "outputs": [
    {
     "data": {
      "text/plain": [
       "[['Asador Maribel']]"
      ]
     },
     "execution_count": 301,
     "metadata": {},
     "output_type": "execute_result"
    }
   ],
   "source": [
    "# We had one name at the end of the list that was still nesting bewteen tags \n",
    "# We are extracting it from the tags here\n",
    "rest = [n.contents for n in name]\n",
    "rest = rest[:-9]\n",
    "r = [n.contents for n in rest[-1]]"
   ]
  },
  {
   "cell_type": "code",
   "execution_count": 419,
   "metadata": {},
   "outputs": [
    {
     "data": {
      "text/plain": [
       "[['La Oriental Sin Gluten ★'],\n",
       " ['Celikatessen ★'],\n",
       " ['Sana Local ★'],\n",
       " ['Bico de Xeado\\xa0'],\n",
       " ['Asador Maribel']]"
      ]
     },
     "execution_count": 419,
     "metadata": {},
     "output_type": "execute_result"
    }
   ],
   "source": [
    "# We are replacing that extracted item back into the list where is was\n",
    "rest[-1]=r[0]\n",
    "rest[-5:]"
   ]
  },
  {
   "cell_type": "code",
   "execution_count": null,
   "metadata": {},
   "outputs": [],
   "source": [
    "# We create a list of items\n",
    "hc_rest = []\n",
    "for n in rest:\n",
    "    line = re.sub(r\"^\\s|\\s$|\\s[★]\", \"\", n[0])\n",
    "    hc_rest.append(line)\n",
    "hc_rest"
   ]
  },
  {
   "cell_type": "markdown",
   "metadata": {},
   "source": [
    "**Now the Address**"
   ]
  },
  {
   "cell_type": "code",
   "execution_count": null,
   "metadata": {},
   "outputs": [],
   "source": [
    "address = soup.select(\"em\")\n",
    "address"
   ]
  },
  {
   "cell_type": "code",
   "execution_count": null,
   "metadata": {},
   "outputs": [],
   "source": [
    "# There were some unwanted items in this list so we selected the index of the desired lines\n",
    "addr = [a.contents for a in address[1:-9]]\n",
    "addr"
   ]
  },
  {
   "cell_type": "code",
   "execution_count": 442,
   "metadata": {},
   "outputs": [
    {
     "data": {
      "text/plain": [
       "['Calle de Ventura de la Vega, 4, 28014 Madrid, Spain | ',\n",
       " 'Calle de Echegaray, 5, 28014 Madrid, Spain | ',\n",
       " 'Calle de Castilla, 62, 28039 Madrid, Spain | ',\n",
       " 'Plaza Mostenses, 11, 28015 Madrid, Spain | ',\n",
       " 'Calle de Segovia, 13, 28005 Madrid, Spain | ']"
      ]
     },
     "execution_count": 442,
     "metadata": {},
     "output_type": "execute_result"
    }
   ],
   "source": [
    "# and we selected the first index of each list-type item because that contained the address\n",
    "new = [line[0] for line in addr]\n",
    "new[:5]"
   ]
  },
  {
   "cell_type": "code",
   "execution_count": null,
   "metadata": {},
   "outputs": [],
   "source": [
    "# Here we cleaned the addresses and they look good\n",
    "hc_addr = []\n",
    "for l in new:\n",
    "    line = re.sub(r\"\\s[|]\\s.*\", \"\", l)\n",
    "    hc_addr.append(line)"
   ]
  },
  {
   "cell_type": "code",
   "execution_count": 443,
   "metadata": {},
   "outputs": [
    {
     "name": "stdout",
     "output_type": "stream",
     "text": [
      "['Calle de Ventura de la Vega, 4, 28014 Madrid, Spain', 'Calle de Echegaray, 5, 28014 Madrid, Spain', 'Calle de Castilla, 62, 28039 Madrid, Spain', 'Plaza Mostenses, 11, 28015 Madrid, Spain', 'Calle de Segovia, 13, 28005 Madrid, Spain']\n"
     ]
    },
    {
     "data": {
      "text/plain": [
       "18"
      ]
     },
     "execution_count": 443,
     "metadata": {},
     "output_type": "execute_result"
    }
   ],
   "source": [
    "print(hc_addr[:5])\n",
    "len(hc_addr)"
   ]
  },
  {
   "cell_type": "markdown",
   "metadata": {},
   "source": [
    "# We are going to scrape the `viajarsingluten` as `vsg`"
   ]
  },
  {
   "cell_type": "code",
   "execution_count": 484,
   "metadata": {},
   "outputs": [],
   "source": [
    "vsg_rest_tot = []\n",
    "vsg_addr_tot = []\n",
    "\n",
    "# These are all the next page links\n",
    "url_list = [\"https://www.viajarsingluten.com/restaurantes-sin-gluten-madrid-1_6047/\",\n",
    "            \"https://www.viajarsingluten.com/restaurantes-sin-gluten-madrid-1_6047/2/\",\n",
    "            \"https://www.viajarsingluten.com/restaurantes-sin-gluten-madrid-1_6047/3/\",\n",
    "            \"https://www.viajarsingluten.com/restaurantes-sin-gluten-madrid-1_6047/4/\"]\n",
    "\n",
    "\n",
    "# This loops through each url and grabs what we need and converts it to a list\n",
    "for url in url_list:\n",
    "    # Empty nested lists \n",
    "    vsg_rest = []\n",
    "    vsg_addr = []\n",
    "\n",
    "    # Get url\n",
    "    print(url)\n",
    "    data_vsg = requests.get(url)\n",
    "    soup = BeautifulSoup(data_vsg.text)\n",
    "    \n",
    "    # Select specific tags\n",
    "    names = soup.select(\"div.nombre\")\n",
    "    address = soup.select(\"div.dir\")\n",
    "    \n",
    "    # Select \"a\" tags within \"nombre\" tags\n",
    "    name = [n.select(\"a\") for n in names]\n",
    "\n",
    "    # Extract contents from tags\n",
    "    vrest = [n[0].contents for n in name]\n",
    "    vaddr = [a.contents for a in address]\n",
    "\n",
    "    # Create a list of items from list of lists\n",
    "    vsg_rest = [name[0] for name in vrest] \n",
    "    vsg_addr = [name[0] for name in vaddr]\n",
    "    \n",
    "    # Append alll findings to master list\n",
    "    vsg_rest_tot.append(vsg_rest)\n",
    "    vsg_addr_tot.append(vsg_addr)       "
   ]
  },
  {
   "cell_type": "code",
   "execution_count": 516,
   "metadata": {},
   "outputs": [
    {
     "data": {
      "text/plain": [
       "['Vips Méndez Álvaro',\n",
       " 'Ginos Palacio de Hielo',\n",
       " 'Hotel Meliá Castilla',\n",
       " 'Telepizza',\n",
       " 'Telepizza',\n",
       " \"Tommy Mel's \",\n",
       " 'Telepizza',\n",
       " 'Rodilla',\n",
       " 'VIPS Moncloa',\n",
       " 'VIPS Smart Manoteras',\n",
       " 'Hotel Axor Barajas',\n",
       " 'Rodilla',\n",
       " 'Telepizza',\n",
       " 'Distrito Vegano',\n",
       " 'Fridays Vaguada',\n",
       " 'Fit Fat Food',\n",
       " 'Telepizza',\n",
       " 'Ginos Caleruega',\n",
       " ' Viva Burger',\n",
       " 'Mc Donald´s']"
      ]
     },
     "execution_count": 516,
     "metadata": {},
     "output_type": "execute_result"
    }
   ],
   "source": [
    "# That worked! We need to flatten this list of lists.  \n",
    "# Not a very elegant solution but...quick...while no one's looking! \n",
    "vsg_flat_rest = [y for x in vsg_rest_tot for y in x]\n",
    "vsg_flat_rest[20:30]"
   ]
  },
  {
   "cell_type": "code",
   "execution_count": null,
   "metadata": {},
   "outputs": [],
   "source": [
    "# There we have eliminated that space in case it causes us problems when searching in Google's API\n",
    "for index, name in enumerate(vsg_flat_rest): \n",
    "    clean = re.sub(r\"^\\s\", \"\", name)\n",
    "    vsg_flat_rest[index] = clean    "
   ]
  },
  {
   "cell_type": "code",
   "execution_count": 519,
   "metadata": {},
   "outputs": [
    {
     "data": {
      "text/plain": [
       "['Hotel Axor Barajas',\n",
       " 'Rodilla',\n",
       " 'Telepizza',\n",
       " 'Distrito Vegano',\n",
       " 'Fridays Vaguada',\n",
       " 'Fit Fat Food',\n",
       " 'Telepizza',\n",
       " 'Ginos Caleruega',\n",
       " 'Viva Burger',\n",
       " 'Mc Donald´s']"
      ]
     },
     "execution_count": 519,
     "metadata": {},
     "output_type": "execute_result"
    }
   ],
   "source": [
    "vsg_flat_rest[20:30]"
   ]
  },
  {
   "cell_type": "code",
   "execution_count": 523,
   "metadata": {},
   "outputs": [
    {
     "data": {
      "text/plain": [
       "['Princesa 89, Intercambiador Moncloa - 28009 - Madrid (Madrid)',\n",
       " 'C.E. PARQUE NORTE / C/ Serrano Galvache, 56 - 28033 - Madrid (Madrid)',\n",
       " ' Paseo de las Yeserías, 7 dcha - 28005 - Madrid (Madrid)',\n",
       " 'Montera, 47 - 28013 - Madrid (Madrid)',\n",
       " 'Pº de la Castellana, 89 - 28046 - Madrid (Madrid)']"
      ]
     },
     "execution_count": 523,
     "metadata": {},
     "output_type": "execute_result"
    }
   ],
   "source": [
    "# Now do the same with the addresses: flatten and trim that extra white space\n",
    "vsg_flat_addr = [y for x in vsg_addr_tot for y in x]\n",
    "vsg_flat_addr[30:35]"
   ]
  },
  {
   "cell_type": "code",
   "execution_count": 524,
   "metadata": {},
   "outputs": [],
   "source": [
    "for index, addr in enumerate(vsg_flat_addr): \n",
    "    clean = re.sub(r\"^\\s\", \"\", addr)\n",
    "    vsg_flat_addr[index] = clean    "
   ]
  },
  {
   "cell_type": "code",
   "execution_count": 525,
   "metadata": {},
   "outputs": [
    {
     "data": {
      "text/plain": [
       "['Princesa 89, Intercambiador Moncloa - 28009 - Madrid (Madrid)',\n",
       " 'C.E. PARQUE NORTE / C/ Serrano Galvache, 56 - 28033 - Madrid (Madrid)',\n",
       " 'Paseo de las Yeserías, 7 dcha - 28005 - Madrid (Madrid)',\n",
       " 'Montera, 47 - 28013 - Madrid (Madrid)',\n",
       " 'Pº de la Castellana, 89 - 28046 - Madrid (Madrid)']"
      ]
     },
     "execution_count": 525,
     "metadata": {},
     "output_type": "execute_result"
    }
   ],
   "source": [
    "vsg_flat_addr[30:35]"
   ]
  },
  {
   "cell_type": "markdown",
   "metadata": {},
   "source": [
    "# Finally, we need to combine these lists into dictionaries"
   ]
  },
  {
   "cell_type": "code",
   "execution_count": null,
   "metadata": {},
   "outputs": [],
   "source": [
    "# These are lists of items\n",
    "gf_rest\n",
    "gf_addr\n",
    "hc_rest\n",
    "hc_addr\n",
    "\n",
    "# These are much longer lists that we might use\n",
    "vsg_flat_rest\n",
    "vsg_flat_addr"
   ]
  },
  {
   "cell_type": "code",
   "execution_count": 532,
   "metadata": {},
   "outputs": [],
   "source": [
    "# Lets let's make a function to do the work for us.\n",
    "gf_list = []\n",
    "\n",
    "def add_n_a_lists_to_dict(namelist, addresslist, list_dict):\n",
    "    results = set(zip(namelist,addresslist))\n",
    "    for tup in results:\n",
    "        dic = {}\n",
    "        dic[\"name\"] = tup[0]\n",
    "        dic[\"address\"] = tup[1]\n",
    "        list_dict.append(dic)\n",
    "    return list_dict"
   ]
  },
  {
   "cell_type": "code",
   "execution_count": null,
   "metadata": {},
   "outputs": [],
   "source": [
    "add_n_a_lists_to_dict(gf_rest,gf_addr, gf_list)\n",
    "add_n_a_lists_to_dict(hc_rest,hc_addr, gf_list)"
   ]
  },
  {
   "cell_type": "code",
   "execution_count": 539,
   "metadata": {},
   "outputs": [],
   "source": [
    "first_places = gf_list"
   ]
  },
  {
   "cell_type": "code",
   "execution_count": 541,
   "metadata": {},
   "outputs": [
    {
     "data": {
      "text/plain": [
       "48"
      ]
     },
     "execution_count": 541,
     "metadata": {},
     "output_type": "execute_result"
    }
   ],
   "source": [
    "len(first_places)"
   ]
  },
  {
   "cell_type": "code",
   "execution_count": 528,
   "metadata": {},
   "outputs": [
    {
     "data": {
      "text/plain": [
       "{'name': 'New York Burger',\n",
       " 'address': 'Calle del Gral Yagüe, 5, 28020 Madrid, Madrid, Spain'}"
      ]
     },
     "execution_count": 528,
     "metadata": {},
     "output_type": "execute_result"
    }
   ],
   "source": [
    "first_places[0]\n"
   ]
  },
  {
   "cell_type": "code",
   "execution_count": 529,
   "metadata": {},
   "outputs": [
    {
     "data": {
      "text/plain": [
       "[\"Alfredo's Barbacoa Restaurant\",\n",
       " 'Calle de Juan Hurtado de Mendoza, 11, 28036 Madrid, Madrid, Spain']"
      ]
     },
     "execution_count": 529,
     "metadata": {},
     "output_type": "execute_result"
    }
   ],
   "source": [
    "list(first_places[1].values())"
   ]
  },
  {
   "cell_type": "code",
   "execution_count": 454,
   "metadata": {},
   "outputs": [
    {
     "data": {
      "text/plain": [
       "\"Alfredo's Barbacoa Restaurant Calle de Juan Hurtado de Mendoza, 11, 28036 Madrid, Madrid, Spain\""
      ]
     },
     "execution_count": 454,
     "metadata": {},
     "output_type": "execute_result"
    }
   ],
   "source": [
    "\" \".join(list(first_places[1].values()))"
   ]
  },
  {
   "cell_type": "code",
   "execution_count": 542,
   "metadata": {},
   "outputs": [],
   "source": [
    "gf_list = []\n",
    "\n",
    "def add_n_a_lists_to_dict(namelist, addresslist, list_dict):\n",
    "    results = set(zip(namelist,addresslist))\n",
    "    for tup in results:\n",
    "        dic = {}\n",
    "        dic[\"name\"] = tup[0]\n",
    "        dic[\"address\"] = tup[1]\n",
    "        list_dict.append(dic)\n",
    "    return list_dict"
   ]
  },
  {
   "cell_type": "code",
   "execution_count": 543,
   "metadata": {},
   "outputs": [],
   "source": [
    "second_places = add_n_a_lists_to_dict(vsg_flat_rest,vsg_flat_addr, gf_list)"
   ]
  },
  {
   "cell_type": "code",
   "execution_count": 544,
   "metadata": {},
   "outputs": [
    {
     "data": {
      "text/plain": [
       "244"
      ]
     },
     "execution_count": 544,
     "metadata": {},
     "output_type": "execute_result"
    }
   ],
   "source": [
    "len(second_places)"
   ]
  },
  {
   "cell_type": "code",
   "execution_count": null,
   "metadata": {},
   "outputs": [],
   "source": [
    "%store first_places\n",
    "%store second_places\n",
    "# ERROR: maximum recursion depth exceeded while pickling an object"
   ]
  },
  {
   "cell_type": "code",
   "execution_count": 547,
   "metadata": {},
   "outputs": [
    {
     "name": "stdout",
     "output_type": "stream",
     "text": [
      "Stored 'dataset' (Bunch)\n"
     ]
    }
   ],
   "source": [
    "# The %store magic works fine here\n",
    "from sklearn import datasets\n",
    "dataset = datasets.load_iris()\n",
    "%store dataset"
   ]
  },
  {
   "cell_type": "markdown",
   "metadata": {},
   "source": [
    "-------------"
   ]
  },
  {
   "cell_type": "markdown",
   "metadata": {},
   "source": [
    "# For some reason pickling didn't work with `first_places` so we cut and paste... "
   ]
  },
  {
   "cell_type": "code",
   "execution_count": 559,
   "metadata": {},
   "outputs": [
    {
     "ename": "RecursionError",
     "evalue": "maximum recursion depth exceeded while calling a Python object",
     "output_type": "error",
     "traceback": [
      "\u001b[0;31m---------------------------------------------------------------------------\u001b[0m",
      "\u001b[0;31mRecursionError\u001b[0m                            Traceback (most recent call last)",
      "\u001b[0;32m<ipython-input-559-cbf0f97c3120>\u001b[0m in \u001b[0;36m<module>\u001b[0;34m\u001b[0m\n\u001b[1;32m      1\u001b[0m \u001b[0mpickle_out\u001b[0m \u001b[0;34m=\u001b[0m \u001b[0mopen\u001b[0m\u001b[0;34m(\u001b[0m\u001b[0;34m\"pickled/first_places.pickle\"\u001b[0m\u001b[0;34m,\u001b[0m\u001b[0;34m\"wb\"\u001b[0m\u001b[0;34m)\u001b[0m\u001b[0;34m\u001b[0m\u001b[0;34m\u001b[0m\u001b[0m\n\u001b[0;32m----> 2\u001b[0;31m \u001b[0mpickle\u001b[0m\u001b[0;34m.\u001b[0m\u001b[0mdump\u001b[0m\u001b[0;34m(\u001b[0m\u001b[0mfirst_places\u001b[0m\u001b[0;34m,\u001b[0m \u001b[0mpickle_out\u001b[0m\u001b[0;34m)\u001b[0m\u001b[0;34m\u001b[0m\u001b[0;34m\u001b[0m\u001b[0m\n\u001b[0m\u001b[1;32m      3\u001b[0m \u001b[0mpickle_out\u001b[0m\u001b[0;34m.\u001b[0m\u001b[0mclose\u001b[0m\u001b[0;34m(\u001b[0m\u001b[0;34m)\u001b[0m\u001b[0;34m\u001b[0m\u001b[0;34m\u001b[0m\u001b[0m\n\u001b[1;32m      4\u001b[0m \u001b[0;31m# maximum recursion depth exceeded while calling a Python object\u001b[0m\u001b[0;34m\u001b[0m\u001b[0;34m\u001b[0m\u001b[0;34m\u001b[0m\u001b[0m\n",
      "\u001b[0;32m/usr/local/lib/python3.8/site-packages/bs4/element.py\u001b[0m in \u001b[0;36m__getnewargs__\u001b[0;34m(self)\u001b[0m\n\u001b[1;32m    910\u001b[0m \u001b[0;34m\u001b[0m\u001b[0m\n\u001b[1;32m    911\u001b[0m     \u001b[0;32mdef\u001b[0m \u001b[0m__getnewargs__\u001b[0m\u001b[0;34m(\u001b[0m\u001b[0mself\u001b[0m\u001b[0;34m)\u001b[0m\u001b[0;34m:\u001b[0m\u001b[0;34m\u001b[0m\u001b[0;34m\u001b[0m\u001b[0m\n\u001b[0;32m--> 912\u001b[0;31m         \u001b[0;32mreturn\u001b[0m \u001b[0;34m(\u001b[0m\u001b[0mstr\u001b[0m\u001b[0;34m(\u001b[0m\u001b[0mself\u001b[0m\u001b[0;34m)\u001b[0m\u001b[0;34m,\u001b[0m\u001b[0;34m)\u001b[0m\u001b[0;34m\u001b[0m\u001b[0;34m\u001b[0m\u001b[0m\n\u001b[0m\u001b[1;32m    913\u001b[0m \u001b[0;34m\u001b[0m\u001b[0m\n\u001b[1;32m    914\u001b[0m     \u001b[0;32mdef\u001b[0m \u001b[0m__getattr__\u001b[0m\u001b[0;34m(\u001b[0m\u001b[0mself\u001b[0m\u001b[0;34m,\u001b[0m \u001b[0mattr\u001b[0m\u001b[0;34m)\u001b[0m\u001b[0;34m:\u001b[0m\u001b[0;34m\u001b[0m\u001b[0;34m\u001b[0m\u001b[0m\n",
      "\u001b[0;31mRecursionError\u001b[0m: maximum recursion depth exceeded while calling a Python object"
     ]
    }
   ],
   "source": [
    "pickle_out = open(\"/Users/claytonlouden/projects/final_project/pickled/first_places.pickle\",\"wb\")\n",
    "pickle.dump(first_places, pickle_out)\n",
    "pickle_out.close()\n",
    "# maximum recursion depth exceeded while calling a Python object"
   ]
  },
  {
   "cell_type": "markdown",
   "metadata": {},
   "source": [
    "# Save `second_places` "
   ]
  },
  {
   "cell_type": "code",
   "execution_count": 560,
   "metadata": {},
   "outputs": [],
   "source": [
    "pickle_out = open(\"/Users/claytonlouden/projects/final_project/pickled/second_places.pickle\",\"wb\")\n",
    "pickle.dump(second_places, pickle_out)\n",
    "pickle_out.close()"
   ]
  },
  {
   "cell_type": "markdown",
   "metadata": {},
   "source": [
    "-----------"
   ]
  },
  {
   "cell_type": "code",
   "execution_count": null,
   "metadata": {},
   "outputs": [],
   "source": []
  }
 ],
 "metadata": {
  "kernelspec": {
   "display_name": "Python 3",
   "language": "python",
   "name": "python3"
  },
  "language_info": {
   "codemirror_mode": {
    "name": "ipython",
    "version": 3
   },
   "file_extension": ".py",
   "mimetype": "text/x-python",
   "name": "python",
   "nbconvert_exporter": "python",
   "pygments_lexer": "ipython3",
   "version": "3.8.5"
  }
 },
 "nbformat": 4,
 "nbformat_minor": 4
}
